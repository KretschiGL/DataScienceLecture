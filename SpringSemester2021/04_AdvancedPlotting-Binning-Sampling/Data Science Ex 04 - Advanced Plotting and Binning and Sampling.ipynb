{
 "cells": [
  {
   "cell_type": "markdown",
   "metadata": {},
   "source": [
    "# Data Science Ex 04 - Advanced Plotting & Binning/Sampling"
   ]
  },
  {
   "cell_type": "markdown",
   "metadata": {},
   "source": [
    "24.02.2021, Lukas Kretschmar (lukas.kretschmar@ost.ch)"
   ]
  },
  {
   "cell_type": "markdown",
   "metadata": {},
   "source": [
    "## Let's have some more Fun with Visualization and Binning/Sampling!"
   ]
  },
  {
   "cell_type": "code",
   "execution_count": null,
   "metadata": {},
   "outputs": [],
   "source": [
    "import numpy as np\n",
    "import pandas as pd\n",
    "import matplotlib.pyplot as plt\n",
    "import seaborn as sns\n",
    "\n",
    "%matplotlib inline\n",
    "sns.set()"
   ]
  },
  {
   "cell_type": "markdown",
   "metadata": {},
   "source": [
    "## Introduction"
   ]
  },
  {
   "cell_type": "markdown",
   "metadata": {},
   "source": [
    "### Advanced Plotting"
   ]
  },
  {
   "cell_type": "markdown",
   "metadata": {},
   "source": [
    "#### Bar Charts"
   ]
  },
  {
   "cell_type": "markdown",
   "metadata": {},
   "source": [
    "Besides lines and points, we cannot survive without bar charts - so here you go."
   ]
  },
  {
   "cell_type": "code",
   "execution_count": null,
   "metadata": {},
   "outputs": [],
   "source": [
    "rng = np.random.RandomState(42)\n",
    "values = rng.randn(1000).round().astype(int)    # generating 1000 normal distributed values N(0,1)\n",
    "x = np.arange(values.min(), values.max())       # get bins (int) from min to max\n",
    "h = [(values == i).sum() for i in x]            # count occurrences per bin\n",
    "\n",
    "fig, ax = plt.subplots()\n",
    "ax.bar(x, h)"
   ]
  },
  {
   "cell_type": "markdown",
   "metadata": {},
   "source": [
    "It is also possible to draw a horizontal bar chart."
   ]
  },
  {
   "cell_type": "code",
   "execution_count": null,
   "metadata": {},
   "outputs": [],
   "source": [
    "fig, ax = plt.subplots()\n",
    "ax.barh(x, h)"
   ]
  },
  {
   "cell_type": "markdown",
   "metadata": {},
   "source": [
    "And we can stack values on top of each other - simply by calling the method multiple times."
   ]
  },
  {
   "cell_type": "code",
   "execution_count": null,
   "metadata": {},
   "outputs": [],
   "source": [
    "h2 = rng.randint(50, 150, len(x))\n",
    "\n",
    "fig, ax = plt.subplots(3, figsize=(7, 10), constrained_layout=True)\n",
    "ax[0].bar(x, h)\n",
    "ax[0].bar(x, h2, bottom=h) # here we define how to stack - basically, where the bottom should be\n",
    "ax[0].set(title=\"Vertical Stack\", ylim=(0,500))\n",
    "\n",
    "ax[1].bar(x, h)\n",
    "ax[1].bar(x, h2, alpha=.5) # without the bottom-parameter, bars overlap\n",
    "ax[1].set(title=\"No Stack, but Overlap\", ylim=(0,500))\n",
    "\n",
    "ax[2].barh(x, h)\n",
    "ax[2].barh(x, h2, left=h)\n",
    "ax[2].set(title=\"Vertical Stack\", xlim=(0,500))"
   ]
  },
  {
   "cell_type": "markdown",
   "metadata": {},
   "source": [
    "Or we can group bars.\n",
    "It's a bit tricky, but you get the idea.\n",
    "We just have to tweak the location of our *x* values a bit."
   ]
  },
  {
   "cell_type": "code",
   "execution_count": null,
   "metadata": {},
   "outputs": [],
   "source": [
    "fig, ax = plt.subplots()\n",
    "width = .4\n",
    "ax.barh(x - width/2, h, width)\n",
    "ax.barh(x + width/2, h2, width)"
   ]
  },
  {
   "cell_type": "markdown",
   "metadata": {},
   "source": [
    "#### Pie Charts"
   ]
  },
  {
   "cell_type": "markdown",
   "metadata": {},
   "source": [
    "How could we live without pie charts?\n",
    "\\- We cannot!\n",
    "\n",
    "Thus..."
   ]
  },
  {
   "cell_type": "code",
   "execution_count": null,
   "metadata": {},
   "outputs": [],
   "source": [
    "labels = [\"1/3\", \"1/4\", \"1/6\", \"1/9\", \"1/12\", \"1/18\"]\n",
    "sizes = [1/3, 1/4, 1/6, 1/9, 1/12, 1/18]\n",
    "explode = [0, 0.1, 0, 0, 0, 0.5] # define the breakouts\n",
    "\n",
    "fig, ax = plt.subplots()\n",
    "ax.pie(sizes, explode=explode, labels=labels, autopct=\"%1.2f%%\", shadow=True, startangle=45)"
   ]
  },
  {
   "cell_type": "markdown",
   "metadata": {},
   "source": [
    "#### Histograms"
   ]
  },
  {
   "cell_type": "markdown",
   "metadata": {},
   "source": [
    "Bar charts and pie charts are good to show quantities, but they do not respect the order of values.\n",
    "If the order is important, we can use histograms."
   ]
  },
  {
   "cell_type": "code",
   "execution_count": null,
   "metadata": {},
   "outputs": [],
   "source": [
    "rng = np.random.RandomState(42)\n",
    "normalDist = rng.randn(10000)\n",
    "\n",
    "fig, ax = plt.subplots()\n",
    "ax.hist(normalDist)"
   ]
  },
  {
   "cell_type": "markdown",
   "metadata": {},
   "source": [
    "As you may noticed, we threw an array of 10000 values into the method, and we got bars.\n",
    "So there must be some sort of binning (spoiler alert - upcomming topic in this notebook) within the method.\n",
    "The default is `10`, but we can easily set it to another value."
   ]
  },
  {
   "cell_type": "code",
   "execution_count": null,
   "metadata": {},
   "outputs": [],
   "source": [
    "fig, ax = plt.subplots()\n",
    "ax.hist(normalDist, bins=50)"
   ]
  },
  {
   "cell_type": "markdown",
   "metadata": {},
   "source": [
    "If we only want to see a subset of all bins, we can define an array of bin boundaries and the histogram will only show the values of these bins."
   ]
  },
  {
   "cell_type": "code",
   "execution_count": null,
   "metadata": {},
   "outputs": [],
   "source": [
    "fig, ax = plt.subplots()\n",
    "ax.hist(normalDist, bins=[-1,-.5,0,.5,1,1.5,2])"
   ]
  },
  {
   "cell_type": "markdown",
   "metadata": {},
   "source": [
    "Besides the number of bins, we have some more parameters we can use to customize our histograms.\n",
    "- `density` normalizes the histogram so that the sum of the area is equal to 1\n",
    "- `cumulative` adds to each bin the sum of all bins to its left\n",
    "- `histtype` changes the appearance of the histogram\n",
    "  - `bar` draws bars (default)\n",
    "  - `barstacked` draws bars on top of each other when multiple hisograms are plotted\n",
    "  - `step` draws a line\n",
    "  - `stepfilled` draws an area"
   ]
  },
  {
   "cell_type": "code",
   "execution_count": null,
   "metadata": {},
   "outputs": [],
   "source": [
    "fig, ax = plt.subplots()\n",
    "ax.hist(normalDist, bins=20, density=True, alpha=.5, color=\"r\", edgecolor=\"b\")"
   ]
  },
  {
   "cell_type": "code",
   "execution_count": null,
   "metadata": {},
   "outputs": [],
   "source": [
    "fig, ax = plt.subplots()\n",
    "ax.hist(normalDist, bins=40, cumulative=True)"
   ]
  },
  {
   "cell_type": "code",
   "execution_count": null,
   "metadata": {},
   "outputs": [],
   "source": [
    "fig, ax = plt.subplots()\n",
    "ax.hist(normalDist, bins=50, density=True, cumulative=True)"
   ]
  },
  {
   "cell_type": "code",
   "execution_count": null,
   "metadata": {},
   "outputs": [],
   "source": [
    "fig, ax = plt.subplots(1,2,figsize=(20,4))\n",
    "ax[0].hist(normalDist, bins=20, histtype=\"step\")\n",
    "ax[0].set(title=\"step\")\n",
    "ax[1].hist(normalDist, bins=20, histtype=\"stepfilled\")\n",
    "ax[1].set(title=\"stepfilled\")"
   ]
  },
  {
   "cell_type": "markdown",
   "metadata": {},
   "source": [
    "#### Visualizing Errors"
   ]
  },
  {
   "cell_type": "markdown",
   "metadata": {},
   "source": [
    "When working with empirical data, we know that there is uncertainty.\n",
    "And as you can imagine, Matplotlib got you covered for this case as well - with the `errorbar()` method."
   ]
  },
  {
   "cell_type": "code",
   "execution_count": null,
   "metadata": {},
   "outputs": [],
   "source": [
    "fig, ax = plt.subplots()\n",
    "x = np.linspace(0, 10, 20)\n",
    "y = np.sin(x)\n",
    "ax.plot(x, y, c=\"red\")\n",
    "ax.errorbar(x, y, fmt=\"o\", yerr=.5, capsize=3, ecolor=\"gray\")"
   ]
  },
  {
   "cell_type": "markdown",
   "metadata": {},
   "source": [
    "We can also show errors in multiple directions and individually for each point."
   ]
  },
  {
   "cell_type": "code",
   "execution_count": null,
   "metadata": {},
   "outputs": [],
   "source": [
    "rng = np.random.RandomState(42)\n",
    "px = rng.randn(25)\n",
    "ex = rng.rand(25) / 2\n",
    "py = rng.randn(25)\n",
    "ey = rng.rand(25) / 2\n",
    "\n",
    "fig, ax = plt.subplots()\n",
    "ax.errorbar(px, py, fmt=\".\", xerr=ex, yerr=ey, ecolor=\"r\", capsize=2)\n",
    "ax.scatter(px, py, marker=\"s\", c=\"b\")\n",
    "ax.axis(\"equal\") # keeping distance in both directions the same"
   ]
  },
  {
   "cell_type": "markdown",
   "metadata": {},
   "source": [
    "#### Text & Annotations"
   ]
  },
  {
   "cell_type": "markdown",
   "metadata": {},
   "source": [
    "Although, visualizing data helps us understanding it better than just looking on numbers, we still need the ability to show text to highlight findings.\n",
    "Until now, we learned how to apply labels and titles on plots.\n",
    "But what if we want to write into the figure?\n",
    "\n",
    "Matplotlib offers a `text()` method to indivudually show text within a figure.\n",
    "And `annotate()` to highlight points.\n",
    "\n",
    "`text()` needs at least the following information\n",
    "- a value on the horizontal axis\n",
    "- a value on the vertical axis\n",
    "- the text to show\n",
    "\n",
    "Additinally, we can also define the alignment `ha` of the text, and other style information (like `color`, `size`, etc.)"
   ]
  },
  {
   "cell_type": "markdown",
   "metadata": {},
   "source": [
    "In the example below, we use the information returned from the `hist()` method.\n",
    "We get a tuple with 3 different values.\n",
    "The first value `freq` contains the count of each bin.\n",
    "The second value `bins` contains the boundaries of the bins.\n",
    "And the last value we can ignore (we need a variable, though, to unpack the tuple).\n",
    "\n",
    "Thus, `freq[0]` contains the height of the first bin, and `freq[-1]` contains the height of the last bin.\n",
    "The same is true for `bins`, `bins[1]` is just the value to the right of the left outermost bin, and `bins[-2]` is the value to the left of the right outermost bin.\n",
    "The location of the mode is calculated by finding the left and right side of the corresponding bin.\n",
    "We use this information to place our texts (the `+ 5` is just here so the text is above the top of the bin)."
   ]
  },
  {
   "cell_type": "code",
   "execution_count": null,
   "metadata": {},
   "outputs": [],
   "source": [
    "rng = np.random.RandomState(42)\n",
    "tri = rng.triangular(2, 6, 8, 10000)\n",
    "\n",
    "fig, ax = plt.subplots(figsize=(20,4))\n",
    "(freq, bins, p) = ax.hist(tri, bins=50)\n",
    "ax.text(bins[1], freq[0] + 5, \"min\", ha=\"right\", color=\"g\", size=14)\n",
    "ax.text(bins[-2], freq[-1] + 5, \"max\", ha=\"left\", size=14)\n",
    "i = np.where(freq == freq.max())[0] # finding the index of the max value = mode\n",
    "ax.text(np.mean([bins[i], bins[i+1]]), freq.max() + 5, \"mode\", ha=\"center\", size=18, alpha=.5)"
   ]
  },
  {
   "cell_type": "markdown",
   "metadata": {},
   "source": [
    "If simple text is not enough, we can go a step further and use the `annotate()` method.\n",
    "In addition to `text()` that takes one corrdinate for the text, `annotate()` takes two corrdinates to position text and where it belongs to.\n",
    "And between text and target, an arrow is drawn.\n",
    "We won't go to much into details, but you can find the documentation [here](https://matplotlib.org/api/_as_gen/matplotlib.pyplot.annotate.html)."
   ]
  },
  {
   "cell_type": "code",
   "execution_count": null,
   "metadata": {},
   "outputs": [],
   "source": [
    "rng = np.random.RandomState(42)\n",
    "tri = rng.triangular(2, 6, 8, 10000)\n",
    "\n",
    "fig, ax = plt.subplots(figsize=(20,4))\n",
    "(freq, bins, p) = ax.hist(tri, bins=50)\n",
    "\n",
    "# min\n",
    "minPoint = (np.mean([bins[0], bins[1]]), freq[0] + 2)\n",
    "ax.annotate(\"min\", xy=minPoint, xycoords=\"data\", xytext=(-20, 100), textcoords=\"offset points\",\n",
    "            ha=\"right\", color=\"g\", size=14,\n",
    "            arrowprops=dict(arrowstyle=\"fancy\", ec=\"g\", fc=\"g\", connectionstyle=\"angle3,angleA=0,angleB=-120\"))\n",
    "\n",
    "# max\n",
    "maxPoint = (bins[-1], freq[-1] + 2)\n",
    "ax.annotate(\"max\", xy=maxPoint, xycoords=\"data\", xytext=(50, 50), textcoords=\"offset points\",\n",
    "            ha=\"left\", size=14,\n",
    "            arrowprops=dict(arrowstyle=\"-|>\", ec=\"k\"))\n",
    "\n",
    "# mode\n",
    "i = np.where(freq == freq.max())[0] # finding the index of the max value = mode\n",
    "modePoint = (np.mean([bins[i], bins[i+1]]), freq.max() + 2)\n",
    "ax.annotate(\"mode\", xy=modePoint, xycoords=\"data\", xytext=(-100, -10), textcoords=\"offset points\",\n",
    "            ha=\"center\", size=18,\n",
    "            bbox=dict(boxstyle=\"round\", fc=\"white\", ec=\"k\", alpha=.5),\n",
    "            arrowprops=dict(arrowstyle=\"-\", fc=\"gray\", ec=\"gray\", connectionstyle=\"angle3,angleA=45,angleB=90\"))\n",
    "\n",
    "# range\n",
    "startRange = (3,250)\n",
    "endRange = (4, 250)\n",
    "ax.annotate(\"\", xy=startRange, xycoords=\"data\", xytext=endRange, textcoords=\"data\",\n",
    "            arrowprops=dict(arrowstyle=\"|-|,widthA=.8,widthB=.4\", ec=\"r\"))\n",
    "ax.annotate(\"Range from 3 to 4\", xy=(3.5, 250), xycoords=\"data\", xytext=(0,5), textcoords=\"offset points\",\n",
    "            ha=\"center\", c=\"r\", size=14)"
   ]
  },
  {
   "cell_type": "markdown",
   "metadata": {},
   "source": [
    "### Plots with Pandas"
   ]
  },
  {
   "cell_type": "markdown",
   "metadata": {},
   "source": [
    "Reference: https://pandas.pydata.org/pandas-docs/stable/user_guide/visualization.html"
   ]
  },
  {
   "cell_type": "markdown",
   "metadata": {},
   "source": [
    "For the following examples, we'll work with a dataset containing game sales information."
   ]
  },
  {
   "cell_type": "code",
   "execution_count": null,
   "metadata": {},
   "outputs": [],
   "source": [
    "games = pd.read_csv(\"./Demo_VideoGames.csv\")\n",
    "games.head(5)"
   ]
  },
  {
   "cell_type": "markdown",
   "metadata": {},
   "source": [
    "You now know how to do basic data visualization with Matplotlib.\n",
    "Luckily for us, many of the previously introduced methods are already available for `DataFrames` and `Series`.\n",
    "So there is usually no need to throw values at an axis, but you still can."
   ]
  },
  {
   "cell_type": "code",
   "execution_count": null,
   "metadata": {},
   "outputs": [],
   "source": [
    "top5Games = games.head(5).sort_values(\"Global_Sales\")\n",
    "\n",
    "fig, ax = plt.subplots()\n",
    "ax.barh(top5Games[\"Name\"], top5Games[\"Global_Sales\"])"
   ]
  },
  {
   "cell_type": "markdown",
   "metadata": {},
   "source": [
    "The following plots are directly supported by `DataFrames` or `Series`:\n",
    "- `plot()` generic method used by every other method\n",
    "- `bar()` and `barh()`\n",
    "- `hist()`\n",
    "- `box()`\n",
    "- `kde()` or `density()`\n",
    "- `area()`\n",
    "- `scatter()`\n",
    "- `hexbin()`\n",
    "- `pie()`\n",
    "\n",
    "These methods (with the exception of `plot()`) are accesbile through the `plot` property on a `DataFrame` or `Series`.\n",
    "\n",
    "We will show some examples how you can use these methods, but we won't go too much into detail.\n",
    "Using plots is mostly learning by doing and relies heavily on ones imagination.\n",
    "And it's up to you to do some exploration on your own."
   ]
  },
  {
   "cell_type": "markdown",
   "metadata": {},
   "source": [
    "Let's say, we want to show the number of games per platform in a bar chart."
   ]
  },
  {
   "cell_type": "code",
   "execution_count": null,
   "metadata": {},
   "outputs": [],
   "source": [
    "games[\"Platform\"].value_counts().plot.bar(figsize=(12,6))"
   ]
  },
  {
   "cell_type": "markdown",
   "metadata": {},
   "source": [
    "We can also combine this method with the already known plot methods.\n",
    "This is probably the best approach as soon as you want to visualize multiple plots as subplots with Pandas since you create the axis first and the define where to plot what.\n",
    "But at the end, it's up to you, how you want to arrange your plots."
   ]
  },
  {
   "cell_type": "code",
   "execution_count": null,
   "metadata": {},
   "outputs": [],
   "source": [
    "fig, ax = plt.subplots(figsize=(12,6))\n",
    "top10Platforms = games[\"Platform\"].value_counts().plot.bar(ax=ax)"
   ]
  },
  {
   "cell_type": "markdown",
   "metadata": {},
   "source": [
    "Let's go on with some more visualizations."
   ]
  },
  {
   "cell_type": "markdown",
   "metadata": {},
   "source": [
    "We can also show the number of games released per year."
   ]
  },
  {
   "cell_type": "code",
   "execution_count": null,
   "metadata": {},
   "outputs": [],
   "source": [
    "releases = games[\"Year_of_Release\"]\n",
    "years = releases.max() - releases.min()\n",
    "releases.plot.hist(figsize=(20,6), bins=years)"
   ]
  },
  {
   "cell_type": "markdown",
   "metadata": {},
   "source": [
    "Having numbers of sales, we could show how the sales of the best sold game are distributed amongst the regions."
   ]
  },
  {
   "cell_type": "code",
   "execution_count": null,
   "metadata": {},
   "outputs": [],
   "source": [
    "bestSoldGame = games[games[\"Global_Sales\"] == games[\"Global_Sales\"].max()]\n",
    "sales = bestSoldGame[[\"NA_Sales\", \"EU_Sales\", \"JP_Sales\", \"Other_Sales\"]]\n",
    "print(\"01 - Sales\")\n",
    "print(sales)\n",
    "\n",
    "sales = sales.T\n",
    "print()\n",
    "print(\"02 - Sales as DataFrame\")\n",
    "print(sales)\n",
    "\n",
    "sales = sales.rename(columns={0 : \"Regional Sales\"})\n",
    "print()\n",
    "print(\"03 - Defining Name for Column\")\n",
    "print(sales)\n",
    "\n",
    "sales = sales.rename(index=lambda i : i.replace(\"_Sales\", \"\"))\n",
    "print()\n",
    "print(\"04 - Removing '_Sales' suffix from index\")\n",
    "print(sales)\n",
    "\n",
    "highlighEU = [0,.2,0,0]\n",
    "sales.plot.pie(subplots=True, shadow=True, explode=highlighEU, startangle=45,\n",
    "               title=f\"Global Sales of {bestSoldGame['Name'][0]}\",\n",
    "               autopct=\"%.2f%%\", legend=False)"
   ]
  },
  {
   "cell_type": "markdown",
   "metadata": {},
   "source": [
    "Or we can show how many titles per genre were released each year."
   ]
  },
  {
   "cell_type": "code",
   "execution_count": null,
   "metadata": {},
   "outputs": [],
   "source": [
    "genrePerYear = games.groupby([\"Year_of_Release\", \"Genre\"]).agg(\"Genre\").count()\n",
    "print(\"01 - Genre per Year\")\n",
    "print(genrePerYear)\n",
    "\n",
    "genrePerYear = genrePerYear.unstack()\n",
    "print()\n",
    "print(\"02 - First 5 Years with Genre as Columns\")\n",
    "print(genrePerYear[:5])\n",
    "\n",
    "ax = genrePerYear.plot.area(figsize=(20,6))\n",
    "ax.set(xlabel=\"Release Date\", ylabel=\"Games per Year\")"
   ]
  },
  {
   "cell_type": "markdown",
   "metadata": {},
   "source": [
    "Or how popular genres are by year."
   ]
  },
  {
   "cell_type": "code",
   "execution_count": null,
   "metadata": {},
   "outputs": [],
   "source": [
    "genres = games[\"Genre\"].unique()\n",
    "genreIds = dict(zip(genres, range(len(genres))))\n",
    "print(\"01 - Assigned Numbers to Genres\")\n",
    "print(genreIds)\n",
    "\n",
    "games[\"GenreId\"] = games[\"Genre\"].replace(genreIds)\n",
    "print()\n",
    "print(\"02 - Adding GenreId as new Column\")\n",
    "print(games[[\"Genre\", \"GenreId\"]])\n",
    "\n",
    "ax = games.plot.scatter(x=\"Year_of_Release\", y=\"Global_Sales\", s=200, c=\"GenreId\", cmap=\"rainbow\", alpha=.5, colorbar=False, figsize=(20,5))\n",
    "ax.set(xlabel=\"Release Year\", ylabel=\"Global Sales\", title=\"Global Sales per Genre\")\n",
    "\n",
    "colorbar = ax.get_figure().colorbar(ax=ax, mappable=ax.collections[0])\n",
    "colorbar.set_ticks(list(genreIds.values()))\n",
    "colorbar.set_ticklabels(list(genreIds.keys()))"
   ]
  },
  {
   "cell_type": "markdown",
   "metadata": {},
   "source": [
    "And we can go one step further.\n",
    "How about a comparison between sales in the european region compared to north america and japan, by platform and global sales, of the top 1% of games of each region."
   ]
  },
  {
   "cell_type": "code",
   "execution_count": null,
   "metadata": {},
   "outputs": [],
   "source": [
    "platforms = [\"PC\", \"XB\", \"X360\", \"XOne\", \"PS\", \"PS2\", \"PS3\", \"PS4\", \"PSV\", \"N64\", \"Wii\", \"WiiU\", \"GB\", \"GC\", \"GBA\", \"DS\", \"3DS\"]\n",
    "myGames = games[(games[\"Platform\"].isin(platforms))]\n",
    "\n",
    "xlim = (-1, myGames[\"EU_Sales\"].max() + 1)\n",
    "ylim = (-1, myGames[[\"NA_Sales\", \"JP_Sales\"]].max().max() + 5)\n",
    "\n",
    "platformNumbers = list(range(len(platforms)))\n",
    "platformIds = dict(zip(platforms, platformNumbers))\n",
    "cmap = \"rainbow\"\n",
    "alpha = .6\n",
    "style = {\"cmap\":cmap, \"vmin\":platformNumbers[0], \"vmax\":platformNumbers[-1], \"alpha\":alpha, \"colorbar\": False}\n",
    "\n",
    "def setColorbar(fig, ax, labelDict):\n",
    "    colorbar = fig.colorbar(ax=ax, mappable=ax.collections[0])\n",
    "    colorbar.set_ticks(list(labelDict.values()))\n",
    "    colorbar.set_ticklabels(list(labelDict.keys()))\n",
    "\n",
    "def getSizeAndColors(games):\n",
    "    return games[\"Global_Sales\"] * 10, games[\"Platform\"].replace(platformIds)\n",
    "\n",
    "topPercent = .01    \n",
    "\n",
    "naGames = myGames[myGames[\"NA_Sales\"] >= myGames[\"NA_Sales\"].quantile(1-topPercent)]\n",
    "naSizes, naColors = getSizeAndColors(naGames)\n",
    "\n",
    "jpGames = myGames[myGames[\"JP_Sales\"] >= myGames[\"JP_Sales\"].quantile(1-topPercent)]\n",
    "jpSizes, jpColors = getSizeAndColors(jpGames)\n",
    "\n",
    "fig, ax = plt.subplots(2,1, figsize=(20, 10))\n",
    "axNA = naGames.plot.scatter(ax=ax[0], x=\"EU_Sales\", y=\"NA_Sales\", s=naSizes, c=naColors, **style)\n",
    "axNA.set(xlim=xlim, ylim=ylim, xlabel=\"EU\", ylabel=\"NA\", title=\"Regional Sales Comaprison (EU vs NA)\")\n",
    "setColorbar(fig, axNA, platformIds)\n",
    "ax[0].plot([0, 50], [0, 50], \":k\", alpha=.6) # line to see correlation\n",
    "\n",
    "axJP = jpGames.plot.scatter(ax=ax[1], x=\"EU_Sales\", y=\"JP_Sales\", s=jpSizes, c=jpColors, **style)\n",
    "axJP.set(xlim=xlim, ylim=ylim, xlabel=\"EU\", ylabel=\"JP\", title=\"Regional Sales Comparison (EU vs JP)\")\n",
    "setColorbar(fig, axJP, platformIds)\n",
    "ax[1].plot([0, 50], [0, 50], \":k\", alpha=.6) # line to see correlation\n",
    "\n",
    "# Findings\n",
    "def getCoord(game, sales, offset=None):\n",
    "    corr = offset or (0,0)\n",
    "    return (game[\"EU_Sales\"] + corr[0], game[sales] + corr[1])\n",
    "\n",
    "wiiSports = games[games[\"Name\"] == \"Wii Sports\"]\n",
    "axNA.annotate(\"Wii Sports\", xy=getCoord(wiiSports, \"NA_Sales\", (-.2,-3)), xytext=(-100, -50), textcoords=\"offset points\", \n",
    "              arrowprops=dict(arrowstyle=\"fancy\", ec=\"g\", fc=\"g\", connectionstyle=\"angle3,angleA=0,angleB=-120\"))\n",
    "axJP.annotate(\"Wii Sports\", xy=getCoord(wiiSports, \"JP_Sales\", (-.2,3)), xytext=(-100, 50), textcoords=\"offset points\", \n",
    "              arrowprops=dict(arrowstyle=\"fancy\", ec=\"g\", fc=\"g\", connectionstyle=\"angle3,angleA=0,angleB=120\"))\n",
    "\n",
    "axNA.annotate(\"XBox Games\", xy=(4,12), xytext=(50, 50), textcoords=\"offset points\", \n",
    "              arrowprops=dict(arrowstyle=\"fancy\", ec=\"purple\", fc=\"blue\", alpha=.5, connectionstyle=\"angle3,angleA=0,angleB=120\"))\n",
    "axJP.annotate(\"No XBox Games\", xy=(4,15), xytext=(50, 50), textcoords=\"offset points\", \n",
    "              arrowprops=dict(arrowstyle=\"fancy\", ec=\"purple\", fc=\"blue\", alpha=.5, connectionstyle=\"angle3,angleA=0,angleB=-120\"))\n",
    "\n",
    "axJP.annotate(\"\", xy=(0, 10), xytext=(5,10), arrowprops=dict(arrowstyle=\"|-|,widthA=.4,widthB=.4\",ec=\"r\"))\n",
    "axJP.annotate(\"Handheld Games\", xy=(2.5, 10), xytext=(0,5), textcoords=\"offset points\", ha=\"center\")\n",
    "\n",
    "pokemonRedBlue = games[games[\"Name\"] == \"Pokemon Red/Pokemon Blue\"]\n",
    "axJP.annotate(\"Pokemon Red/Pokemon Blue\", xy=getCoord(pokemonRedBlue, \"JP_Sales\", (.1,2)), xytext=(100, 50), textcoords=\"offset points\", \n",
    "              arrowprops=dict(arrowstyle=\"fancy\", ec=\"r\", fc=\"orange\", alpha=.5, connectionstyle=\"angle3,angleA=0,angleB=75\"))"
   ]
  },
  {
   "cell_type": "markdown",
   "metadata": {},
   "source": [
    "#### 3D"
   ]
  },
  {
   "cell_type": "markdown",
   "metadata": {},
   "source": [
    "And if you really want to up your game, there is also 3D support.\n",
    "But we won't go into details."
   ]
  },
  {
   "cell_type": "code",
   "execution_count": null,
   "metadata": {},
   "outputs": [],
   "source": [
    "from mpl_toolkits.mplot3d import Axes3D\n",
    "fig = plt.figure()\n",
    "ax = fig.add_subplot(111, projection=\"3d\")\n",
    "\n",
    "# Line\n",
    "xline = np.linspace(0, 15, 1000)\n",
    "yline = np.sin(xline)\n",
    "zline = np.cos(xline)\n",
    "ax.plot(xline, yline, zline, c=\"k\", alpha=.5)\n",
    "\n",
    "# Points\n",
    "xdata = 15 * np.random.random(100)\n",
    "ydata = np.sin(xdata)\n",
    "zdata = np.cos(xdata)\n",
    "ax.scatter(xdata, ydata, zdata, c=xdata, cmap=\"rainbow\")"
   ]
  },
  {
   "cell_type": "markdown",
   "metadata": {},
   "source": [
    "And if you want to have even more fun, have a look at [BaseMap](https://matplotlib.org/basemap/) - I'm just saying...\n",
    "\n",
    "<tr>\n",
    "    <td><img src=\"https://matplotlib.org/basemap/_images/ortho_full.png\" style=\"height:250px;float:left\" /></td>\n",
    "    <td><img src=\"https://matplotlib.org/basemap/_images/background3.png\" style=\"height:250px;float:left\" /></td>\n",
    "    <td><img src=\"https://matplotlib.org/basemap/_images/background4.png\" style=\"height:250px;float:left\" /></td>\n",
    "</tr>"
   ]
  },
  {
   "cell_type": "markdown",
   "metadata": {},
   "source": [
    "### Binning"
   ]
  },
  {
   "cell_type": "markdown",
   "metadata": {},
   "source": [
    "You have already seen simple approaches on how to bin values.\n",
    "Above, you have examples of histograms where the bins are returned when plotting.\n",
    "And there are quite simple methods to normalize numeric values."
   ]
  },
  {
   "cell_type": "code",
   "execution_count": null,
   "metadata": {},
   "outputs": [],
   "source": [
    "rng = np.random.RandomState(42)\n",
    "numbers = pd.DataFrame(rng.rand(1000000) * 100, columns=[\"values\"])\n",
    "numbers.head(5)"
   ]
  },
  {
   "cell_type": "markdown",
   "metadata": {},
   "source": [
    "Having values we can apply simple methods to find common values."
   ]
  },
  {
   "cell_type": "code",
   "execution_count": null,
   "metadata": {},
   "outputs": [],
   "source": [
    "numbers[\"bin (.1)\"] = np.round(numbers[\"values\"], 1)\n",
    "numbers[\"bin (10)\"] = np.round(numbers[\"values\"] / 10) * 10\n",
    "numbers.head(5)"
   ]
  },
  {
   "cell_type": "code",
   "execution_count": null,
   "metadata": {},
   "outputs": [],
   "source": [
    "numbers.groupby(\"bin (.1)\")[\"values\"].count()"
   ]
  },
  {
   "cell_type": "code",
   "execution_count": null,
   "metadata": {},
   "outputs": [],
   "source": [
    "numbers.groupby(\"bin (10)\")[\"values\"].count()"
   ]
  },
  {
   "cell_type": "markdown",
   "metadata": {},
   "source": [
    "Besides these two approaches, Pandas offers some handy functions to do more complex binning.\n",
    "\n",
    "- `pd.cut()` creates bins according to given boundaries (equal width)*\n",
    "- `pd.qcut()` creates bins according to quantiles (equal frequency)*\n",
    "\n",
    "*if not specified otherwise"
   ]
  },
  {
   "cell_type": "code",
   "execution_count": null,
   "metadata": {},
   "outputs": [],
   "source": [
    "games = pd.read_csv(\"./Demo_VideoGames.csv\")\n",
    "games.head(5)"
   ]
  },
  {
   "cell_type": "markdown",
   "metadata": {},
   "source": [
    "Reference: https://pandas.pydata.org/pandas-docs/stable/reference/api/pandas.cut.html"
   ]
  },
  {
   "cell_type": "code",
   "execution_count": null,
   "metadata": {},
   "outputs": [],
   "source": [
    "equalWidth = pd.cut(games[\"Global_Sales\"], bins=4)\n",
    "print(equalWidth.value_counts())\n",
    "print(equalWidth)"
   ]
  },
  {
   "cell_type": "markdown",
   "metadata": {},
   "source": [
    "Reference: https://pandas.pydata.org/pandas-docs/stable/reference/api/pandas.qcut.html"
   ]
  },
  {
   "cell_type": "code",
   "execution_count": null,
   "metadata": {},
   "outputs": [],
   "source": [
    "equalFreq = pd.qcut(games[\"Global_Sales\"], q=4)\n",
    "print(equalFreq.value_counts())\n",
    "print(equalFreq)"
   ]
  },
  {
   "cell_type": "code",
   "execution_count": null,
   "metadata": {},
   "outputs": [],
   "source": [
    "fig, ax = plt.subplots(2,2,figsize=(15,10), constrained_layout=True)\n",
    "equalWidth.value_counts(sort=False).plot.bar(ax=ax[0,0], rot=0, title=\"cut()\")\n",
    "equalWidth.value_counts(sort=False).plot.bar(ax=ax[1,0], rot=0, title=\"cut() - zoomed-in\", ylim=(0,50))\n",
    "\n",
    "equalFreq.value_counts(sort=False).plot.bar(ax=ax[0,1], rot=0, title=\"qcut()\")\n",
    "ax[1,1].remove() # not showing the right bottom panel"
   ]
  },
  {
   "cell_type": "markdown",
   "metadata": {},
   "source": [
    "These methods also offer some more features.\n",
    "If we want, we can get the boundaries back separately by using the `retbins` parameter."
   ]
  },
  {
   "cell_type": "code",
   "execution_count": null,
   "metadata": {},
   "outputs": [],
   "source": [
    "result, bins = pd.cut(games[\"Global_Sales\"], bins=4, retbins=True)\n",
    "print(bins)"
   ]
  },
  {
   "cell_type": "markdown",
   "metadata": {},
   "source": [
    "Or we can define our own boundaries."
   ]
  },
  {
   "cell_type": "code",
   "execution_count": null,
   "metadata": {},
   "outputs": [],
   "source": [
    "result = pd.cut(games[\"Global_Sales\"], bins=[0, 10, 25, 60, 90])\n",
    "print(result)\n",
    "print(result.value_counts())"
   ]
  },
  {
   "cell_type": "code",
   "execution_count": null,
   "metadata": {},
   "outputs": [],
   "source": [
    "result = pd.qcut(games[\"Global_Sales\"], q=[0, .5, .75, .99, 1])\n",
    "print(result)\n",
    "print(result.value_counts())"
   ]
  },
  {
   "cell_type": "markdown",
   "metadata": {},
   "source": [
    "And we can even provid our own lables."
   ]
  },
  {
   "cell_type": "code",
   "execution_count": null,
   "metadata": {},
   "outputs": [],
   "source": [
    "games[\"Feedback\"] = pd.cut(games[\"Global_Sales\"], bins=[0, 10, 40, 75, 100], labels=[\"Crappy\", \"Mediocre\", \"Good\", \"Bestseller\"])\n",
    "print(games[\"Feedback\"].value_counts(sort=False))\n",
    "games[games[\"Feedback\"].isin([\"Good\", \"Bestseller\"])]"
   ]
  },
  {
   "cell_type": "markdown",
   "metadata": {},
   "source": [
    "### Sampling"
   ]
  },
  {
   "cell_type": "markdown",
   "metadata": {},
   "source": [
    "Working with large datasets, it might be a good idea to reduce the entries used to work with (for e.g. better performance or getting test and train datasets (topic of other exercise)).\n",
    "Using Numpy and Pandas, there are two simple ways to reduce a `DataFrame`.\n",
    "\n",
    "- `np.random.choice()`\n",
    "- `DataFrame.sample()`"
   ]
  },
  {
   "cell_type": "markdown",
   "metadata": {},
   "source": [
    "Reference: https://numpy.org/doc/1.18/reference/random/generated/numpy.random.choice.html"
   ]
  },
  {
   "cell_type": "markdown",
   "metadata": {},
   "source": [
    "`np.random.choice()` is the generic approach from Numpy.\n",
    "You can use it in two ways.\n",
    "\n",
    "1. You generate an array of indices\n",
    "2. You pick items of an array"
   ]
  },
  {
   "cell_type": "code",
   "execution_count": null,
   "metadata": {},
   "outputs": [],
   "source": [
    "rng = np.random.RandomState(42)\n",
    "sample = rng.choice(20, 10)\n",
    "sample"
   ]
  },
  {
   "cell_type": "markdown",
   "metadata": {},
   "source": [
    "As you can see, some values get picked multiple times.\n",
    "This is due the fact that the `replace` parameter is per default set to `True`."
   ]
  },
  {
   "cell_type": "code",
   "execution_count": null,
   "metadata": {},
   "outputs": [],
   "source": [
    "fruits = [\"Apple\", \"Raspberry\", \"Banana\", \"Orange\", \"Pineapple\", \"Kiwi\", \"Grapefruit\", \"Pear\", \"Tomato\", \"Dragonfruit\", \"Strawberry\", \"Lemon\"]\n",
    "rng = np.random.RandomState(42)\n",
    "sample = rng.choice(fruits, 6, replace=False)\n",
    "sample"
   ]
  },
  {
   "cell_type": "code",
   "execution_count": null,
   "metadata": {},
   "outputs": [],
   "source": [
    "games = pd.read_csv(\"./Demo_VideoGames.csv\")"
   ]
  },
  {
   "cell_type": "markdown",
   "metadata": {},
   "source": [
    "Working with Pandas, we could use `np.choice()` to select rows by generating indices."
   ]
  },
  {
   "cell_type": "code",
   "execution_count": null,
   "metadata": {},
   "outputs": [],
   "source": [
    "rng = np.random.RandomState(42)\n",
    "idx = rng.choice(len(games), 3000, replace=False)\n",
    "idxSample = games.iloc[idx]\n",
    "print(len(idxSample))\n",
    "idxSample"
   ]
  },
  {
   "cell_type": "code",
   "execution_count": null,
   "metadata": {},
   "outputs": [],
   "source": [
    "rng = np.random.RandomState(42)\n",
    "idx = rng.choice(games.index, 5000, replace=False)\n",
    "idxSample = games.loc[idx]\n",
    "print(len(idxSample))\n",
    "idxSample"
   ]
  },
  {
   "cell_type": "markdown",
   "metadata": {},
   "source": [
    "Reference: https://pandas.pydata.org/pandas-docs/stable/reference/api/pandas.DataFrame.sample.html"
   ]
  },
  {
   "cell_type": "markdown",
   "metadata": {},
   "source": [
    "`sample()` is a method offered on each instance of a `DataFrame` to select a subset of the dataset.\n",
    "As with the `RandomState` or `seed()` method, we also have the ability to define a `random_state` to ensure reproducability.\n",
    "`sample()` also has a `replace` parameter, but compared to `choice()` from above, it is per default `False` - which makes sense when selecting a random sample out of a `DataFrame`."
   ]
  },
  {
   "cell_type": "code",
   "execution_count": null,
   "metadata": {},
   "outputs": [],
   "source": [
    "someGames = games.sample(n=4000, random_state=42)\n",
    "sampleSize = len(someGames)\n",
    "gamesSize = len(games)\n",
    "print(f\"Sample size: {sampleSize} of {gamesSize}\")\n",
    "someGames"
   ]
  },
  {
   "cell_type": "code",
   "execution_count": null,
   "metadata": {},
   "outputs": [],
   "source": [
    "someOtherGames = games.sample(frac=.33, random_state=42)\n",
    "sampleSize = len(someOtherGames)\n",
    "gamesSize = len(games)\n",
    "print(f\"Sample size: {sampleSize} of {gamesSize} => {np.round(sampleSize/gamesSize, 5)}\")\n",
    "someOtherGames"
   ]
  },
  {
   "cell_type": "markdown",
   "metadata": {},
   "source": [
    "There are other approaches on getting samples out of a dataset, but we will introduce them when they are needed later in this course."
   ]
  },
  {
   "cell_type": "markdown",
   "metadata": {},
   "source": [
    "## Exercises"
   ]
  },
  {
   "cell_type": "markdown",
   "metadata": {},
   "source": [
    "### Ex01 - Bar Charts"
   ]
  },
  {
   "cell_type": "markdown",
   "metadata": {},
   "source": [
    "Draw a bar chart of the following data."
   ]
  },
  {
   "cell_type": "code",
   "execution_count": null,
   "metadata": {},
   "outputs": [],
   "source": [
    "category = np.array([\"Sunny\", \"Rainy\", \"Cloudy\", \"Foggy\", \"Snowy\"])\n",
    "days = np.array([184, 84, 21, 25, 51])"
   ]
  },
  {
   "cell_type": "code",
   "execution_count": null,
   "metadata": {},
   "outputs": [],
   "source": []
  },
  {
   "cell_type": "markdown",
   "metadata": {},
   "source": [
    "Sort the days so the highest occurrence is on the left, and the least occurrence is on the right.\n",
    "*Hint: `np.argsort()` returns an array of indices.*"
   ]
  },
  {
   "cell_type": "code",
   "execution_count": null,
   "metadata": {},
   "outputs": [],
   "source": []
  },
  {
   "cell_type": "markdown",
   "metadata": {},
   "source": [
    "Now draw the data as horizontal bar chart, the categories should be sorted alphabetically with A at the top und Z at the bottom."
   ]
  },
  {
   "cell_type": "code",
   "execution_count": null,
   "metadata": {},
   "outputs": [],
   "source": []
  },
  {
   "cell_type": "markdown",
   "metadata": {},
   "source": [
    "#### Solutions"
   ]
  },
  {
   "cell_type": "code",
   "execution_count": null,
   "metadata": {},
   "outputs": [],
   "source": [
    "# %load ./Ex04_01_Sol.py"
   ]
  },
  {
   "cell_type": "markdown",
   "metadata": {},
   "source": [
    "### Ex02 - Pie Charts"
   ]
  },
  {
   "cell_type": "markdown",
   "metadata": {},
   "source": [
    "Create a pie chart, each slice has the size of 1/3, value precision should be 3 (e.g. 0.333) and no slice should touch another."
   ]
  },
  {
   "cell_type": "code",
   "execution_count": null,
   "metadata": {},
   "outputs": [],
   "source": []
  },
  {
   "cell_type": "markdown",
   "metadata": {},
   "source": [
    "Create a pie chart with 50%, 25% and twice 12.5%.\n",
    "The slice with 50% should be on the left side and exposed."
   ]
  },
  {
   "cell_type": "code",
   "execution_count": null,
   "metadata": {},
   "outputs": [],
   "source": []
  },
  {
   "cell_type": "markdown",
   "metadata": {},
   "source": [
    "#### Solutions"
   ]
  },
  {
   "cell_type": "code",
   "execution_count": null,
   "metadata": {},
   "outputs": [],
   "source": [
    "# %load ./Ex04_02_Sol.py"
   ]
  },
  {
   "cell_type": "markdown",
   "metadata": {},
   "source": [
    "### Ex03 - Histogram"
   ]
  },
  {
   "cell_type": "markdown",
   "metadata": {},
   "source": [
    "Generate a histogram containing 101 bins with 10'000 uniformly (`uniform()`) distributed values between -100 and 100."
   ]
  },
  {
   "cell_type": "code",
   "execution_count": null,
   "metadata": {},
   "outputs": [],
   "source": []
  },
  {
   "cell_type": "markdown",
   "metadata": {},
   "source": [
    "Generate a histogram binning 100'000 normaly (`normal()`) distributed in 80 bins.\n",
    "The mean should be at 5 and the standard deviation is 3."
   ]
  },
  {
   "cell_type": "code",
   "execution_count": null,
   "metadata": {},
   "outputs": [],
   "source": []
  },
  {
   "cell_type": "markdown",
   "metadata": {},
   "source": [
    "#### Solutions"
   ]
  },
  {
   "cell_type": "code",
   "execution_count": null,
   "metadata": {},
   "outputs": [],
   "source": [
    "# %load ./Ex04_03_Sol.py"
   ]
  },
  {
   "cell_type": "markdown",
   "metadata": {},
   "source": [
    "### Ex04 - Plots with Pandas"
   ]
  },
  {
   "cell_type": "markdown",
   "metadata": {},
   "source": [
    "Load the dataset **Ex04_04_Data.csv** and show the first 5 lines.\n",
    "It contains all Airbnb listings in New York City of 2019."
   ]
  },
  {
   "cell_type": "code",
   "execution_count": null,
   "metadata": {},
   "outputs": [],
   "source": []
  },
  {
   "cell_type": "markdown",
   "metadata": {},
   "source": [
    "Before we start visualizing data, we add some values.\n",
    "Add a series containing the *minimum price per stay* by multiplying the *price* with the *minimum nights*.\n",
    "And another series containing the *expected revenue per year* by multiplying the *price* with the *availability per year* (availability_365)."
   ]
  },
  {
   "cell_type": "code",
   "execution_count": null,
   "metadata": {},
   "outputs": [],
   "source": []
  },
  {
   "cell_type": "markdown",
   "metadata": {},
   "source": [
    "Get the 10 most expensive offerings that were available in 2019 (based on the minimum price you just calculated) and list them."
   ]
  },
  {
   "cell_type": "code",
   "execution_count": null,
   "metadata": {},
   "outputs": [],
   "source": []
  },
  {
   "cell_type": "markdown",
   "metadata": {},
   "source": [
    "Now show in a bar chart in which neighborhood group they are located."
   ]
  },
  {
   "cell_type": "code",
   "execution_count": null,
   "metadata": {},
   "outputs": [],
   "source": []
  },
  {
   "cell_type": "markdown",
   "metadata": {},
   "source": [
    "Let's see how all the listings are distributed amongst the heighborhoods.\n",
    "Use a pie chart to show the percentages per group."
   ]
  },
  {
   "cell_type": "code",
   "execution_count": null,
   "metadata": {},
   "outputs": [],
   "source": []
  },
  {
   "cell_type": "markdown",
   "metadata": {},
   "source": [
    "What are the mean and median prices per neighborhood?\n",
    "Show it in a bar chart."
   ]
  },
  {
   "cell_type": "code",
   "execution_count": null,
   "metadata": {},
   "outputs": [],
   "source": []
  },
  {
   "cell_type": "markdown",
   "metadata": {},
   "source": [
    "Show the distribution of room types as pie chart.\n",
    "What are the percentages?"
   ]
  },
  {
   "cell_type": "code",
   "execution_count": null,
   "metadata": {},
   "outputs": [],
   "source": []
  },
  {
   "cell_type": "markdown",
   "metadata": {},
   "source": [
    "Show the mean and median price per room type in a bar chart."
   ]
  },
  {
   "cell_type": "code",
   "execution_count": null,
   "metadata": {},
   "outputs": [],
   "source": []
  },
  {
   "cell_type": "markdown",
   "metadata": {},
   "source": [
    "Show in a bar chart how many listings are offered by the same host.\n",
    "Use the host_id to find listings belonging to the same host.\n",
    "Use 5 bins, for 1 to 4 listings and the fifth for 5 and more."
   ]
  },
  {
   "cell_type": "code",
   "execution_count": null,
   "metadata": {},
   "outputs": [],
   "source": []
  },
  {
   "cell_type": "markdown",
   "metadata": {},
   "source": [
    "Whats the mean listings per host?"
   ]
  },
  {
   "cell_type": "code",
   "execution_count": null,
   "metadata": {},
   "outputs": [],
   "source": []
  },
  {
   "cell_type": "markdown",
   "metadata": {},
   "source": [
    "Airbnb has defined that every listing available for 60 or more days per year (availability_365) is labeled as highly available.\n",
    "Add a new column to the dataset containing `high` or `low` if the listing is highly available or not, respectively."
   ]
  },
  {
   "cell_type": "code",
   "execution_count": null,
   "metadata": {},
   "outputs": [],
   "source": []
  },
  {
   "cell_type": "markdown",
   "metadata": {},
   "source": [
    "Now use this new column to show within a pie chart the distribution between high and low availability.\n",
    "The highly available slice should be on the upper side and having a gap to the other slice.\n",
    "What's the distribution in percent?"
   ]
  },
  {
   "cell_type": "code",
   "execution_count": null,
   "metadata": {},
   "outputs": [],
   "source": []
  },
  {
   "cell_type": "markdown",
   "metadata": {},
   "source": [
    "#### Challenges!"
   ]
  },
  {
   "cell_type": "markdown",
   "metadata": {},
   "source": [
    "Plot a line, indicating how many hosts (y) have how much yearly revenue (x).\n",
    "Limit the revenue to 100'000 and ignore every host who has no revenue at all.\n",
    "*You may need to use [reset_index()](https://pandas.pydata.org/pandas-docs/stable/reference/api/pandas.DataFrame.reset_index.html) to create a `DataFrame` from a group.*"
   ]
  },
  {
   "cell_type": "code",
   "execution_count": null,
   "metadata": {},
   "outputs": [],
   "source": []
  },
  {
   "cell_type": "markdown",
   "metadata": {},
   "source": [
    "Create a scatter plot showing the availability per year (x) compared to the minimum nights (y).\n",
    "The color of the points should indicate their neighborhood and the size is bound to the price, but divide it by 5 (thus the points don't take too much space).\n",
    "Since the dataset has nearley 50'000 entries, we just want to see those who have an availability greater than 0 and cost more than 1000.\n",
    "Also limit the y axis to (-50, 400), so you can see all points. "
   ]
  },
  {
   "cell_type": "code",
   "execution_count": null,
   "metadata": {},
   "outputs": [],
   "source": []
  },
  {
   "cell_type": "markdown",
   "metadata": {},
   "source": [
    "#### Solutions"
   ]
  },
  {
   "cell_type": "code",
   "execution_count": null,
   "metadata": {},
   "outputs": [],
   "source": [
    "# %load ./Ex04_04_Sol.py"
   ]
  },
  {
   "cell_type": "markdown",
   "metadata": {},
   "source": [
    "### Ex05 - Binning & Sampling"
   ]
  },
  {
   "cell_type": "markdown",
   "metadata": {},
   "source": [
    "We will keep using the data from the exercise before.\n",
    "So just use the same variable or load **Ex04_04_Data.csv** again."
   ]
  },
  {
   "cell_type": "code",
   "execution_count": null,
   "metadata": {},
   "outputs": [],
   "source": []
  },
  {
   "cell_type": "markdown",
   "metadata": {},
   "source": [
    "Create bins containing 25% each based on the number of reviews.\n",
    "Where are the boundaries of the bins?"
   ]
  },
  {
   "cell_type": "code",
   "execution_count": null,
   "metadata": {},
   "outputs": [],
   "source": []
  },
  {
   "cell_type": "markdown",
   "metadata": {},
   "source": [
    "Take a sample of 5000 entries from all the listings."
   ]
  },
  {
   "cell_type": "code",
   "execution_count": null,
   "metadata": {},
   "outputs": [],
   "source": []
  },
  {
   "cell_type": "markdown",
   "metadata": {},
   "source": [
    "Take 25 samples from each neighborhood group.\n",
    "You should have a total of 125 samples, since there are 5 of them."
   ]
  },
  {
   "cell_type": "code",
   "execution_count": null,
   "metadata": {},
   "outputs": [],
   "source": []
  },
  {
   "cell_type": "markdown",
   "metadata": {},
   "source": [
    "#### Solutions"
   ]
  },
  {
   "cell_type": "code",
   "execution_count": null,
   "metadata": {},
   "outputs": [],
   "source": [
    "# %load ./Ex04_05_Sol.py"
   ]
  }
 ],
 "metadata": {
  "kernelspec": {
   "display_name": "Python 3",
   "language": "python",
   "name": "python3"
  },
  "language_info": {
   "codemirror_mode": {
    "name": "ipython",
    "version": 3
   },
   "file_extension": ".py",
   "mimetype": "text/x-python",
   "name": "python",
   "nbconvert_exporter": "python",
   "pygments_lexer": "ipython3",
   "version": "3.8.5"
  }
 },
 "nbformat": 4,
 "nbformat_minor": 4
}
