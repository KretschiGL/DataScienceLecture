{
 "cells": [
  {
   "cell_type": "markdown",
   "metadata": {},
   "source": [
    "# Resources"
   ]
  },
  {
   "cell_type": "markdown",
   "metadata": {},
   "source": [
    "- [X] https://scikit-learn.org/stable/modules/clustering.html\n",
    "- [X] https://scikit-learn.org/stable/auto_examples/cluster/plot_ward_structured_vs_unstructured.html\n",
    "- [X] https://scikit-learn.org/stable/auto_examples/cluster/plot_coin_ward_segmentation.html\n",
    "- [X] https://stackabuse.com/hierarchical-clustering-with-python-and-scikit-learn/\n",
    "- [X] https://www.analyticsvidhya.com/blog/2019/05/beginners-guide-hierarchical-clustering/\n",
    "- [X] https://towardsdatascience.com/machine-learning-algorithms-part-12-hierarchical-agglomerative-clustering-example-in-python-1e18e0075019\n",
    "- [X] https://medium.com/@sametgirgin/hierarchical-clustering-model-in-5-steps-with-python-6c45087d4318\n",
    "- [X] https://pythonprogramming.net/hierarchical-clustering-machine-learning-python-scikit-learn/\n",
    "- [X] https://www.kaggle.com/vipulgandhi/hierarchical-clustering-explanation"
   ]
  },
  {
   "cell_type": "markdown",
   "metadata": {},
   "source": [
    "# PCA"
   ]
  },
  {
   "cell_type": "markdown",
   "metadata": {},
   "source": [
    "- [X] https://www.dezyre.com/data-science-in-python-tutorial/principal-component-analysis-tutorial\n",
    "- [X] https://en.wikipedia.org/wiki/Principal_component_analysis\n",
    "- [X] https://365datascience.com/principal-components-analysis/\n",
    "- [X] https://medium.com/sfu-cspmp/principal-component-analysis-deciphered-79968b47d46c"
   ]
  },
  {
   "cell_type": "markdown",
   "metadata": {},
   "source": [
    "## Coding"
   ]
  },
  {
   "cell_type": "markdown",
   "metadata": {},
   "source": [
    "- [ ] ..."
   ]
  }
 ],
 "metadata": {
  "kernelspec": {
   "display_name": "Python 3",
   "language": "python",
   "name": "python3"
  },
  "language_info": {
   "codemirror_mode": {
    "name": "ipython",
    "version": 3
   },
   "file_extension": ".py",
   "mimetype": "text/x-python",
   "name": "python",
   "nbconvert_exporter": "python",
   "pygments_lexer": "ipython3",
   "version": "3.7.7"
  }
 },
 "nbformat": 4,
 "nbformat_minor": 4
}
