{
 "cells": [
  {
   "cell_type": "markdown",
   "metadata": {},
   "source": [
    "# Data Science Ex 00 - Preparation"
   ]
  },
  {
   "cell_type": "markdown",
   "metadata": {},
   "source": [
    "23.02.2021, Lukas Kretschmar (lukas.kretschmar@ost.ch) "
   ]
  },
  {
   "cell_type": "markdown",
   "metadata": {},
   "source": [
    "## Let's have some Fun with Data Science!"
   ]
  },
  {
   "cell_type": "markdown",
   "metadata": {},
   "source": [
    "Welcome to Data Science.\n",
    "We will use an interactive environment where you can mix text and code, with the awesome feature that you can execute the code."
   ]
  },
  {
   "cell_type": "markdown",
   "metadata": {},
   "source": [
    "## Pre-Installation"
   ]
  },
  {
   "cell_type": "markdown",
   "metadata": {},
   "source": [
    "We will work with Anaconda.\n",
    "You can download the package at the following location: https://www.anaconda.com/products/individual\n",
    "\n",
    "Install the distribution for your operating system that uses **Python 3.8**.\n",
    "\n",
    "**Note:** Anaconda needs up to **6 GB** of disk space. So, make sure you have this amount of storage available on your machine."
   ]
  },
  {
   "cell_type": "markdown",
   "metadata": {},
   "source": [
    "## Installation"
   ]
  },
  {
   "cell_type": "markdown",
   "metadata": {},
   "source": [
    "Please follow the installation instructions provided under the following link: https://docs.anaconda.com/anaconda/install/\n",
    "\n",
    "If you don't want to install Anaconda just for your user profile, you can use the instrations under https://docs.anaconda.com/anaconda/install/multi-user/"
   ]
  },
  {
   "cell_type": "markdown",
   "metadata": {},
   "source": [
    "### Known Issues"
   ]
  },
  {
   "cell_type": "markdown",
   "metadata": {},
   "source": [
    "#### Non-unicode characters in user name (e.g., ä, ö, ü, etc.)"
   ]
  },
  {
   "cell_type": "markdown",
   "metadata": {},
   "source": [
    "We have encountered problems with students having non-unicode characters in their installation path (e.g., ä, ö, ü, é, etc.).\n",
    "This might be a problem for you if you use the default location which points to your user profile (e.g., C:\\Users\\\\[your user name]).\n",
    "Please choose a location that does only contain ASCII characters."
   ]
  },
  {
   "cell_type": "markdown",
   "metadata": {},
   "source": [
    "**Solution:**\n",
    "- Choose a location that contains only ASCII characters\n",
    "- Install Anaconda for multiple-users (https://docs.anaconda.com/anaconda/install/multi-user/)"
   ]
  },
  {
   "cell_type": "markdown",
   "metadata": {},
   "source": [
    "If you've installed Anaconda nevertheless to a \"non-suitable\" location, there exists a simple workaround.\n",
    "In this case you have to change the default security settings on your notebook server and open the website everytime by hand (or you try to find the url that your notebook server hosted).\n",
    "You'll find the instructions at the end of this document."
   ]
  },
  {
   "cell_type": "markdown",
   "metadata": {},
   "source": [
    "## Post-Installation"
   ]
  },
  {
   "cell_type": "markdown",
   "metadata": {},
   "source": [
    "### Update"
   ]
  },
  {
   "cell_type": "markdown",
   "metadata": {},
   "source": [
    "After the installation is complete, you should also run an update to ensure that all packages are up-to-date.\n",
    "To do so, open an **Anaconda Prompt with elevated privileges (administrator rights)** and enter the following\n",
    "```\n",
    "conda update --all\n",
    "```"
   ]
  },
  {
   "cell_type": "markdown",
   "metadata": {},
   "source": [
    "### Configuration"
   ]
  },
  {
   "cell_type": "markdown",
   "metadata": {},
   "source": [
    "Juypter Notebooks opens the file browser in a specific directory.\n",
    "Per default, it's your *My Documents* folder.\n",
    "You can change the starting location to a different path by editing the configuration.\n",
    "So, the [following](https://stackoverflow.com/questions/35254852/how-to-change-the-jupyter-start-up-folder) steps are only necessary, if you want Jupyter Notebooks to start from a specific location.\n",
    "\n",
    "Open an **Anaconda Prompt** and enter the following\n",
    "```\n",
    "jupyter notebook --generate-config\n",
    "```\n",
    "This command will generate a configuration for your Jupyter installation at *C:\\Users\\yourusername\\\\.jupyter\\jupyter_notebook_config.py* (for the nerds of you - yeah, it's a python code file).\n",
    "The location on a Mac is probably at a similar location.\n",
    "Open the file with a text editor and search for the line\n",
    "``` python\n",
    "#c.NotebookApp.notebook_dir = ''\n",
    "```\n",
    "Remove the \\# at the beginning (this is the character for code comments) and enter the path you want Jupyter to start per default.\n",
    "And use / within your path and not \\\\ as it is common on windows systems.\n",
    "Otherwise the path might not work.\n",
    "Your entry should now look like\n",
    "``` python\n",
    "c.NotebookApp.notebook_dir = 'path/to/your/folder'\n",
    "```"
   ]
  },
  {
   "cell_type": "markdown",
   "metadata": {},
   "source": [
    "### Change the security settings"
   ]
  },
  {
   "cell_type": "markdown",
   "metadata": {},
   "source": [
    "**PLEASE NOTE: This step is only necessary, if your notebooks won't start property (e.g., installation at a location with unicode characters).**\n",
    "If your Jupyter Lab or Jupyter Notebook starts, you must not change the security settings."
   ]
  },
  {
   "cell_type": "markdown",
   "metadata": {},
   "source": [
    "Within the configuration, you'll find the following line\n",
    "``` python\n",
    "# c.NotebookApp.token = '<generated>'\n",
    "```\n",
    "Per default, a new token is generated everytime you start a new server.\n",
    "\n",
    "Now, you can either set the token to a fixed value, like\n",
    "``` python\n",
    "c.NotebookApp.token = 'ffed3a68-f5b2-47a3-bb11-df8711c5aab3'\n",
    "```\n",
    "*Note: This is just an example. You can choose your own token value.*\n",
    "\n",
    "or to none (security is disabled)\n",
    "``` python\n",
    "c.NotebookApp.token = ''\n",
    "```\n",
    "\n",
    "In the first case, your server will always run at\n",
    "- **JupyterLab:** http://localhost:8888/lab?token=ffed3a68-f5b2-47a3-bb11-df8711c5aab3\n",
    "- **Jupyter Notebook:** http://localhost:8888/tree?token=ffed3a68-f5b2-47a3-bb11-df8711c5aab3\n",
    "\n",
    "In the second case, your server will always run at\n",
    "- **JupyterLab:** http://localhost:8888/lab\n",
    "- **Juypter Notebook:** http://localhost:8888/tree\n",
    "\n",
    "Please note: The port (8888) might be incremented by 1 if 8888 is already blocked.\n",
    "Thus, if http://localhost:8888/lab is already used, the next server will be hosted at http://localhost:8889/lab"
   ]
  },
  {
   "cell_type": "markdown",
   "metadata": {},
   "source": [
    "### Run Anaconda"
   ]
  },
  {
   "cell_type": "markdown",
   "metadata": {},
   "source": [
    "Check that your installation is running by starting **Anaconda**.\n",
    "You should be able to get to the following screen.\n",
    "\n",
    "<img src=\"./AnacondaNavigator.png\" style=\"height:600px\" />\n",
    "\n",
    "And then try to start either **JupyterLab** or **Jupyter Notebook**.\n",
    "Both tools will open a new browser tab."
   ]
  }
 ],
 "metadata": {
  "kernelspec": {
   "display_name": "Python 3",
   "language": "python",
   "name": "python3"
  },
  "language_info": {
   "codemirror_mode": {
    "name": "ipython",
    "version": 3
   },
   "file_extension": ".py",
   "mimetype": "text/x-python",
   "name": "python",
   "nbconvert_exporter": "python",
   "pygments_lexer": "ipython3",
   "version": "3.8.5"
  }
 },
 "nbformat": 4,
 "nbformat_minor": 4
}
