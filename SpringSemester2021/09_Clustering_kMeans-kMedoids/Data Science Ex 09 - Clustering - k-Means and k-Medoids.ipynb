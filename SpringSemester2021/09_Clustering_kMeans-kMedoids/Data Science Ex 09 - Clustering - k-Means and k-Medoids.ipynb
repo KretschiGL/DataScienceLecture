{
 "cells": [
  {
   "cell_type": "markdown",
   "metadata": {},
   "source": [
    "# Data Science Ex 09 - Clustering (k-Means & k-Medoids)"
   ]
  },
  {
   "cell_type": "markdown",
   "metadata": {},
   "source": [
    "01.04.2021, Lukas Kretschmar (lukas.kretschmar@ost.ch)"
   ]
  },
  {
   "cell_type": "markdown",
   "metadata": {},
   "source": [
    "## Let's have some Fun with k-Means and k-Medoids Clustering!"
   ]
  },
  {
   "cell_type": "markdown",
   "metadata": {},
   "source": [
    "In this exercise, we are going to have a look at the k-Means and k-Medoids clustering approaches and clustering in general.\n",
    "Since this topic is complex and it is important that you understand the concept of a cluster, we focus on simple examples in this exercise."
   ]
  },
  {
   "cell_type": "code",
   "execution_count": null,
   "metadata": {},
   "outputs": [],
   "source": [
    "import numpy as np\n",
    "import pandas as pd\n",
    "import matplotlib.pyplot as plt\n",
    "import seaborn as sns\n",
    "\n",
    "%matplotlib inline\n",
    "sns.set()"
   ]
  },
  {
   "cell_type": "markdown",
   "metadata": {},
   "source": [
    "## Introduction"
   ]
  },
  {
   "cell_type": "markdown",
   "metadata": {},
   "source": [
    "### Updates & Installation"
   ]
  },
  {
   "cell_type": "markdown",
   "metadata": {},
   "source": [
    "Before we can start with the exercises, we need to install a new package.\n",
    "I'm aware that this is a bit risky since we are not at the same location, but we'll try it.\n",
    "If you cannot update and install your Anaconda enviornment, you are not able to use the k-Medoids examples and exercises."
   ]
  },
  {
   "cell_type": "markdown",
   "metadata": {},
   "source": [
    "Open the *Anaconda Prompt* with advanced privileges (administrator rights) (Mac users just open a terminal) and enter the following command:"
   ]
  },
  {
   "cell_type": "markdown",
   "metadata": {},
   "source": [
    "```bash\n",
    "conda update --all\n",
    "```"
   ]
  },
  {
   "cell_type": "markdown",
   "metadata": {},
   "source": [
    "This is the same command that we also used in the first exercise session.\n",
    "It will update your environment with the latests versions of all the packages you have already installed.\n",
    "We need this, since otherwise the next command might wants to downgrade the majority your packages (what we don't want).\n",
    "\n",
    "Now, we can install a new package that contains the *k-Medoids* algorithm.\n",
    "Execute the command below in the same command prompt/terminal."
   ]
  },
  {
   "cell_type": "markdown",
   "metadata": {},
   "source": [
    "```bash\n",
    "conda install -c conda-forge scikit-learn-extra\n",
    "```"
   ]
  },
  {
   "cell_type": "markdown",
   "metadata": {},
   "source": [
    "I recommend a restart of Anaconda, just to be sure.\n",
    "So close the notebook and Anaconda, and open it again."
   ]
  },
  {
   "cell_type": "markdown",
   "metadata": {},
   "source": [
    "### Peparing the Data"
   ]
  },
  {
   "cell_type": "markdown",
   "metadata": {},
   "source": [
    "First we need some data to use with our clustering algorithms."
   ]
  },
  {
   "cell_type": "code",
   "execution_count": null,
   "metadata": {},
   "outputs": [],
   "source": [
    "data = pd.read_csv(\"./Demo_5Clusters.csv\")\n",
    "data.head(5)"
   ]
  },
  {
   "cell_type": "markdown",
   "metadata": {},
   "source": [
    "As you can see, we have 3 columns in our dataset.\n",
    "`l` contains a number from 0 to 4 representing the cluster a point belongs to.\n",
    "`x` and `y` are coordinates in a two dimensional space.\n",
    "Hence, we can visualize the given data."
   ]
  },
  {
   "cell_type": "code",
   "execution_count": null,
   "metadata": {},
   "outputs": [],
   "source": [
    "fig, ax = plt.subplots(figsize=(10,10))\n",
    "data.plot.scatter(ax=ax, x=\"x\", y=\"y\", c=\"l\", s=50, cmap=\"rainbow\", colorbar=False)"
   ]
  },
  {
   "cell_type": "markdown",
   "metadata": {},
   "source": [
    "As we can see, the clusters are quite easily distinguishable.\n",
    "Well, the two on the right are a bit close."
   ]
  },
  {
   "cell_type": "markdown",
   "metadata": {},
   "source": [
    "### Building Clusters"
   ]
  },
  {
   "cell_type": "markdown",
   "metadata": {},
   "source": [
    "Now, we know that there are two simple clustering algorithms that we can use:\n",
    "- k-Means\n",
    "- k-Medoids\n",
    "\n",
    "Both offer the same interface that we are already familiar with.\n",
    "There is a `fit()` method to let the algorithm find the clusters.\n",
    "And there is a `predict()` method to predict the clusters of points.\n",
    "There is also a `fit_predict()` method that combines both calls.\n",
    "This method comes in handy when we want to predict the clusters of the data used for finding them."
   ]
  },
  {
   "cell_type": "markdown",
   "metadata": {},
   "source": [
    "#### k-Means"
   ]
  },
  {
   "cell_type": "markdown",
   "metadata": {},
   "source": [
    "Reference: https://scikit-learn.org/stable/modules/generated/sklearn.cluster.KMeans.html"
   ]
  },
  {
   "cell_type": "code",
   "execution_count": null,
   "metadata": {},
   "outputs": [],
   "source": [
    "from sklearn.cluster import KMeans"
   ]
  },
  {
   "cell_type": "markdown",
   "metadata": {},
   "source": [
    "Let's build the model, find the clusters and predict the clusters for the given points.\n",
    "For now, we need to know the number of clusters we want to find.\n",
    "Based on the provided data, we know that there are 5."
   ]
  },
  {
   "cell_type": "code",
   "execution_count": null,
   "metadata": {},
   "outputs": [],
   "source": [
    "model = KMeans(n_clusters=5, random_state=42) # Setting up the algorithm for 5 clusters\n",
    "l_pred = model.fit_predict(data[[\"x\", \"y\"]]) # Defining that we only want to use columns x and y"
   ]
  },
  {
   "cell_type": "markdown",
   "metadata": {},
   "source": [
    "We can also get the center of each cluster."
   ]
  },
  {
   "cell_type": "code",
   "execution_count": null,
   "metadata": {},
   "outputs": [],
   "source": [
    "centers = pd.DataFrame(model.cluster_centers_, columns=[\"x\", \"y\"])\n",
    "centers"
   ]
  },
  {
   "cell_type": "markdown",
   "metadata": {},
   "source": [
    "Have the results of the clustering algorithm, we can visualize again."
   ]
  },
  {
   "cell_type": "code",
   "execution_count": null,
   "metadata": {},
   "outputs": [],
   "source": [
    "fig, ax = plt.subplots(figsize=(10,10))\n",
    "data.plot.scatter(ax=ax, x=\"x\", y=\"y\", c=l_pred, s=50, cmap=\"rainbow\", colorbar=False) # Using the predict clusters for coloring (c=l_pred)\n",
    "centers.plot.scatter(ax=ax, x=\"x\", y=\"y\", c=\"k\", s=200, alpha=.5)"
   ]
  },
  {
   "cell_type": "markdown",
   "metadata": {},
   "source": [
    "As you can see, the centers do not overlap with given points.\n",
    "k-Means calculates its own points."
   ]
  },
  {
   "cell_type": "markdown",
   "metadata": {},
   "source": [
    "#### k-Medoid"
   ]
  },
  {
   "cell_type": "markdown",
   "metadata": {},
   "source": [
    "Reference: https://scikit-learn-extra.readthedocs.io/en/latest/generated/sklearn_extra.cluster.KMedoids.html\n",
    "\n",
    "*Note: k-Medoids is not an algorithm of scikit-learn, but an addition from another package.\n",
    "It supports the same interface, though.*"
   ]
  },
  {
   "cell_type": "code",
   "execution_count": null,
   "metadata": {},
   "outputs": [],
   "source": [
    "from sklearn_extra.cluster import KMedoids"
   ]
  },
  {
   "cell_type": "markdown",
   "metadata": {},
   "source": [
    "Now, let's have a look how the k-Medoids algorithm solves the problem."
   ]
  },
  {
   "cell_type": "code",
   "execution_count": null,
   "metadata": {},
   "outputs": [],
   "source": [
    "model = KMedoids(n_clusters=5, random_state=42)\n",
    "l_pred = model.fit_predict(data[[\"x\", \"y\"]])"
   ]
  },
  {
   "cell_type": "code",
   "execution_count": null,
   "metadata": {},
   "outputs": [],
   "source": [
    "fig, ax = plt.subplots(figsize=(10,10))\n",
    "data.plot.scatter(ax=ax, x=\"x\", y=\"y\", c=l_pred, s=50, cmap=\"rainbow\", colorbar=False)\n",
    "centers = pd.DataFrame(model.cluster_centers_, columns=[\"x\", \"y\"])\n",
    "centers.plot.scatter(ax=ax, x=\"x\", y=\"y\", c=\"k\", s=200, alpha=.5)"
   ]
  },
  {
   "cell_type": "markdown",
   "metadata": {},
   "source": [
    "As you can see, now the center of each cluster is a given point within the cluster."
   ]
  },
  {
   "cell_type": "markdown",
   "metadata": {},
   "source": [
    "### Sometimes, it doesn't work that well"
   ]
  },
  {
   "cell_type": "markdown",
   "metadata": {},
   "source": [
    "Let's have a look at another example.\n",
    "The main difference between this and the previous one, now we only have 4 clusters that we want to find."
   ]
  },
  {
   "cell_type": "code",
   "execution_count": null,
   "metadata": {},
   "outputs": [],
   "source": [
    "data = pd.read_csv(\"./Demo_4Clusters.csv\")\n",
    "data.head(5)"
   ]
  },
  {
   "cell_type": "markdown",
   "metadata": {},
   "source": [
    "As you can see, the data structure is the same.\n",
    "You just find values in column `l` ranging from 0 to 3."
   ]
  },
  {
   "cell_type": "code",
   "execution_count": null,
   "metadata": {},
   "outputs": [],
   "source": [
    "model_means = KMeans(n_clusters=4, random_state=42)\n",
    "l_pred_means = model_means.fit_predict(data[[\"x\", \"y\"]])\n",
    "\n",
    "model_medoids = KMedoids(n_clusters=4, random_state=42)\n",
    "l_pred_medoids = model_medoids.fit_predict(data[[\"x\", \"y\"]])\n",
    "\n",
    "fig, ax = plt.subplots(1, 2, figsize=(20,10))\n",
    "ax[0].set(title=\"k-Means\")\n",
    "data.plot.scatter(ax=ax[0], x=\"x\", y=\"y\", c=l_pred_means, s=50, cmap=\"rainbow\", colorbar=False)\n",
    "centers_means = pd.DataFrame(model_means.cluster_centers_, columns=[\"x\", \"y\"])\n",
    "centers_means.plot.scatter(ax=ax[0], x=\"x\", y=\"y\", c=\"k\", s=200, alpha=.5)\n",
    "\n",
    "ax[1].set(title=\"k-Medoids\")\n",
    "data.plot.scatter(ax=ax[1], x=\"x\", y=\"y\", c=l_pred_medoids, s=50, cmap=\"rainbow\", colorbar=False)\n",
    "centers_medoids = pd.DataFrame(model_medoids.cluster_centers_, columns=[\"x\", \"y\"])\n",
    "centers_medoids.plot.scatter(ax=ax[1], x=\"x\", y=\"y\", c=\"k\", s=200, alpha=.5)"
   ]
  },
  {
   "cell_type": "markdown",
   "metadata": {},
   "source": [
    "So, what happend here?\n",
    "It seems that the k-Means algorithm was able to predict the clusters well.\n",
    "But k-Medoids has its problems.\n",
    "\n",
    "This has something to do how the initial cluster centers are defined.\n",
    "While k-Means uses an optimized selection approach, k-Medoids selects them randomly.\n",
    "And this may lead (as in this case) to strange results."
   ]
  },
  {
   "cell_type": "markdown",
   "metadata": {},
   "source": [
    "The optimized approach used by k-Means is called *k-means++* and is provied by the *init* hyperparameter."
   ]
  },
  {
   "cell_type": "code",
   "execution_count": null,
   "metadata": {},
   "outputs": [],
   "source": [
    "KMeans().get_params()"
   ]
  },
  {
   "cell_type": "markdown",
   "metadata": {},
   "source": [
    "And there is also an optimized selection approach implemented for k-Medoids - called *k-medoids++*, it's just not the default."
   ]
  },
  {
   "cell_type": "code",
   "execution_count": null,
   "metadata": {},
   "outputs": [],
   "source": [
    "KMedoids().get_params()"
   ]
  },
  {
   "cell_type": "markdown",
   "metadata": {},
   "source": [
    "So, if we run the same example again, but now with the optimized selection method, the results are as expected."
   ]
  },
  {
   "cell_type": "code",
   "execution_count": null,
   "metadata": {},
   "outputs": [],
   "source": [
    "model_medoids = KMedoids(n_clusters=4, init=\"k-medoids++\", random_state=42)\n",
    "l_pred_medoids = model_medoids.fit_predict(data[[\"x\", \"y\"]])\n",
    "\n",
    "fig, ax = plt.subplots(figsize=(10,10))\n",
    "\n",
    "ax.set(title=\"k-Medoids\")\n",
    "data.plot.scatter(ax=ax, x=\"x\", y=\"y\", c=l_pred_medoids, s=50, cmap=\"rainbow\", colorbar=False)\n",
    "centers_medoids = pd.DataFrame(model_medoids.cluster_centers_, columns=[\"x\", \"y\"])\n",
    "centers_medoids.plot.scatter(ax=ax, x=\"x\", y=\"y\", c=\"k\", s=200, alpha=.5)"
   ]
  },
  {
   "cell_type": "markdown",
   "metadata": {},
   "source": [
    "### Number of Clusters"
   ]
  },
  {
   "cell_type": "markdown",
   "metadata": {},
   "source": [
    "As you saw in the examples above, we always had to know the number of clusters we expect in the data.\n",
    "And if this number is unknown, there is no way around trail & error."
   ]
  },
  {
   "cell_type": "markdown",
   "metadata": {},
   "source": [
    "The simplest method that we can use when we need to know the number of clusters, we can use the so called **elbow-method**.\n",
    "Here, we just check, when the sum of squares of distances between the points and their cluster centers does not decrease anymore significantly."
   ]
  },
  {
   "cell_type": "code",
   "execution_count": null,
   "metadata": {},
   "outputs": [],
   "source": [
    "data = pd.read_csv(\"./Demo_FindingClusters.csv\")\n",
    "data.head(5)"
   ]
  },
  {
   "cell_type": "markdown",
   "metadata": {},
   "source": [
    "Having the data, we just test a range of clusters.\n",
    "The distance (square from points to centers) is held in the model and can be access with the `intertia_` property."
   ]
  },
  {
   "cell_type": "code",
   "execution_count": null,
   "metadata": {},
   "outputs": [],
   "source": [
    "sqr_dist = [] # Empty list for distances\n",
    "clust = range(1,10)\n",
    "for i in clust: # Testing numbers of clusters 1 to 9\n",
    "    model = KMeans(n_clusters=i, random_state=42).fit(data)\n",
    "    sqr_dist.append(model.inertia_)"
   ]
  },
  {
   "cell_type": "markdown",
   "metadata": {},
   "source": [
    "Having stored the values, we can now simply plot a line."
   ]
  },
  {
   "cell_type": "code",
   "execution_count": null,
   "metadata": {},
   "outputs": [],
   "source": [
    "fig, ax = plt.subplots(figsize=(10,5))\n",
    "ax.plot(clust, sqr_dist, \"o-\")\n",
    "ax.set(xlabel=\"Number of Clusters\", ylabel=\"Sum of Distances in Clusters\")"
   ]
  },
  {
   "cell_type": "markdown",
   "metadata": {},
   "source": [
    "And as you can see, after 4 clusters there is not much improvement.\n",
    "So in this case, our data can likely be split into 4 different clusters.\n",
    "And if we have a look at the data, we see that this is the case."
   ]
  },
  {
   "cell_type": "code",
   "execution_count": null,
   "metadata": {},
   "outputs": [],
   "source": [
    "model = KMeans(n_clusters=4, random_state=42)\n",
    "l_pred = model.fit_predict(data)\n",
    "\n",
    "fig, ax = plt.subplots(figsize=(10,10))\n",
    "data.plot.scatter(ax=ax, x=\"x\", y=\"y\", c=l_pred, s=50, cmap=\"rainbow\", colorbar=False)\n",
    "centers = pd.DataFrame(model.cluster_centers_, columns=[\"x\", \"y\"])\n",
    "centers.plot.scatter(ax=ax, x=\"x\", y=\"y\", c=\"k\", s=200, alpha=.5)"
   ]
  },
  {
   "cell_type": "markdown",
   "metadata": {},
   "source": [
    "Thus, the elbow-method is one simple approach to determine the number of clusters in a dataset.\n",
    "As you can imagine, in reality it's a bit harder."
   ]
  },
  {
   "cell_type": "markdown",
   "metadata": {},
   "source": [
    "### Showing the Cluster Boundaries"
   ]
  },
  {
   "cell_type": "markdown",
   "metadata": {},
   "source": [
    "It could be also interesting to show the boundaries of your clusters.\n",
    "The concept to show the boundaries is called a [Voronoi diagram](https://en.wikipedia.org/wiki/Voronoi_diagram).\n",
    "A Voronoi diagram contains of points and perpendicular lines between two points.\n",
    "If we take the centers of your clusters as our points, the lines of a Voronoi diagram are our cluster boundaries."
   ]
  },
  {
   "cell_type": "markdown",
   "metadata": {},
   "source": [
    "The scipy package offers the abbility to calculate these Voronoi diagrams and plot the in 2D."
   ]
  },
  {
   "cell_type": "code",
   "execution_count": null,
   "metadata": {},
   "outputs": [],
   "source": [
    "from scipy.spatial import Voronoi, voronoi_plot_2d"
   ]
  },
  {
   "cell_type": "code",
   "execution_count": null,
   "metadata": {},
   "outputs": [],
   "source": [
    "fig, ax = plt.subplots(figsize=(10,10))\n",
    "data.plot.scatter(ax=ax, x=\"x\", y=\"y\", c=l_pred, s=50, cmap=\"rainbow\", colorbar=False)\n",
    "centers = pd.DataFrame(model.cluster_centers_, columns=[\"x\", \"y\"])\n",
    "centers.plot.scatter(ax=ax, x=\"x\", y=\"y\", c=\"k\", s=200, alpha=.5)\n",
    "\n",
    "# Voronoi\n",
    "voronoi = Voronoi(centers)\n",
    "f = voronoi_plot_2d(voronoi, ax=ax, show_points=False, show_vertices=False) # show_points=False does not show centers (we do that already), show_vertices=False does not show points where lines are connected.\n",
    "# The method returns the figure assigned to the axis ax. If we don't store it in a variable, Jupyter will plot the figure twice."
   ]
  },
  {
   "cell_type": "markdown",
   "metadata": {},
   "source": [
    "### What if the points are not in a Sphere?"
   ]
  },
  {
   "cell_type": "markdown",
   "metadata": {},
   "source": [
    "What we have seen until now, are simple examples of points that we can easily fit into clusters.\n",
    "And k-Means and k-Medoids algorithms work good on such datasets.\n",
    "But as soon as we have other constructs, that we as humans easily can cluster, these algorithms fail miserably."
   ]
  },
  {
   "cell_type": "code",
   "execution_count": null,
   "metadata": {},
   "outputs": [],
   "source": [
    "data = pd.read_csv(\"./Demo_NonSpherical.csv\")\n",
    "data.head(5)"
   ]
  },
  {
   "cell_type": "code",
   "execution_count": null,
   "metadata": {},
   "outputs": [],
   "source": [
    "fig, ax = plt.subplots(figsize=(10,10))\n",
    "data.plot.scatter(ax=ax, x=\"x\", y=\"y\", c=\"l\", s=50, cmap=\"rainbow\", colorbar=False)"
   ]
  },
  {
   "cell_type": "markdown",
   "metadata": {},
   "source": [
    "If we use our algorithms on this dataset, the results aren't quite good."
   ]
  },
  {
   "cell_type": "code",
   "execution_count": null,
   "metadata": {},
   "outputs": [],
   "source": [
    "model_means = KMeans(n_clusters=2, random_state=42)\n",
    "l_pred_means = model_means.fit_predict(data[[\"x\", \"y\"]])\n",
    "centers_means = pd.DataFrame(model_means.cluster_centers_, columns=[\"x\", \"y\"])\n",
    "\n",
    "model_medoids = KMedoids(n_clusters=2, init=\"k-medoids++\", random_state=42)\n",
    "l_pred_medoids = model_medoids.fit_predict(data[[\"x\", \"y\"]])\n",
    "centers_medoids = pd.DataFrame(model_medoids.cluster_centers_, columns=[\"x\", \"y\"])\n",
    "\n",
    "fig, ax = plt.subplots(1,2, figsize=(20,10))\n",
    "ax[0].set(title=\"k-Means\")\n",
    "data.plot.scatter(ax=ax[0], x=\"x\", y=\"y\", c=l_pred_means, s=50, cmap=\"rainbow\", colorbar=False)\n",
    "centers_means.plot.scatter(ax=ax[0], x=\"x\", y=\"y\", c=\"k\", s=200, alpha=.5)\n",
    "\n",
    "ax[1].set(title=\"k-Medoids\")\n",
    "data.plot.scatter(ax=ax[1], x=\"x\", y=\"y\", c=l_pred_medoids, s=50, cmap=\"rainbow\", colorbar=False)\n",
    "centers_medoids.plot.scatter(ax=ax[1], x=\"x\", y=\"y\", c=\"k\", s=200, alpha=.5)"
   ]
  },
  {
   "cell_type": "markdown",
   "metadata": {},
   "source": [
    "As you can see, the algorithms work as expected but with such a form they cannot be successful."
   ]
  },
  {
   "cell_type": "markdown",
   "metadata": {},
   "source": [
    "Luckily, there is a special clustering algorithm that uses internally the k-Means algorithm, but can handle these structures.\n",
    "The algorithm is called `SpectralClustering` and leverages the *nearest neighbors* approach to choose points of the cluster."
   ]
  },
  {
   "cell_type": "code",
   "execution_count": null,
   "metadata": {},
   "outputs": [],
   "source": [
    "from sklearn.cluster import SpectralClustering\n",
    "model = SpectralClustering(n_clusters=2, affinity=\"nearest_neighbors\", random_state=42)\n",
    "l_pred = model.fit_predict(data[[\"x\", \"y\"]])\n",
    "\n",
    "fig, ax = plt.subplots(figsize=(10,10))\n",
    "data.plot.scatter(ax=ax, x=\"x\", y=\"y\", c=l_pred, s=50, cmap=\"rainbow\", colorbar=False)\n",
    "# The generated warning can be ignored."
   ]
  },
  {
   "cell_type": "markdown",
   "metadata": {},
   "source": [
    "As you can see, both clusters are found as expected.\n",
    "So, it's really important that you have an understanding of how the data might look like.\n",
    "Thus, clustering is a hard task and will take some time."
   ]
  },
  {
   "cell_type": "markdown",
   "metadata": {},
   "source": [
    "With this basic introdction, you are now ready to head into the exercises.\n",
    "You will concentrate on what you have learned today.\n",
    "And in the next exercise, we will introduced some advanced methods and more complex use cases."
   ]
  },
  {
   "cell_type": "markdown",
   "metadata": {},
   "source": [
    "### Nice2Know: 3D"
   ]
  },
  {
   "cell_type": "markdown",
   "metadata": {},
   "source": [
    "Depending on the use case or what we want to visualize, it is also possible to expand into the 3rd dimension."
   ]
  },
  {
   "cell_type": "code",
   "execution_count": null,
   "metadata": {},
   "outputs": [],
   "source": [
    "data3d = pd.read_csv(\"./Demo_5Clusters_3D.csv\")\n",
    "data3d.head(5)"
   ]
  },
  {
   "cell_type": "markdown",
   "metadata": {},
   "source": [
    "We have again a dataset with 5 clusters but now 3 values per point.\n",
    "Running the clustering algorithms stays the same (and is the same for any higher dimension - having more features - datasets)."
   ]
  },
  {
   "cell_type": "code",
   "execution_count": null,
   "metadata": {},
   "outputs": [],
   "source": [
    "model3d = KMeans(n_clusters=5, random_state=42)\n",
    "l_pred_3d = model3d.fit_predict(data3d[[\"x\", \"y\", \"z\"]])\n",
    "centers3d = pd.DataFrame(model3d.cluster_centers_, columns=[\"x\", \"y\", \"z\"])"
   ]
  },
  {
   "cell_type": "markdown",
   "metadata": {},
   "source": [
    "To use 3D visualization, we need a new package that extends matplotlib to support 3-dimensional data."
   ]
  },
  {
   "cell_type": "code",
   "execution_count": null,
   "metadata": {},
   "outputs": [],
   "source": [
    "from mpl_toolkits.mplot3d import Axes3D"
   ]
  },
  {
   "cell_type": "markdown",
   "metadata": {},
   "source": [
    "To enable 3D within matplotlib, we have to provide an additional parameter (`subplot_kw`) that has a key-value pair of `\"projection\": \"3d\"`."
   ]
  },
  {
   "cell_type": "code",
   "execution_count": null,
   "metadata": {},
   "outputs": [],
   "source": [
    "fig, ax = plt.subplots(figsize=(10,10), subplot_kw={\"projection\": \"3d\"})\n",
    "ax.scatter(data3d[\"x\"], data3d[\"y\"], data3d[\"z\"], c=l_pred_3d, s=50, cmap=\"rainbow\", alpha=.25)\n",
    "ax.scatter(centers3d[\"x\"], centers3d[\"y\"], centers3d[\"z\"], c=\"k\", s=200)\n",
    "ax.set(xlabel=\"x\", ylabel=\"y\", zlabel=\"z\")"
   ]
  },
  {
   "cell_type": "markdown",
   "metadata": {},
   "source": [
    "We can also take different perspectives to get a better idea where the clusters are located."
   ]
  },
  {
   "cell_type": "code",
   "execution_count": null,
   "metadata": {},
   "outputs": [],
   "source": [
    "def scatter3D(data, centers, clusters, ax, title):\n",
    "    ax.scatter(data[\"x\"], data[\"y\"], data[\"z\"], c=clusters, s=50, cmap=\"rainbow\", alpha=.25)\n",
    "    ax.scatter(centers[\"x\"], centers[\"y\"], centers[\"z\"], c=\"k\", s=200)\n",
    "    ax.set(xlabel=\"x\", ylabel=\"y\", zlabel=\"z\", title=title)\n",
    "    return ax\n",
    "    \n",
    "fig, ax = plt.subplots(2,2,figsize=(20,20), subplot_kw={\"projection\":\"3d\"})\n",
    "\n",
    "scatter3D(data3d, centers3d, l_pred_3d, ax[0,0], \"Overview\").view_init(10, 45) # view_init(elevation, horizontal angle) defines the perspective\n",
    "scatter3D(data3d, centers3d, l_pred_3d, ax[0,1], \"Y vs Z\").view_init(10, 90)\n",
    "scatter3D(data3d, centers3d, l_pred_3d, ax[1,0], \"Y vs Z\").view_init(10, 0)\n",
    "scatter3D(data3d, centers3d, l_pred_3d, ax[1,1], \"X vs Y\").view_init(90, 45)"
   ]
  },
  {
   "cell_type": "markdown",
   "metadata": {},
   "source": [
    "As you can see, it can be quite useful to show clusters in 3-dimensions.\n",
    "And it's not that hard to achive that."
   ]
  },
  {
   "cell_type": "markdown",
   "metadata": {},
   "source": [
    "## Exercises"
   ]
  },
  {
   "cell_type": "markdown",
   "metadata": {},
   "source": [
    "### Ex01 - Simple Clustering"
   ]
  },
  {
   "cell_type": "markdown",
   "metadata": {},
   "source": [
    "In this exercise, you are going to use the k-Means and k-Medoids algorithms on a given dataset.\n",
    "Thus, load **Ex09_01_Data.csv**."
   ]
  },
  {
   "cell_type": "code",
   "execution_count": null,
   "metadata": {},
   "outputs": [],
   "source": []
  },
  {
   "cell_type": "markdown",
   "metadata": {},
   "source": [
    "How many points and clusters are in the dataset?\n",
    "You don't have to run the algorithms for that."
   ]
  },
  {
   "cell_type": "code",
   "execution_count": null,
   "metadata": {},
   "outputs": [],
   "source": []
  },
  {
   "cell_type": "markdown",
   "metadata": {},
   "source": [
    "Correct, there are 8 clusters."
   ]
  },
  {
   "cell_type": "markdown",
   "metadata": {},
   "source": [
    "Create a k-Means algorithm model and train it with the given data."
   ]
  },
  {
   "cell_type": "code",
   "execution_count": null,
   "metadata": {},
   "outputs": [],
   "source": []
  },
  {
   "cell_type": "markdown",
   "metadata": {},
   "source": [
    "Where are the centers?"
   ]
  },
  {
   "cell_type": "code",
   "execution_count": null,
   "metadata": {},
   "outputs": [],
   "source": []
  },
  {
   "cell_type": "markdown",
   "metadata": {},
   "source": [
    "Predict the clusters for the same points you used for training."
   ]
  },
  {
   "cell_type": "code",
   "execution_count": null,
   "metadata": {},
   "outputs": [],
   "source": []
  },
  {
   "cell_type": "markdown",
   "metadata": {},
   "source": [
    "Visualize the data and cluster centers.\n",
    "\n",
    "**Bonus:** Try to plot the cluster boundaries."
   ]
  },
  {
   "cell_type": "code",
   "execution_count": null,
   "metadata": {},
   "outputs": [],
   "source": []
  },
  {
   "cell_type": "markdown",
   "metadata": {},
   "source": [
    "Now do the same with the k-Medoids algorithm.\n",
    "\n",
    "**Bonus:** Try to plot the cluster boundaries."
   ]
  },
  {
   "cell_type": "code",
   "execution_count": null,
   "metadata": {},
   "outputs": [],
   "source": []
  },
  {
   "cell_type": "markdown",
   "metadata": {},
   "source": [
    "#### Solution"
   ]
  },
  {
   "cell_type": "code",
   "execution_count": null,
   "metadata": {},
   "outputs": [],
   "source": [
    "# %load ./Ex09_01_Sol.py"
   ]
  },
  {
   "cell_type": "markdown",
   "metadata": {},
   "source": [
    "### Ex02 - Finding the Number of Clusters"
   ]
  },
  {
   "cell_type": "markdown",
   "metadata": {},
   "source": [
    "In this exercise, you are going to find the number of clusters for a given dataset.\n",
    "You find the dataset in **Ex09_02_Data.csv**."
   ]
  },
  {
   "cell_type": "code",
   "execution_count": null,
   "metadata": {},
   "outputs": [],
   "source": []
  },
  {
   "cell_type": "markdown",
   "metadata": {},
   "source": [
    "As you can see, the data is 3-dimensional.\n",
    "But that shouldn't bother you."
   ]
  },
  {
   "cell_type": "markdown",
   "metadata": {},
   "source": [
    "Create a k-Means model and train it with the data.\n",
    "Assume there is just 1 cluster."
   ]
  },
  {
   "cell_type": "code",
   "execution_count": null,
   "metadata": {},
   "outputs": [],
   "source": []
  },
  {
   "cell_type": "markdown",
   "metadata": {},
   "source": [
    "What's the sum of all distances (*hint:* `inertia_`) to the center."
   ]
  },
  {
   "cell_type": "code",
   "execution_count": null,
   "metadata": {},
   "outputs": [],
   "source": []
  },
  {
   "cell_type": "markdown",
   "metadata": {},
   "source": [
    "Now, do the same but with the assumption of 3 clusters.\n",
    "What's now the sum of all distances?"
   ]
  },
  {
   "cell_type": "code",
   "execution_count": null,
   "metadata": {},
   "outputs": [],
   "source": []
  },
  {
   "cell_type": "markdown",
   "metadata": {},
   "source": [
    "Now, how about 8 clusters?\n",
    "What's the sum of distances now?"
   ]
  },
  {
   "cell_type": "code",
   "execution_count": null,
   "metadata": {},
   "outputs": [],
   "source": []
  },
  {
   "cell_type": "markdown",
   "metadata": {},
   "source": [
    "Now, let's make it easier.\n",
    "Use the elbow-method.\n",
    "Check all numbers of clusters from 1 to 12.\n",
    "And plot the line."
   ]
  },
  {
   "cell_type": "code",
   "execution_count": null,
   "metadata": {},
   "outputs": [],
   "source": []
  },
  {
   "cell_type": "markdown",
   "metadata": {},
   "source": [
    "How many clusters do you expect in the data?\n",
    "Predict the clusters for the given data.\n",
    "Where are the cluster centers?"
   ]
  },
  {
   "cell_type": "code",
   "execution_count": null,
   "metadata": {},
   "outputs": [],
   "source": []
  },
  {
   "cell_type": "markdown",
   "metadata": {},
   "source": [
    "Let's plot the data.\n",
    "Although, we have 3-dimensional data, we just plot 2 sides at the same time (so no 3D plot for now).\n",
    "But plot all 3 perspectives into the same figure.\n",
    "\n",
    "**Challenge:** Try to plot the cluster boundaries per view."
   ]
  },
  {
   "cell_type": "code",
   "execution_count": null,
   "metadata": {},
   "outputs": [],
   "source": []
  },
  {
   "cell_type": "markdown",
   "metadata": {},
   "source": [
    "#### Solution"
   ]
  },
  {
   "cell_type": "code",
   "execution_count": null,
   "metadata": {},
   "outputs": [],
   "source": [
    "# %load ./Ex09_02_Sol.py"
   ]
  },
  {
   "cell_type": "markdown",
   "metadata": {},
   "source": [
    "### Ex03 - Area Usage Clustering"
   ]
  },
  {
   "cell_type": "markdown",
   "metadata": {},
   "source": [
    "Load the data of **Ex09_03_Data.csv**."
   ]
  },
  {
   "cell_type": "code",
   "execution_count": null,
   "metadata": {},
   "outputs": [],
   "source": []
  },
  {
   "cell_type": "markdown",
   "metadata": {},
   "source": [
    "In this file, you'll find all villages and cities in Switzerland with their corresponding coordinates (`E` & `N`) and the following features:\n",
    "- `Pop` : Population\n",
    "- `Pop_Density` : Population density\n",
    "- `Area_Agri` : Percentage of the area assigned to agricultural usage\n",
    "- `Area_Live` : Percentage of the area assigned to residential usage\n",
    "\n",
    "All features are already normalized to the range of `[0,1]`."
   ]
  },
  {
   "cell_type": "markdown",
   "metadata": {},
   "source": [
    "In this exercise, we need the features at several steps.\n",
    "To simplify the work, we define these features in a separate list to avoid retyping them every time we need them.\n",
    "Thus, create a list containg the agricultural usage, residential usage, population density and population.\n",
    "\n",
    "*Note: You can skip this step when you want to retype the features all the time.*"
   ]
  },
  {
   "cell_type": "code",
   "execution_count": null,
   "metadata": {},
   "outputs": [],
   "source": []
  },
  {
   "cell_type": "markdown",
   "metadata": {},
   "source": [
    "Visualize a comparison of the agricultural area usage and the residential area usage in a scatter plot.\n",
    "Use the population density for coloring and the population for the size.\n",
    "\n",
    "*Note:* You may have to increase the population indicator by a factor so your points will have a decent size."
   ]
  },
  {
   "cell_type": "code",
   "execution_count": null,
   "metadata": {},
   "outputs": [],
   "source": []
  },
  {
   "cell_type": "markdown",
   "metadata": {},
   "source": [
    "Based on this simple visualization, we see that the area usages are entangled.\n",
    "And the the population density and population correlates with the availability of space for residential usage."
   ]
  },
  {
   "cell_type": "markdown",
   "metadata": {},
   "source": [
    "Now, find a good number of posible clusters we could use to segment all cities and villages."
   ]
  },
  {
   "cell_type": "code",
   "execution_count": null,
   "metadata": {},
   "outputs": [],
   "source": []
  },
  {
   "cell_type": "markdown",
   "metadata": {},
   "source": [
    "There are several good answers.\n",
    "Something between `5` and `10` seems fair."
   ]
  },
  {
   "cell_type": "markdown",
   "metadata": {},
   "source": [
    "Use the `KMeans` algorithm, create a model and run it on the given features."
   ]
  },
  {
   "cell_type": "code",
   "execution_count": null,
   "metadata": {},
   "outputs": [],
   "source": []
  },
  {
   "cell_type": "markdown",
   "metadata": {},
   "source": [
    "Recreate the scatter plot from above, but this time use the clusters for coloring.\n",
    "And visualize the cluster centers."
   ]
  },
  {
   "cell_type": "code",
   "execution_count": null,
   "metadata": {},
   "outputs": [],
   "source": []
  },
  {
   "cell_type": "markdown",
   "metadata": {},
   "source": [
    "We have now an indicator which cities and villages are comparable to eachother based on our defined feautres.\n",
    "On the top right, we have cities that are large and have a high usage of residential area.\n",
    "Below them, you have the agglomeration.\n",
    "And at the bottom, we have several clusters of areas with low residential area usage and a varying availability of agricultural land usage."
   ]
  },
  {
   "cell_type": "markdown",
   "metadata": {},
   "source": [
    "Lastly, let's visualize the points in context of Switzerland.\n",
    "Do the following:\n",
    "\n",
    "1. Create a scatter plot using `E` and `N` for the coordinates.\n",
    "2. Use the clusters for coloring the cities and villages.\n",
    "3. Highlight `Rapperswil-Jona` to see to what cluster it belongs to.\n",
    "4. Highlight your hometown (or another place).\n",
    "\n",
    "All should be shown in one figure.\n",
    "But it might be a good idea if you create it step by step."
   ]
  },
  {
   "cell_type": "code",
   "execution_count": null,
   "metadata": {},
   "outputs": [],
   "source": []
  },
  {
   "cell_type": "markdown",
   "metadata": {},
   "source": [
    "#### Solution"
   ]
  },
  {
   "cell_type": "code",
   "execution_count": null,
   "metadata": {},
   "outputs": [],
   "source": [
    "# %load ./Ex09_03_Sol.py"
   ]
  },
  {
   "cell_type": "markdown",
   "metadata": {},
   "source": [
    "### Ex04 - 3D Clustering"
   ]
  },
  {
   "cell_type": "markdown",
   "metadata": {},
   "source": [
    "This one is pretty easy.\n",
    "You just have to plot 3D clusters.\n",
    "The dataset to use is in **Ex09_04_Data.csv**."
   ]
  },
  {
   "cell_type": "code",
   "execution_count": null,
   "metadata": {},
   "outputs": [],
   "source": []
  },
  {
   "cell_type": "markdown",
   "metadata": {},
   "source": [
    "Use the elbow-method to get the number of expected clusters."
   ]
  },
  {
   "cell_type": "code",
   "execution_count": null,
   "metadata": {},
   "outputs": [],
   "source": []
  },
  {
   "cell_type": "markdown",
   "metadata": {},
   "source": [
    "Create the k-Means algorithm model for the expected number of clusters and predict the clusters."
   ]
  },
  {
   "cell_type": "code",
   "execution_count": null,
   "metadata": {},
   "outputs": [],
   "source": []
  },
  {
   "cell_type": "markdown",
   "metadata": {},
   "source": [
    "Where are the centers?"
   ]
  },
  {
   "cell_type": "code",
   "execution_count": null,
   "metadata": {},
   "outputs": [],
   "source": []
  },
  {
   "cell_type": "markdown",
   "metadata": {},
   "source": [
    "Plot the cluster in 3D."
   ]
  },
  {
   "cell_type": "code",
   "execution_count": null,
   "metadata": {},
   "outputs": [],
   "source": []
  },
  {
   "cell_type": "markdown",
   "metadata": {},
   "source": [
    "#### Solution"
   ]
  },
  {
   "cell_type": "code",
   "execution_count": null,
   "metadata": {},
   "outputs": [],
   "source": [
    "# %load ./Ex09_04_Sol.py"
   ]
  }
 ],
 "metadata": {
  "kernelspec": {
   "display_name": "Python 3",
   "language": "python",
   "name": "python3"
  },
  "language_info": {
   "codemirror_mode": {
    "name": "ipython",
    "version": 3
   },
   "file_extension": ".py",
   "mimetype": "text/x-python",
   "name": "python",
   "nbconvert_exporter": "python",
   "pygments_lexer": "ipython3",
   "version": "3.8.5"
  }
 },
 "nbformat": 4,
 "nbformat_minor": 4
}
