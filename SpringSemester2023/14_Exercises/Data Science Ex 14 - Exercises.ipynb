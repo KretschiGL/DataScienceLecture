{
 "cells": [
  {
   "cell_type": "markdown",
   "metadata": {},
   "source": [
    "# Data Science Ex 14 - Exercises"
   ]
  },
  {
   "cell_type": "markdown",
   "metadata": {},
   "source": [
    "10.05.2023, Lukas Kretschmar (lukas.kretschmar@ost.ch)"
   ]
  },
  {
   "cell_type": "markdown",
   "metadata": {},
   "source": [
    "## Let's have some Fun with Data Science!"
   ]
  },
  {
   "cell_type": "markdown",
   "metadata": {},
   "source": [
    "In this exercise, your are going to have a look at what you can do now with Data Science.\n",
    "Basically, you need to apply many of the approaches you've learned in this module."
   ]
  },
  {
   "cell_type": "code",
   "execution_count": null,
   "metadata": {},
   "outputs": [],
   "source": [
    "import numpy as np\n",
    "import pandas as pd\n",
    "import matplotlib.pyplot as plt\n",
    "import seaborn as sns\n",
    "\n",
    "%matplotlib inline\n",
    "sns.set()"
   ]
  },
  {
   "cell_type": "markdown",
   "metadata": {},
   "source": [
    "## Exercises"
   ]
  },
  {
   "cell_type": "markdown",
   "metadata": {},
   "source": [
    "We do not provide any help other than the data, and some instructions and boundaries per exercise.\n",
    "The rest is up to you.\n",
    "\n",
    "Thus, follow in every exercise these steps:\n",
    "- Loading the data\n",
    "- Preprocessing the data (incl. checking the data)\n",
    "- Creating the model (you may have to import the model class first)\n",
    "- Use the model\n",
    "- Optimize the model\n",
    "- Visualize the results\n",
    "\n",
    "**Note:** Depending on the exercise, some steps may not not be required.\n",
    "\n",
    "**Hint:** It may be a good idea to add more code-cells.\n",
    "We just provide one, but splitting the code into mutiple cells makes it easier.\n",
    "And you do not destroy work you've done."
   ]
  },
  {
   "cell_type": "markdown",
   "metadata": {},
   "source": [
    "### Data Visualization"
   ]
  },
  {
   "cell_type": "markdown",
   "metadata": {},
   "source": [
    "#### Ex01 - Simple Plots"
   ]
  },
  {
   "cell_type": "markdown",
   "metadata": {},
   "source": [
    "In this exercise, you must create simple charts with matplotlib."
   ]
  },
  {
   "cell_type": "markdown",
   "metadata": {},
   "source": [
    "Plot `sin(x)` and `cos(x)` in one figure within the range of `(-6, 6)`.\n",
    "`sin(x)` should be drawn in green and dotted, `cos(x)` in red and dashed.\n",
    "And don't forget to show the labels in a legend."
   ]
  },
  {
   "cell_type": "code",
   "execution_count": null,
   "metadata": {},
   "outputs": [],
   "source": []
  },
  {
   "cell_type": "markdown",
   "metadata": {},
   "source": [
    "Plot the line of a normal distribution (random numbers) as a histogram."
   ]
  },
  {
   "cell_type": "code",
   "execution_count": null,
   "metadata": {},
   "outputs": [],
   "source": []
  },
  {
   "cell_type": "markdown",
   "metadata": {},
   "source": [
    "Plot the normal distribution (random numbers) as a line."
   ]
  },
  {
   "cell_type": "code",
   "execution_count": null,
   "metadata": {},
   "outputs": [],
   "source": []
  },
  {
   "cell_type": "markdown",
   "metadata": {},
   "source": [
    "Plot a pie chart.\n",
    "Each slice has 1/4 of the pie.\n",
    "The chart should be tilted by 45° so every slice points into on direction (left, top, right, bottom).\n",
    "The slice on the right should be highlighted."
   ]
  },
  {
   "cell_type": "code",
   "execution_count": null,
   "metadata": {},
   "outputs": [],
   "source": []
  },
  {
   "cell_type": "markdown",
   "metadata": {},
   "source": [
    "Create a scatter plot with 40 points.\n",
    "Use a normal distribution to generate coordinates.\n",
    "The size of each point is the square of its x-value times 200.\n",
    "The color of the point is the square of its y-value.\n",
    "Use a bit of transparency to see overlapping points.\n",
    "And points should be shown as triangles."
   ]
  },
  {
   "cell_type": "code",
   "execution_count": null,
   "metadata": {},
   "outputs": [],
   "source": []
  },
  {
   "cell_type": "markdown",
   "metadata": {},
   "source": [
    "##### Solution"
   ]
  },
  {
   "cell_type": "code",
   "execution_count": null,
   "metadata": {},
   "outputs": [],
   "source": [
    "# %load ./Ex14_Plot-01_Sol.py"
   ]
  },
  {
   "cell_type": "markdown",
   "metadata": {},
   "source": [
    "#### Ex02 - Technology Index Plots"
   ]
  },
  {
   "cell_type": "markdown",
   "metadata": {},
   "source": [
    "In this exercise, you must create plots based on given data.\n",
    "The dataset contains average prices for certain products."
   ]
  },
  {
   "cell_type": "markdown",
   "metadata": {},
   "source": [
    "Load the following files:\n",
    "- **Ex14_Plot-02_Data-Prices.csv** contains the main dataset\n",
    "- **Ex14_Plot-02_Data-Countries.csv** contains the continent a country belongs to\n",
    "- **Ex14_Plot-02_Data-Population.csv** contains data about a countries population\n",
    "\n",
    "You may have to preprocess the prices first.\n",
    "Combine the three datasets into one, so you have the continent and population of each country in one dataset with the pricing data.\n",
    "Then take this dataset and create the following plots in a 2x2 grid.\n",
    "- **Top left**: Horizontal bar chart of the top 5 countries with the most expensive iPhone prices.\n",
    "And show the Android prices for those countries as well.\n",
    "Limit the x-axis to \\$8000 (you see why).\n",
    "- **Top right**: Pie chart showing how many countries have higher prices for MacBooks compared to Windows machines.\n",
    "Use the following segments `> 200%, 100% - 200%, 50% - 100%, 25% - 50%, 0% - 25%, < 0%`.\n",
    "Highlight the smallest and biggest segment.\n",
    "- **Bottom left**: Scatter plot comparing prices for an XBox One and PS4.\n",
    "Use the population for the size of each point (you may have to reduce the value) and the continent for coloring.\n",
    "Since Venezuela is again off the charts, limit the plot.\n",
    "And highlight Switzerland in the plot.\n",
    "- **Bottom right**: Histogram of prices of Smart TVs, Headphones and 2TB HDDs.\n",
    "You may have to increase the number of bins.\n",
    "And ignore Venezuela, again."
   ]
  },
  {
   "cell_type": "code",
   "execution_count": null,
   "metadata": {},
   "outputs": [],
   "source": []
  },
  {
   "cell_type": "markdown",
   "metadata": {},
   "source": [
    "##### Solutions"
   ]
  },
  {
   "cell_type": "code",
   "execution_count": null,
   "metadata": {},
   "outputs": [],
   "source": [
    "# %load ./Ex14_Plot-02_Sol.py"
   ]
  },
  {
   "cell_type": "markdown",
   "metadata": {},
   "source": [
    "### Classification"
   ]
  },
  {
   "cell_type": "markdown",
   "metadata": {},
   "source": [
    "#### Ex01 - Ford Review Classifier"
   ]
  },
  {
   "cell_type": "markdown",
   "metadata": {},
   "source": [
    "In this exercise, you should create and train a classifier (Naïve Bayes) to predict if a car review is about a Ford or another car manufacturer.\n",
    "First, train your classifier with the content of **Ex14_Class-01_Data-Train.csv** and visualize/show its accuracy.\n",
    "Then predict the labels for the content in **Ex14_Class-01_Data-Holdout.csv**."
   ]
  },
  {
   "cell_type": "code",
   "execution_count": null,
   "metadata": {},
   "outputs": [],
   "source": []
  },
  {
   "cell_type": "markdown",
   "metadata": {},
   "source": [
    "##### Solution"
   ]
  },
  {
   "cell_type": "code",
   "execution_count": null,
   "metadata": {},
   "outputs": [],
   "source": [
    "# %load ./Ex14_Class-01_Sol.py"
   ]
  },
  {
   "cell_type": "markdown",
   "metadata": {},
   "source": [
    "#### Ex02 - Telecom Churn Classifier"
   ]
  },
  {
   "cell_type": "markdown",
   "metadata": {},
   "source": [
    "In this exercise, you should create, train and optimize a classifier (RandomForest) to identify the likelihood if a customer will change its current telecom provider or not.\n",
    "Use **Ex14_Class-02_Data-Train.csv** to prepare your model.\n",
    "The column `Churn` contains the information whether a customer will change or not.\n",
    "And then predict the likelihoods for the data in **Ex14_Class-02_Data-Holdout.csv**.\n",
    "\n",
    "Before you can start with the training, the data has to be preprocessed since some columns have categorical values or contain text instead of numbers."
   ]
  },
  {
   "cell_type": "code",
   "execution_count": null,
   "metadata": {},
   "outputs": [],
   "source": []
  },
  {
   "cell_type": "markdown",
   "metadata": {},
   "source": [
    "##### Solution"
   ]
  },
  {
   "cell_type": "code",
   "execution_count": null,
   "metadata": {},
   "outputs": [],
   "source": [
    "# %load ./Ex14_Class-02_Sol.py"
   ]
  },
  {
   "cell_type": "markdown",
   "metadata": {},
   "source": [
    "### Clustering"
   ]
  },
  {
   "cell_type": "markdown",
   "metadata": {},
   "source": [
    "#### Ex01 - NYC Wi-Fi Clustering"
   ]
  },
  {
   "cell_type": "markdown",
   "metadata": {},
   "source": [
    "In this exercise, you should find cluster of Wi-Fi hotspots in New York City.\n",
    "Load the data from **Ex14_Clust-01_Data.csv** and visualize the Wi-Fi hotspots.\n",
    "Go on by selecting an appropriate clustering algorithm and find clusters in the data.\n",
    "You may have to change some hyperparameters.\n",
    "For the sake of simplicity, work only with `longitude` and `latitude` to find location-based clusters.\n",
    "Use `euclidean` and `manhattan` (obviously) distances for clustering and show both plots side by side."
   ]
  },
  {
   "cell_type": "code",
   "execution_count": null,
   "metadata": {},
   "outputs": [],
   "source": []
  },
  {
   "cell_type": "markdown",
   "metadata": {},
   "source": [
    "##### Solution"
   ]
  },
  {
   "cell_type": "code",
   "execution_count": null,
   "metadata": {},
   "outputs": [],
   "source": [
    "# %load ./Ex14_Clust-01_Sol.py"
   ]
  }
 ],
 "metadata": {
  "kernelspec": {
   "display_name": "Python 3 (ipykernel)",
   "language": "python",
   "name": "python3"
  },
  "language_info": {
   "codemirror_mode": {
    "name": "ipython",
    "version": 3
   },
   "file_extension": ".py",
   "mimetype": "text/x-python",
   "name": "python",
   "nbconvert_exporter": "python",
   "pygments_lexer": "ipython3",
   "version": "3.10.9"
  }
 },
 "nbformat": 4,
 "nbformat_minor": 4
}
