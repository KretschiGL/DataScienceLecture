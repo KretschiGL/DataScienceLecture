{
 "cells": [
  {
   "cell_type": "markdown",
   "id": "optional-trustee",
   "metadata": {},
   "source": [
    "# Data Science Ex 13 - Doing Data Science"
   ]
  },
  {
   "cell_type": "markdown",
   "id": "qualified-serial",
   "metadata": {},
   "source": [
    "10.05.2023, Lukas Kretschmar (lukas.kretschmar@ost.ch)"
   ]
  },
  {
   "cell_type": "markdown",
   "id": "virgin-attribute",
   "metadata": {},
   "source": [
    "## Let's have some Fun doing Data Science"
   ]
  },
  {
   "cell_type": "markdown",
   "id": "considered-catch",
   "metadata": {},
   "source": [
    "This exercise is a collection of exercises that you can solve with all the tools you've seen in this course."
   ]
  },
  {
   "cell_type": "code",
   "execution_count": null,
   "id": "accessory-citation",
   "metadata": {},
   "outputs": [],
   "source": [
    "import numpy as np\n",
    "import pandas as pd\n",
    "import matplotlib.pyplot as plt\n",
    "import seaborn as sns\n",
    "\n",
    "%matplotlib inline\n",
    "sns.set()"
   ]
  },
  {
   "cell_type": "code",
   "execution_count": null,
   "id": "99eae188-0184-4a5d-a613-dbb10dcb3d06",
   "metadata": {},
   "outputs": [],
   "source": [
    "# Preventing memory leak warnings when running KMeans\n",
    "import os\n",
    "os.environ[\"OMP_NUM_THREADS\"] = \"1\""
   ]
  },
  {
   "cell_type": "markdown",
   "id": "agricultural-cliff",
   "metadata": {},
   "source": [
    "**Please note:** You may not know all the parameters you have to set, so you may need to look them up online.\n",
    "I didn't say, it's gonna be easy, but so it is when you work with fresh, unknown data outside of this course.\n",
    "\n",
    "Also, feel free to add additional cells to code.\n",
    "The following exercises just provide one, but sometimes it's easier splitting the code into multiple cells."
   ]
  },
  {
   "cell_type": "markdown",
   "id": "unavailable-engineer",
   "metadata": {},
   "source": [
    "## Numpy"
   ]
  },
  {
   "cell_type": "markdown",
   "id": "selective-worcester",
   "metadata": {},
   "source": [
    "In this part, you start with the basics and use Numpy a bit."
   ]
  },
  {
   "cell_type": "markdown",
   "id": "occasional-croatia",
   "metadata": {},
   "source": [
    "### Random Number Generator"
   ]
  },
  {
   "cell_type": "markdown",
   "id": "absent-store",
   "metadata": {},
   "source": [
    "Generate 3 random numbers."
   ]
  },
  {
   "cell_type": "code",
   "execution_count": null,
   "id": "cathedral-custody",
   "metadata": {},
   "outputs": [],
   "source": []
  },
  {
   "cell_type": "markdown",
   "id": "ruled-glucose",
   "metadata": {},
   "source": [
    "Create two RNG's, and generate 5 normal distributed (N(0,1)) numbers with each RNG.\n",
    "The numbers must be be the same."
   ]
  },
  {
   "cell_type": "code",
   "execution_count": null,
   "id": "dutch-escape",
   "metadata": {},
   "outputs": [],
   "source": []
  },
  {
   "cell_type": "markdown",
   "id": "attempted-michigan",
   "metadata": {},
   "source": [
    "Generate 10 uniform distributed integers between -10 and 10.\n",
    "Round the values instead of truncating them."
   ]
  },
  {
   "cell_type": "code",
   "execution_count": null,
   "id": "hispanic-blame",
   "metadata": {},
   "outputs": [],
   "source": []
  },
  {
   "cell_type": "markdown",
   "id": "alleged-anchor",
   "metadata": {},
   "source": [
    "Create a 4 x 4 matrix containing normal distributed (N(0,2)) values."
   ]
  },
  {
   "cell_type": "code",
   "execution_count": null,
   "id": "representative-roots",
   "metadata": {},
   "outputs": [],
   "source": []
  },
  {
   "cell_type": "markdown",
   "id": "rough-hardware",
   "metadata": {},
   "source": [
    "#### Solution"
   ]
  },
  {
   "cell_type": "code",
   "execution_count": null,
   "id": "super-caribbean",
   "metadata": {},
   "outputs": [],
   "source": [
    "# %load ./Ex13_Numpy_Random_Sol.py"
   ]
  },
  {
   "cell_type": "markdown",
   "id": "loving-borough",
   "metadata": {},
   "source": [
    "### Boolean"
   ]
  },
  {
   "cell_type": "markdown",
   "id": "accepted-pastor",
   "metadata": {},
   "source": [
    "Create an array with the numbers from 0 to 9."
   ]
  },
  {
   "cell_type": "code",
   "execution_count": null,
   "id": "rational-heaven",
   "metadata": {},
   "outputs": [],
   "source": []
  },
  {
   "cell_type": "markdown",
   "id": "empty-wagner",
   "metadata": {},
   "source": [
    "Based on that array, create an array containing boolean values indicating if a value is below 5 or not."
   ]
  },
  {
   "cell_type": "code",
   "execution_count": null,
   "id": "senior-subscriber",
   "metadata": {},
   "outputs": [],
   "source": []
  },
  {
   "cell_type": "markdown",
   "id": "unexpected-wayne",
   "metadata": {},
   "source": [
    "Use np.all() to check that all your values are just single digit numbers."
   ]
  },
  {
   "cell_type": "code",
   "execution_count": null,
   "id": "prescription-palmer",
   "metadata": {},
   "outputs": [],
   "source": []
  },
  {
   "cell_type": "markdown",
   "id": "painted-postage",
   "metadata": {},
   "source": [
    "Use np.any() to check if a value is bigger than 9."
   ]
  },
  {
   "cell_type": "code",
   "execution_count": null,
   "id": "celtic-technology",
   "metadata": {},
   "outputs": [],
   "source": []
  },
  {
   "cell_type": "markdown",
   "id": "liberal-inquiry",
   "metadata": {},
   "source": [
    "#### Solution"
   ]
  },
  {
   "cell_type": "code",
   "execution_count": null,
   "id": "employed-trade",
   "metadata": {},
   "outputs": [],
   "source": [
    "# %load Ex13_Numpy_Bool_Sol.py"
   ]
  },
  {
   "cell_type": "markdown",
   "id": "hungry-pottery",
   "metadata": {},
   "source": [
    "### Statistics"
   ]
  },
  {
   "cell_type": "markdown",
   "id": "cordless-manual",
   "metadata": {},
   "source": [
    "Generate 1000 normal-distributed (N(5,1)) values."
   ]
  },
  {
   "cell_type": "code",
   "execution_count": null,
   "id": "modern-renaissance",
   "metadata": {},
   "outputs": [],
   "source": []
  },
  {
   "cell_type": "markdown",
   "id": "molecular-munich",
   "metadata": {},
   "source": [
    "Show the maximum and minimum values of the generated numbers."
   ]
  },
  {
   "cell_type": "code",
   "execution_count": null,
   "id": "above-conditioning",
   "metadata": {},
   "outputs": [],
   "source": []
  },
  {
   "cell_type": "markdown",
   "id": "virtual-virginia",
   "metadata": {},
   "source": [
    "Show the mean, standard deviation and median of the values."
   ]
  },
  {
   "cell_type": "code",
   "execution_count": null,
   "id": "excited-metropolitan",
   "metadata": {},
   "outputs": [],
   "source": []
  },
  {
   "cell_type": "markdown",
   "id": "induced-delta",
   "metadata": {},
   "source": [
    "Show the boundaries of the 25%, 50% and 75% quartiles for the given values."
   ]
  },
  {
   "cell_type": "code",
   "execution_count": null,
   "id": "approved-commercial",
   "metadata": {},
   "outputs": [],
   "source": []
  },
  {
   "cell_type": "markdown",
   "id": "occupational-colors",
   "metadata": {},
   "source": [
    "Show the boundaries for the top 10% and top 1% of the values."
   ]
  },
  {
   "cell_type": "code",
   "execution_count": null,
   "id": "regulation-exception",
   "metadata": {},
   "outputs": [],
   "source": []
  },
  {
   "cell_type": "markdown",
   "id": "narrow-river",
   "metadata": {},
   "source": [
    "#### Solution"
   ]
  },
  {
   "cell_type": "code",
   "execution_count": null,
   "id": "suburban-saturn",
   "metadata": {},
   "outputs": [],
   "source": [
    "# %load ./Ex13_Numpy_Stats_Sol.py"
   ]
  },
  {
   "cell_type": "markdown",
   "id": "subsequent-allergy",
   "metadata": {},
   "source": [
    "## Pandas"
   ]
  },
  {
   "cell_type": "markdown",
   "id": "leading-marketplace",
   "metadata": {},
   "source": [
    "In this part, you'll use Pandas to load, fix and filter data."
   ]
  },
  {
   "cell_type": "markdown",
   "id": "settled-grace",
   "metadata": {},
   "source": [
    "### Dataset Information"
   ]
  },
  {
   "cell_type": "markdown",
   "id": "unlikely-disabled",
   "metadata": {},
   "source": [
    "Load the dataset **Ex13_Pandas_Info_Data.csv**."
   ]
  },
  {
   "cell_type": "code",
   "execution_count": null,
   "id": "celtic-audit",
   "metadata": {},
   "outputs": [],
   "source": []
  },
  {
   "cell_type": "markdown",
   "id": "decimal-positive",
   "metadata": {},
   "source": [
    "Print the information (columns & data types) for the dataset."
   ]
  },
  {
   "cell_type": "code",
   "execution_count": null,
   "id": "corporate-original",
   "metadata": {},
   "outputs": [],
   "source": []
  },
  {
   "cell_type": "markdown",
   "id": "requested-caution",
   "metadata": {},
   "source": [
    "Display a summary of all the data in the dataset.\n",
    "Use the `include=\"all\"` argument."
   ]
  },
  {
   "cell_type": "code",
   "execution_count": null,
   "id": "current-sierra",
   "metadata": {},
   "outputs": [],
   "source": []
  },
  {
   "cell_type": "markdown",
   "id": "vietnamese-ability",
   "metadata": {},
   "source": [
    "#### Solution"
   ]
  },
  {
   "cell_type": "code",
   "execution_count": null,
   "id": "listed-reliance",
   "metadata": {},
   "outputs": [],
   "source": [
    "# %load ./Ex13_Pandas_Info_Sol.py"
   ]
  },
  {
   "cell_type": "markdown",
   "id": "subsequent-princeton",
   "metadata": {},
   "source": [
    "### Missing Data"
   ]
  },
  {
   "cell_type": "markdown",
   "id": "successful-crawford",
   "metadata": {},
   "source": [
    "Load the dataset **Ex13_Pandas_Missing_Data.csv**."
   ]
  },
  {
   "cell_type": "code",
   "execution_count": null,
   "id": "saving-conclusion",
   "metadata": {},
   "outputs": [],
   "source": []
  },
  {
   "cell_type": "markdown",
   "id": "atmospheric-present",
   "metadata": {},
   "source": [
    "As you can see, you have a list of car specs and some values are missing."
   ]
  },
  {
   "cell_type": "markdown",
   "id": "subjective-manhattan",
   "metadata": {},
   "source": [
    "Check the *percentage of missing values* and *absolute number of missing values* per column.\n",
    "Show the result as a nice dataframe, not just the default print of an array.\n",
    "And sort the result descending by the percentage."
   ]
  },
  {
   "cell_type": "code",
   "execution_count": null,
   "id": "proud-jacksonville",
   "metadata": {},
   "outputs": [],
   "source": []
  },
  {
   "cell_type": "markdown",
   "id": "excess-manor",
   "metadata": {},
   "source": [
    "Replace the missing `acceleration` values with a fix value of `16`.\n",
    "And check if all the values got replaced."
   ]
  },
  {
   "cell_type": "code",
   "execution_count": null,
   "id": "recreational-throat",
   "metadata": {},
   "outputs": [],
   "source": []
  },
  {
   "cell_type": "markdown",
   "id": "novel-fundamental",
   "metadata": {},
   "source": [
    "Fill in the `years` using the *forward fill* method and then the *backward fill* method to get the missing value in the first row.\n",
    "And check that all the missing values got replaced."
   ]
  },
  {
   "cell_type": "code",
   "execution_count": null,
   "id": "fewer-sensitivity",
   "metadata": {},
   "outputs": [],
   "source": []
  },
  {
   "cell_type": "markdown",
   "id": "pleased-irrigation",
   "metadata": {},
   "source": [
    "Now, we assume that the `weight` of the car is entangled with the gas usage.\n",
    "Thus, replace the missing `weights` with the *average weight* per group of vehicles that have the same `mpg` value.\n",
    "And check if the fix worked."
   ]
  },
  {
   "cell_type": "code",
   "execution_count": null,
   "id": "endless-fairy",
   "metadata": {},
   "outputs": [],
   "source": []
  },
  {
   "cell_type": "markdown",
   "id": "plastic-still",
   "metadata": {},
   "source": [
    "As you can see, there are some `weights` that could not be filled.\n",
    "For those, let's just set the `weight` to the *median* `weight` of all the cars in the dataset."
   ]
  },
  {
   "cell_type": "code",
   "execution_count": null,
   "id": "wrong-dialogue",
   "metadata": {},
   "outputs": [],
   "source": []
  },
  {
   "cell_type": "markdown",
   "id": "designing-desperate",
   "metadata": {},
   "source": [
    "And for the missing `displacement` values, use the *mean* of the `cylinders` and `horsepower` combination.\n",
    "And if there are sill some values missing, replace them just by the *mean* of all the cars with the same number of `cylinders`."
   ]
  },
  {
   "cell_type": "code",
   "execution_count": null,
   "id": "refined-conversation",
   "metadata": {},
   "outputs": [],
   "source": []
  },
  {
   "cell_type": "markdown",
   "id": "mediterranean-pizza",
   "metadata": {},
   "source": [
    "Show that there are no values missing in your dataset."
   ]
  },
  {
   "cell_type": "code",
   "execution_count": null,
   "id": "committed-guide",
   "metadata": {},
   "outputs": [],
   "source": []
  },
  {
   "cell_type": "markdown",
   "id": "advised-observer",
   "metadata": {},
   "source": [
    "#### Solution"
   ]
  },
  {
   "cell_type": "code",
   "execution_count": null,
   "id": "interracial-disney",
   "metadata": {},
   "outputs": [],
   "source": [
    "# %load ./Ex13_Pandas_Missing_Sol.py"
   ]
  },
  {
   "cell_type": "markdown",
   "id": "psychological-thomson",
   "metadata": {},
   "source": [
    "### Binning"
   ]
  },
  {
   "cell_type": "markdown",
   "id": "round-intention",
   "metadata": {},
   "source": [
    "Load the dataset of **Ex13_Pandas_Binning_Data.csv**."
   ]
  },
  {
   "cell_type": "code",
   "execution_count": null,
   "id": "authorized-auditor",
   "metadata": {},
   "outputs": [],
   "source": []
  },
  {
   "cell_type": "markdown",
   "id": "naked-soundtrack",
   "metadata": {},
   "source": [
    "Create 4 equi-width bins based on the values in column `Education`."
   ]
  },
  {
   "cell_type": "code",
   "execution_count": null,
   "id": "ultimate-drain",
   "metadata": {},
   "outputs": [],
   "source": []
  },
  {
   "cell_type": "markdown",
   "id": "thousand-platinum",
   "metadata": {},
   "source": [
    "Create 5 bins with the data in the `Age` column using the following boundaries `[0, 20, 40, 60, 80, 100]`.\n",
    "Show the resulting bins in the expected order (not ordered by the entries per bin, but the boundaries)."
   ]
  },
  {
   "cell_type": "code",
   "execution_count": null,
   "id": "leading-macedonia",
   "metadata": {},
   "outputs": [],
   "source": []
  },
  {
   "cell_type": "markdown",
   "id": "mechanical-upgrade",
   "metadata": {},
   "source": [
    "Create 6 equi-depth bins based on the values in column `Age`."
   ]
  },
  {
   "cell_type": "code",
   "execution_count": null,
   "id": "handy-threat",
   "metadata": {},
   "outputs": [],
   "source": []
  },
  {
   "cell_type": "markdown",
   "id": "compatible-washer",
   "metadata": {},
   "source": [
    "Create bins with the following quantiles `[0,.1,.33,.5,.75,.9,.99,1]` on the `Income` column.\n",
    "Show the resulting bins in the expected order."
   ]
  },
  {
   "cell_type": "code",
   "execution_count": null,
   "id": "aging-solution",
   "metadata": {},
   "outputs": [],
   "source": []
  },
  {
   "cell_type": "markdown",
   "id": "diverse-oliver",
   "metadata": {},
   "source": [
    "#### Solution"
   ]
  },
  {
   "cell_type": "code",
   "execution_count": null,
   "id": "interior-scientist",
   "metadata": {},
   "outputs": [],
   "source": [
    "# %load ./Ex13_Pandas_Binning_Sol.py"
   ]
  },
  {
   "cell_type": "markdown",
   "id": "located-pregnancy",
   "metadata": {},
   "source": [
    "### Sampling"
   ]
  },
  {
   "cell_type": "markdown",
   "id": "canadian-precipitation",
   "metadata": {},
   "source": [
    "Load the dataset from **Ex13_Pandas_Sampling_Data.csv**."
   ]
  },
  {
   "cell_type": "code",
   "execution_count": null,
   "id": "latter-diving",
   "metadata": {},
   "outputs": [],
   "source": []
  },
  {
   "cell_type": "markdown",
   "id": "unable-minimum",
   "metadata": {},
   "source": [
    "Show the number of entries per category found in column `Ethnicity` within a bar chart."
   ]
  },
  {
   "cell_type": "code",
   "execution_count": null,
   "id": "retired-tribute",
   "metadata": {},
   "outputs": [],
   "source": []
  },
  {
   "cell_type": "markdown",
   "id": "square-applicant",
   "metadata": {},
   "source": [
    "You see that one category is quite more frequent than the other two.\n",
    "Thus, let's bring them to the same level."
   ]
  },
  {
   "cell_type": "markdown",
   "id": "herbal-asset",
   "metadata": {},
   "source": [
    "Select *150* samples of values with ethnicity `Caucasian`."
   ]
  },
  {
   "cell_type": "code",
   "execution_count": null,
   "id": "ecological-purple",
   "metadata": {},
   "outputs": [],
   "source": []
  },
  {
   "cell_type": "markdown",
   "id": "conscious-terminal",
   "metadata": {},
   "source": [
    "Select 150 samples of values with ethnicity `Asian`."
   ]
  },
  {
   "cell_type": "code",
   "execution_count": null,
   "id": "ecological-syntax",
   "metadata": {},
   "outputs": [],
   "source": []
  },
  {
   "cell_type": "markdown",
   "id": "immediate-heater",
   "metadata": {},
   "source": [
    "Select 150 samples of values with ethnicity `African American`."
   ]
  },
  {
   "cell_type": "code",
   "execution_count": null,
   "id": "gorgeous-logic",
   "metadata": {},
   "outputs": [],
   "source": []
  },
  {
   "cell_type": "markdown",
   "id": "coral-universal",
   "metadata": {},
   "source": [
    "Combine the three samples from above into one new datasets and show within a bar chart that the imbalance is gone."
   ]
  },
  {
   "cell_type": "code",
   "execution_count": null,
   "id": "mental-danger",
   "metadata": {},
   "outputs": [],
   "source": []
  },
  {
   "cell_type": "markdown",
   "id": "liberal-authority",
   "metadata": {},
   "source": [
    "#### Solution"
   ]
  },
  {
   "cell_type": "code",
   "execution_count": null,
   "id": "based-explorer",
   "metadata": {},
   "outputs": [],
   "source": [
    "# %load ./Ex13_Pandas_Sampling_Sol.py"
   ]
  },
  {
   "cell_type": "markdown",
   "id": "bottom-pendant",
   "metadata": {},
   "source": [
    "## Data Visualization"
   ]
  },
  {
   "cell_type": "markdown",
   "id": "major-quick",
   "metadata": {},
   "source": [
    "Well, now let's have some fun with data visualization."
   ]
  },
  {
   "cell_type": "markdown",
   "id": "immediate-alexandria",
   "metadata": {},
   "source": [
    "Load the dataset **Ex13_DataViz_Data.csv**.\n",
    "The dataset contains avocado pricing and sales information."
   ]
  },
  {
   "cell_type": "code",
   "execution_count": null,
   "id": "dress-ocean",
   "metadata": {},
   "outputs": [],
   "source": []
  },
  {
   "cell_type": "markdown",
   "id": "requested-acquisition",
   "metadata": {},
   "source": [
    "Show a list of all the available regions.\n",
    "You know now how the names should look like in the following exercises."
   ]
  },
  {
   "cell_type": "code",
   "execution_count": null,
   "id": "declared-robertson",
   "metadata": {},
   "outputs": [],
   "source": []
  },
  {
   "cell_type": "markdown",
   "id": "bound-essay",
   "metadata": {},
   "source": [
    "#### Solution"
   ]
  },
  {
   "cell_type": "code",
   "execution_count": null,
   "id": "organic-daughter",
   "metadata": {},
   "outputs": [],
   "source": [
    "# %load ./Ex13_DataViz_Init_Sol.py"
   ]
  },
  {
   "cell_type": "markdown",
   "id": "instructional-guyana",
   "metadata": {},
   "source": [
    "### Line Plot"
   ]
  },
  {
   "cell_type": "markdown",
   "id": "important-torture",
   "metadata": {},
   "source": [
    "Show the average price over time in *Boston*, *Chicago*, *NewYork*, *LosAngeles*, and *SanFrancisco* in a line plot.\n",
    "Use the cities as labels for the lines.\n",
    "And make sure that the values are in order."
   ]
  },
  {
   "cell_type": "code",
   "execution_count": null,
   "id": "statutory-prague",
   "metadata": {},
   "outputs": [],
   "source": []
  },
  {
   "cell_type": "markdown",
   "id": "authorized-change",
   "metadata": {},
   "source": [
    "#### Solution"
   ]
  },
  {
   "cell_type": "code",
   "execution_count": null,
   "id": "retained-addiction",
   "metadata": {},
   "outputs": [],
   "source": [
    "# %load ./Ex13_DataViz_Line_Sol.py"
   ]
  },
  {
   "cell_type": "markdown",
   "id": "plastic-cache",
   "metadata": {},
   "source": [
    "### Styling Lines"
   ]
  },
  {
   "cell_type": "markdown",
   "id": "breeding-tuning",
   "metadata": {},
   "source": [
    "Show the total volume sold over time in the *West*, *Southeast*, and *Northeast*.\n",
    "Style the lines as follows:\n",
    "- West: Blue and dashed\n",
    "- Northeast: Green and dash dot\n",
    "- Southeast: Red and dotted"
   ]
  },
  {
   "cell_type": "code",
   "execution_count": null,
   "id": "infectious-object",
   "metadata": {},
   "outputs": [],
   "source": []
  },
  {
   "cell_type": "markdown",
   "id": "configured-disco",
   "metadata": {},
   "source": [
    "#### Solution"
   ]
  },
  {
   "cell_type": "code",
   "execution_count": null,
   "id": "separate-preparation",
   "metadata": {},
   "outputs": [],
   "source": [
    "# %load ./Ex13_DataViz_Styling_Sol.py"
   ]
  },
  {
   "cell_type": "markdown",
   "id": "continent-cause",
   "metadata": {},
   "source": [
    "### Bar Chart"
   ]
  },
  {
   "cell_type": "markdown",
   "id": "compliant-consultancy",
   "metadata": {},
   "source": [
    "Show the total bags sold per year for the whole USA (*TotalUS*) in a bar chart."
   ]
  },
  {
   "cell_type": "code",
   "execution_count": null,
   "id": "brutal-province",
   "metadata": {},
   "outputs": [],
   "source": []
  },
  {
   "cell_type": "markdown",
   "id": "incomplete-morris",
   "metadata": {},
   "source": [
    "#### Solution"
   ]
  },
  {
   "cell_type": "code",
   "execution_count": null,
   "id": "veterinary-passenger",
   "metadata": {},
   "outputs": [],
   "source": [
    "# %load ./Ex13_DataViz_Bar_Sol.py"
   ]
  },
  {
   "cell_type": "markdown",
   "id": "divided-missouri",
   "metadata": {},
   "source": [
    "### Stacked Bar Chart"
   ]
  },
  {
   "cell_type": "markdown",
   "id": "committed-lodging",
   "metadata": {},
   "source": [
    "Show the total volume sold per year and region in a horizontal bar chart.\n",
    "The bars should be stacked to the right of each other, and ignore the volume for the whole US since we look at the regions individually.\n",
    "\n",
    "**Bonus**: Try to sort the regions by their total over all years"
   ]
  },
  {
   "cell_type": "code",
   "execution_count": null,
   "id": "documented-comparison",
   "metadata": {},
   "outputs": [],
   "source": []
  },
  {
   "cell_type": "markdown",
   "id": "affiliated-player",
   "metadata": {},
   "source": [
    "#### Solution"
   ]
  },
  {
   "cell_type": "code",
   "execution_count": null,
   "id": "pointed-farming",
   "metadata": {},
   "outputs": [],
   "source": [
    "# %load ./Ex13_DataViz_BarH_Sol.py"
   ]
  },
  {
   "cell_type": "markdown",
   "id": "front-species",
   "metadata": {},
   "source": [
    "### Pie Chart"
   ]
  },
  {
   "cell_type": "markdown",
   "id": "individual-anaheim",
   "metadata": {},
   "source": [
    "Draw pie charts with the total volume sales per region (one chart per region).\n",
    "The regions should be *California*, *Portland*, and *Houston*.\n",
    "And you should show the percentage per year.\n",
    "\n",
    "**Bonus**: Highlight per pie the largest piece."
   ]
  },
  {
   "cell_type": "code",
   "execution_count": null,
   "id": "still-mills",
   "metadata": {},
   "outputs": [],
   "source": []
  },
  {
   "cell_type": "markdown",
   "id": "colonial-spiritual",
   "metadata": {},
   "source": [
    "#### Solution"
   ]
  },
  {
   "cell_type": "code",
   "execution_count": null,
   "id": "naughty-breakdown",
   "metadata": {},
   "outputs": [],
   "source": [
    "# %load ./Ex13_DataViz_Pie_Sol.py"
   ]
  },
  {
   "cell_type": "markdown",
   "id": "absolute-portuguese",
   "metadata": {},
   "source": [
    "### Scatter Plot"
   ]
  },
  {
   "cell_type": "markdown",
   "id": "three-fishing",
   "metadata": {},
   "source": [
    "Plot a comparison of the total bags and total volume per year & region sold in a scatter plot.\n",
    "Use the year for coloring, and the average price for the size.\n",
    "Ignore *TotalUS* as region."
   ]
  },
  {
   "cell_type": "code",
   "execution_count": null,
   "id": "casual-mailman",
   "metadata": {},
   "outputs": [],
   "source": []
  },
  {
   "cell_type": "markdown",
   "id": "rolled-priest",
   "metadata": {},
   "source": [
    "#### Solution"
   ]
  },
  {
   "cell_type": "code",
   "execution_count": null,
   "id": "smooth-bahrain",
   "metadata": {},
   "outputs": [],
   "source": [
    "# %load ./Ex13_DataViz_Scatter_Sol.py"
   ]
  },
  {
   "cell_type": "markdown",
   "id": "experienced-terrace",
   "metadata": {},
   "source": [
    "### Area Plot"
   ]
  },
  {
   "cell_type": "markdown",
   "id": "impressive-airport",
   "metadata": {},
   "source": [
    "Create an area plot showing the volume per avocado PLU (Price Look Up) *4046*, *4225*, and *4770* over time.\n",
    "Again, ignore the *TotalUS* numbers."
   ]
  },
  {
   "cell_type": "code",
   "execution_count": null,
   "id": "weird-hawaii",
   "metadata": {},
   "outputs": [],
   "source": []
  },
  {
   "cell_type": "markdown",
   "id": "narrow-contributor",
   "metadata": {},
   "source": [
    "#### Solution"
   ]
  },
  {
   "cell_type": "code",
   "execution_count": null,
   "id": "dramatic-glenn",
   "metadata": {},
   "outputs": [],
   "source": [
    "# %load ./Ex13_DataViz_Area_Sol.py"
   ]
  },
  {
   "cell_type": "markdown",
   "id": "moderate-calculator",
   "metadata": {},
   "source": [
    "### Layouting"
   ]
  },
  {
   "cell_type": "markdown",
   "id": "shared-measure",
   "metadata": {},
   "source": [
    "Let's show some visualizations in a grid rather then shwoing them alone.\n",
    "For this exercise, we concentrate on the following regions: *Chicago*, *Detroit*, *Philadelphia*, *San Diego*, and *Seattle*\n",
    "Create the following visualization in a 2x3 grid:\n",
    "- **\\[Top Left\\]:** Bar chart with small bags, large bags, and xlarge bags per region of 2017.\n",
    "- **\\[Top Center\\]:** Pie chart showing the total volume sold in 2016 per region and highlight the largest piece.\n",
    "- **\\[Top Right\\]:** Line plot with the average price per region over time.\n",
    "- **\\[Bottom Left\\]:** Horizontal bar chart showing the volumes sold per PLU per region per year. PLUs should be shown beside each other but the yearly values should be stacked. **$\\Longleftarrow$ This one is not easy**\n",
    "- **\\[Bottom Center\\]:** Area plot with the total sales over time per region.\n",
    "- **\\[Bottom Right\\]:** Scatter plot comparing the total volume sold of avocado with PLU 4046 and 4225 per month in 2015. Use the region for coloring and total volume for sizing. **$\\Longleftarrow$ This one is a challenge**"
   ]
  },
  {
   "cell_type": "code",
   "execution_count": null,
   "id": "foreign-kennedy",
   "metadata": {},
   "outputs": [],
   "source": []
  },
  {
   "cell_type": "markdown",
   "id": "furnished-pillow",
   "metadata": {},
   "source": [
    "#### Solution"
   ]
  },
  {
   "cell_type": "code",
   "execution_count": null,
   "id": "demonstrated-scroll",
   "metadata": {},
   "outputs": [],
   "source": [
    "# %load ./Ex13_DataViz_Layout_Sol.py"
   ]
  },
  {
   "cell_type": "markdown",
   "id": "daily-experiment",
   "metadata": {},
   "source": [
    "## Association Analysis"
   ]
  },
  {
   "cell_type": "markdown",
   "id": "cheap-station",
   "metadata": {},
   "source": [
    "Here, you'll do a market basket analysis."
   ]
  },
  {
   "cell_type": "markdown",
   "id": "egyptian-birmingham",
   "metadata": {},
   "source": [
    "### Preprocessing"
   ]
  },
  {
   "cell_type": "markdown",
   "id": "intimate-catholic",
   "metadata": {},
   "source": [
    "If you want to try to process the raw data, have a try.\n",
    "Otherwise, you can just go on with the analysis down below.\n",
    "You'll find the marked basked data in **Ex13_MBA_Data_Raw.csv**.\n",
    "At the end, you should have a dataframe containing just `false` and `true`, and the columns should be the names of the products in the basket."
   ]
  },
  {
   "cell_type": "code",
   "execution_count": null,
   "id": "adjusted-reggae",
   "metadata": {},
   "outputs": [],
   "source": []
  },
  {
   "cell_type": "markdown",
   "id": "conservative-platform",
   "metadata": {},
   "source": [
    "#### Solution"
   ]
  },
  {
   "cell_type": "code",
   "execution_count": null,
   "id": "willing-somerset",
   "metadata": {},
   "outputs": [],
   "source": [
    "# %load ./Ex13_MBA_Preprocessing_Sol.py"
   ]
  },
  {
   "cell_type": "markdown",
   "id": "excess-china",
   "metadata": {},
   "source": [
    "### Analysis"
   ]
  },
  {
   "cell_type": "markdown",
   "id": "designing-surname",
   "metadata": {},
   "source": [
    "Now, let's create the frequent item sets (*support* >= 5%) and rules.\n",
    "At the end, just show the rules with a positive *lift*.\n",
    "\n",
    "Feel free to dig deeper into the data.\n",
    "You can either use your processed data from the exercise above, or start with the provided dataset found in **Ex13_MBA_Data.csv**."
   ]
  },
  {
   "cell_type": "code",
   "execution_count": null,
   "id": "bacterial-weapon",
   "metadata": {},
   "outputs": [],
   "source": []
  },
  {
   "cell_type": "markdown",
   "id": "historic-maintenance",
   "metadata": {},
   "source": [
    "#### Solution"
   ]
  },
  {
   "cell_type": "code",
   "execution_count": null,
   "id": "collective-ministry",
   "metadata": {},
   "outputs": [],
   "source": [
    "# %load ./Ex13_MBA_Analysis_Sol.py"
   ]
  },
  {
   "cell_type": "markdown",
   "id": "lyric-equation",
   "metadata": {},
   "source": [
    "## Classification"
   ]
  },
  {
   "cell_type": "markdown",
   "id": "sticky-amber",
   "metadata": {},
   "source": [
    "Recap of the classification approaches of this course."
   ]
  },
  {
   "cell_type": "markdown",
   "id": "intimate-hepatitis",
   "metadata": {},
   "source": [
    "### Naïve Bayes"
   ]
  },
  {
   "cell_type": "markdown",
   "id": "biological-river",
   "metadata": {},
   "source": [
    "Create a model predicting a movie review is positive or negative.\n",
    "As data, use the reviews found in **Ex13_Class_NB_Data.csv**.\n",
    "\n",
    "- Show your model's performance using cross validation. (*Note:* We use just the raw data, without chaning the model's hyperparameters. Thus, the scores might not be that good.)\n",
    "- Show the confusion matrix for your model.\n",
    "- Test your model with 4 reviews. Just write them and use them against your model."
   ]
  },
  {
   "cell_type": "code",
   "execution_count": null,
   "id": "russian-reception",
   "metadata": {},
   "outputs": [],
   "source": []
  },
  {
   "cell_type": "markdown",
   "id": "political-microwave",
   "metadata": {},
   "source": [
    "#### Solution"
   ]
  },
  {
   "cell_type": "code",
   "execution_count": null,
   "id": "concerned-detroit",
   "metadata": {},
   "outputs": [],
   "source": [
    "# %load ./Ex13_Class_NB_Sol.py"
   ]
  },
  {
   "cell_type": "markdown",
   "id": "forced-holly",
   "metadata": {},
   "source": [
    "### Random Forest"
   ]
  },
  {
   "cell_type": "markdown",
   "id": "pursuant-beginning",
   "metadata": {},
   "source": [
    "Let's have some fun with decision trees.\n",
    "In dataset **Ex13_Class_RandomForst_Data.csv** you'll find details on 800 Pokémon.\n",
    "Try to train the best *random forest classifier* to predict the primary type (*type1*) of a Pokémon based on their effectiveness they have against the other types (*against_\\**).\n",
    "\n",
    "- Show the accuracy score of your model\n",
    "- Show the confusion matrix of your classifier\n",
    "- Show 2 decision trees of your model"
   ]
  },
  {
   "cell_type": "code",
   "execution_count": null,
   "id": "stone-median",
   "metadata": {},
   "outputs": [],
   "source": []
  },
  {
   "cell_type": "markdown",
   "id": "allied-overhead",
   "metadata": {},
   "source": [
    "#### Solution"
   ]
  },
  {
   "cell_type": "code",
   "execution_count": null,
   "id": "noble-poker",
   "metadata": {},
   "outputs": [],
   "source": [
    "# %load ./Ex13_Class_RandomForest_Sol.py"
   ]
  },
  {
   "cell_type": "markdown",
   "id": "french-uncertainty",
   "metadata": {},
   "source": [
    "## Clustering"
   ]
  },
  {
   "cell_type": "markdown",
   "id": "clinical-facility",
   "metadata": {},
   "source": [
    "Let's work on some basic clustering."
   ]
  },
  {
   "cell_type": "markdown",
   "id": "partial-liquid",
   "metadata": {},
   "source": [
    "### k-Means"
   ]
  },
  {
   "cell_type": "markdown",
   "id": "spread-lotus",
   "metadata": {},
   "source": [
    "Run a cluster analysis on the data in **Ex13_Clust_kMeans_Data.csv**.\n",
    "The data contains a simple dataset of mall customers.\n",
    "Show the clusters and their centers in a scatter plot to get an idea what customers could be grouped together.\n",
    "\n",
    "- Use income and spending score for the plot.\n",
    "- Visualize the age distribution of each cluster in histograms.\n",
    "- Ignore the gender for training the model, but show it in a bar chart."
   ]
  },
  {
   "cell_type": "code",
   "execution_count": null,
   "id": "swiss-disclaimer",
   "metadata": {},
   "outputs": [],
   "source": []
  },
  {
   "cell_type": "markdown",
   "id": "romantic-coupon",
   "metadata": {},
   "source": [
    "#### Solution"
   ]
  },
  {
   "cell_type": "code",
   "execution_count": null,
   "id": "swiss-guidance",
   "metadata": {},
   "outputs": [],
   "source": [
    "# %load ./Ex13_Clust_kMeans_Sol.py"
   ]
  },
  {
   "cell_type": "markdown",
   "id": "noted-glory",
   "metadata": {},
   "source": [
    "### k-Medoids"
   ]
  },
  {
   "cell_type": "markdown",
   "id": "extraordinary-flashing",
   "metadata": {},
   "source": [
    "Run a cluster analysis on the data found in file **Ex13_Clust_kMedoids_Data.csv**.\n",
    "You'll find some credit card information, and how the users have used it.\n",
    "Use the k-medoids algorithm, find a good number of clusters and visualize the data and cluster centers.\n",
    "\n",
    "- Based on the data, you should get a good scatter plot when using the purchase frequency and balance.\n",
    "- List the mean, standard deviation and median values of all clusters found."
   ]
  },
  {
   "cell_type": "code",
   "execution_count": null,
   "id": "parliamentary-brazil",
   "metadata": {},
   "outputs": [],
   "source": []
  },
  {
   "cell_type": "markdown",
   "id": "stretch-transcript",
   "metadata": {},
   "source": [
    "#### Solution"
   ]
  },
  {
   "cell_type": "code",
   "execution_count": null,
   "id": "weekly-mills",
   "metadata": {},
   "outputs": [],
   "source": [
    "# %load ./Ex13_Clust_kMedoids_Sol.py"
   ]
  }
 ],
 "metadata": {
  "kernelspec": {
   "display_name": "Python 3 (ipykernel)",
   "language": "python",
   "name": "python3"
  },
  "language_info": {
   "codemirror_mode": {
    "name": "ipython",
    "version": 3
   },
   "file_extension": ".py",
   "mimetype": "text/x-python",
   "name": "python",
   "nbconvert_exporter": "python",
   "pygments_lexer": "ipython3",
   "version": "3.10.9"
  }
 },
 "nbformat": 4,
 "nbformat_minor": 5
}
