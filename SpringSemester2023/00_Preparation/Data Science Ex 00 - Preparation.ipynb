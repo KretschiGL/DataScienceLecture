{
 "cells": [
  {
   "cell_type": "markdown",
   "metadata": {},
   "source": [
    "# Data Science Ex 00 - Preparation"
   ]
  },
  {
   "cell_type": "markdown",
   "metadata": {},
   "source": [
    "20.02.2023, Lukas Kretschmar (lukas.kretschmar@ost.ch) "
   ]
  },
  {
   "cell_type": "markdown",
   "metadata": {},
   "source": [
    "## Let's have some Fun with Data Science!"
   ]
  },
  {
   "cell_type": "markdown",
   "metadata": {},
   "source": [
    "Welcome to the Data Science module.\n",
    "During the practical exercises, we will use an interactive environment where you can mix text and code with the awesome feature that you can execute the code.\n",
    "This environment is called [Jupyter Notebooks](https://jupyter.org).\n",
    "And you have several different ways to run the notebooks on your machine.\n",
    "\n",
    "In this document, we describe how you can install the tool with the following three approaches:\n",
    "\n",
    "- Anaconda (recommended if you are not that geeky, it's the easiest way)\n",
    "- Miniconda (a smaller version of Anaconda, where we have to add some features by ourselves)\n",
    "- VS Code with the Jupyter Extension"
   ]
  },
  {
   "cell_type": "markdown",
   "metadata": {},
   "source": [
    "## Install Anaconda"
   ]
  },
  {
   "cell_type": "markdown",
   "metadata": {},
   "source": [
    "If you want to install Anaconda, head to https://www.anaconda.com/products/individual and download the installer for your system.\n",
    "Install the distribution for your operating system that uses **Python 3.9**.\n",
    "\n",
    "**Note:** Anaconda needs up to **6 GB** of disk space. So, make sure you have this amount of storage available on your machine."
   ]
  },
  {
   "cell_type": "markdown",
   "metadata": {},
   "source": [
    "For the installation process, please follow the installation instructions provided under https://docs.anaconda.com/anaconda/install/.\n",
    "If you don't want to install Anaconda to your user profile but the whole machine, have a look at the instrutions under https://docs.anaconda.com/anaconda/install/multi-user/."
   ]
  },
  {
   "cell_type": "markdown",
   "metadata": {},
   "source": [
    "### Known Issues"
   ]
  },
  {
   "cell_type": "markdown",
   "metadata": {},
   "source": [
    "#### Non-unicode characters in user name (e.g., ä, ö, ü, etc.)"
   ]
  },
  {
   "cell_type": "markdown",
   "metadata": {},
   "source": [
    "We have encountered problems with students having non-unicode characters in their installation path (e.g., ä, ö, ü, é, etc.).\n",
    "This might be a problem for you if you use the default location which points to your user profile (e.g., *C:\\Users\\\\[your user name]*).\n",
    "Please choose a location that does only contain ASCII characters."
   ]
  },
  {
   "cell_type": "markdown",
   "metadata": {},
   "source": [
    "**Solution:**\n",
    "- Choose a location that contains only ASCII characters\n",
    "- Install Anaconda for multiple-users (https://docs.anaconda.com/anaconda/install/multi-user/)"
   ]
  },
  {
   "cell_type": "markdown",
   "metadata": {},
   "source": [
    "If you've installed Anaconda nevertheless to a \"non-suitable\" location, there exists a simple workaround.\n",
    "In this case you have to change the default security settings on your notebook server and open the website everytime by hand (or you try to find the url that your notebook server hosted).\n",
    "You'll find the instructions at the end of this document."
   ]
  },
  {
   "cell_type": "markdown",
   "metadata": {},
   "source": [
    "## Install Miniconda"
   ]
  },
  {
   "cell_type": "markdown",
   "metadata": {},
   "source": [
    "Miniconda is a stripped down version of Anaconda, containing just the necessary packages.\n",
    "Using this tool, you have to install all the packages that we need throughout the exercises by yourself.\n",
    "But that's not that hard.\n",
    "\n",
    "You can download Miniconda under https://docs.conda.io/en/latest/miniconda.html#windows-installers.\n",
    "Just download the version that is best suitable for your machine.\n",
    "You can find some further instructions for the installation under https://conda.io/projects/conda/en/latest/user-guide/install/windows.html, but basically you just have to execute the installer and everything works."
   ]
  },
  {
   "cell_type": "markdown",
   "metadata": {},
   "source": [
    "To install the needed extensions, you need to open a command prompt and enter a command.\n",
    "The installer from above added a **Anaconda Prompt (Miniconda)** CLI to your machine.\n",
    "Open the start menu, search for it and exectue it with **elevated privileges (administrator rights)**.\n",
    "A command line will open.\n",
    "Enter the following command\n",
    "```\n",
    "conda install anaconda-navigator jupyterlab numpy pandas matplotlib seaborn scikit-learn\n",
    "```\n",
    "Press *ENTER* to execute the command.\n",
    "When asked to proceed, accept with `y` and wait until the installer is completed."
   ]
  },
  {
   "cell_type": "markdown",
   "metadata": {},
   "source": [
    "## Install VS Code with the Jupyter Extension"
   ]
  },
  {
   "cell_type": "markdown",
   "metadata": {},
   "source": [
    "If you've already installed VS Code on your machine or want to work with it, you can do so as well.\n",
    "Download and install VS Code from https://code.visualstudio.com.\n",
    "When the installation is completed, you also need to install Python on your machine.\n",
    "Download and install Python from https://www.python.org."
   ]
  },
  {
   "cell_type": "markdown",
   "metadata": {},
   "source": [
    "When you've installed your IDE and programming language, open VS Code and search for the **Jupyter** extension.\n",
    "\n",
    "- Name: Jupyter\n",
    "- Id: ms-toolsai.jupyter\n",
    "- Description: Jupyter notebook support, interactive programming and computing that supports Intellisense, debugging and more.\n",
    "- Version: 2023.1.2010391206 (or newer)\n",
    "- Publisher: Microsoft\n",
    "- VS Marketplace Link: https://marketplace.visualstudio.com/items?itemName=ms-toolsai.jupyter"
   ]
  },
  {
   "cell_type": "markdown",
   "metadata": {},
   "source": [
    "To be able to run all the notebooks, open a Terminal in VS Code and run the following code\n",
    "```\n",
    "pip install numpy pandas matplotlib seaborn scikit-learn\n",
    "```\n",
    "Press *ENTER* to execute the command."
   ]
  },
  {
   "cell_type": "markdown",
   "metadata": {},
   "source": [
    "## Post-Installation"
   ]
  },
  {
   "cell_type": "markdown",
   "metadata": {},
   "source": [
    "### Update"
   ]
  },
  {
   "cell_type": "markdown",
   "metadata": {},
   "source": [
    "**Note:** This step is only needed if you've installed Anaconda or Miniconda."
   ]
  },
  {
   "cell_type": "markdown",
   "metadata": {},
   "source": [
    "After the installation is complete, you should also run an update to ensure that all packages are up-to-date.\n",
    "To do so, open an **Anaconda Prompt** with **elevated privileges (administrator rights)** and enter the following command\n",
    "```\n",
    "conda update --all\n",
    "```\n",
    "Press *ENTER* to execute it"
   ]
  },
  {
   "cell_type": "markdown",
   "metadata": {},
   "source": [
    "### Installation of additional Modules"
   ]
  },
  {
   "cell_type": "markdown",
   "metadata": {},
   "source": [
    "- mlxtend"
   ]
  },
  {
   "cell_type": "markdown",
   "metadata": {},
   "source": [
    "```\n",
    "conda install -c conda-forge mlxtend\n",
    "```"
   ]
  },
  {
   "cell_type": "markdown",
   "metadata": {},
   "source": [
    "```\n",
    "pip install mlxtend\n",
    "```"
   ]
  },
  {
   "cell_type": "markdown",
   "metadata": {},
   "source": [
    "### Configuration"
   ]
  },
  {
   "cell_type": "markdown",
   "metadata": {},
   "source": [
    "Juypter Notebooks opens the file browser in a specific directory.\n",
    "Per default, it's your *My Documents* folder.\n",
    "You can change the starting location to a different path by editing the configuration.\n",
    "So, the [following](https://stackoverflow.com/questions/35254852/how-to-change-the-jupyter-start-up-folder) steps are only necessary, if you want Jupyter Notebooks to start from a specific location.\n",
    "\n",
    "Open an **Anaconda Prompt** and enter the following\n",
    "```\n",
    "jupyter notebook --generate-config\n",
    "```\n",
    "This command will generate a configuration for your Jupyter installation at *C:\\Users\\yourusername\\\\.jupyter\\jupyter_notebook_config.py* (for the nerds of you - yeah, it's a python code file).\n",
    "The location on a Mac is probably at a similar location.\n",
    "Open the file with a text editor and search for the line\n",
    "``` python\n",
    "#c.NotebookApp.notebook_dir = ''\n",
    "```\n",
    "Remove the \\# at the beginning (this is the character for code comments) and enter the path you want Jupyter to start from.\n",
    "Your entry should now look like\n",
    "``` python\n",
    "c.NotebookApp.notebook_dir = 'path/to/your/folder'\n",
    "```\n",
    "**Note:**\n",
    "- And use / within your path and not \\\\ as it is common on windows systems.\n",
    "Otherwise the path might not work.\n",
    "- Use single quotes (') instead of double quotes (\")"
   ]
  },
  {
   "cell_type": "markdown",
   "metadata": {},
   "source": [
    "### Change the security settings"
   ]
  },
  {
   "cell_type": "markdown",
   "metadata": {},
   "source": [
    "**PLEASE NOTE: This step is only necessary, if your notebooks won't start property (e.g., installation at a location with unicode characters).**\n",
    "If your Jupyter Lab or Jupyter Notebook starts, you must not change the security settings."
   ]
  },
  {
   "cell_type": "markdown",
   "metadata": {},
   "source": [
    "Within the configuration, you'll find the following line\n",
    "``` python\n",
    "# c.NotebookApp.token = '<generated>'\n",
    "```\n",
    "Per default, a new token is generated everytime you start a new server.\n",
    "\n",
    "Now, you can either set the token to a fixed value, like\n",
    "``` python\n",
    "c.NotebookApp.token = 'ffed3a68-f5b2-47a3-bb11-df8711c5aab3'\n",
    "```\n",
    "*Note: This is just an example. You can choose your own token value.*\n",
    "\n",
    "or to none (security is disabled)\n",
    "``` python\n",
    "c.NotebookApp.token = ''\n",
    "```\n",
    "\n",
    "In the first case, your server will always run at\n",
    "- **JupyterLab:** http://localhost:8888/lab?token=ffed3a68-f5b2-47a3-bb11-df8711c5aab3\n",
    "- **Jupyter Notebook:** http://localhost:8888/tree?token=ffed3a68-f5b2-47a3-bb11-df8711c5aab3\n",
    "\n",
    "In the second case, your server will always run at\n",
    "- **JupyterLab:** http://localhost:8888/lab\n",
    "- **Juypter Notebook:** http://localhost:8888/tree\n",
    "\n",
    "Please note: The port (`8888`) might be incremented by `1` (e.g. `8889`) if `8888` is already blocked.\n",
    "Thus, if http://localhost:8888/lab is already used, the next server will be hosted at http://localhost:8889/lab"
   ]
  },
  {
   "cell_type": "markdown",
   "metadata": {},
   "source": [
    "## Run Anaconda"
   ]
  },
  {
   "cell_type": "markdown",
   "metadata": {},
   "source": [
    "Check that your installation is running by starting **Anaconda Navigator**.\n",
    "Start the **Anaconda Navigator** with elevated privileges, otherwise your notebooks might not run.\n",
    "When running the navigator, you should be able to get to the following screen.\n",
    "\n",
    "<img src=\"./AnacondaNavigator.png\" style=\"height:600px\" />\n",
    "\n",
    "And then try to start either **JupyterLab** or **Jupyter Notebook**.\n",
    "Both tools will open a new browser tab.\n",
    "And you are ready for the exercises."
   ]
  }
 ],
 "metadata": {
  "kernelspec": {
   "display_name": "Python 3 (ipykernel)",
   "language": "python",
   "name": "python3"
  },
  "language_info": {
   "codemirror_mode": {
    "name": "ipython",
    "version": 3
   },
   "file_extension": ".py",
   "mimetype": "text/x-python",
   "name": "python",
   "nbconvert_exporter": "python",
   "pygments_lexer": "ipython3",
   "version": "3.9.7"
  },
  "vscode": {
   "interpreter": {
    "hash": "11938c6bc6919ae2720b4d5011047913343b08a43b18698fd82dedb0d4417594"
   }
  }
 },
 "nbformat": 4,
 "nbformat_minor": 4
}
