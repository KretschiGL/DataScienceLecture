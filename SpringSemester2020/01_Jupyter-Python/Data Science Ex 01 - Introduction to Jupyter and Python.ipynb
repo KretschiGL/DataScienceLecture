{
 "cells": [
  {
   "cell_type": "markdown",
   "metadata": {},
   "source": [
    "# Data Science Ex 01 - Introduction to Jupyter & Python"
   ]
  },
  {
   "cell_type": "markdown",
   "metadata": {},
   "source": [
    "16.02.2020, Lukas Kretschmar (lukas.kretschmar@hsr.ch)"
   ]
  },
  {
   "cell_type": "markdown",
   "metadata": {},
   "source": [
    "## Let's have some Fun with Data Science!"
   ]
  },
  {
   "cell_type": "markdown",
   "metadata": {},
   "source": [
    "Welcome to Data Science.\n",
    "We will use an interactive environment where you can mix text and code, with the awesome feature that you can execute the code."
   ]
  },
  {
   "cell_type": "markdown",
   "metadata": {},
   "source": [
    "## Preparation"
   ]
  },
  {
   "cell_type": "markdown",
   "metadata": {},
   "source": [
    "We will work with Anaconda.\n",
    "Please follow the installation instructions provided under the following link: https://docs.anaconda.com/anaconda/install/\n",
    "\n",
    "Install the distribution that uses **Python 3.7**.\n",
    "\n",
    "**Note:** Anaconda needs up to **6 GB** of disk space. So, make sure you have this amount of storage available on your machine.\n",
    "\n",
    "After the installation is complete, you sould also run an update to ensure that all packages are up-to-date.\n",
    "To do so, open an **Anaconda Prompt with elevated privileges (administrator rights)** and enter the following\n",
    "```\n",
    "conda update --all\n",
    "```"
   ]
  },
  {
   "cell_type": "markdown",
   "metadata": {},
   "source": [
    "## We will have some Fun!"
   ]
  },
  {
   "cell_type": "markdown",
   "metadata": {},
   "source": [
    "In a couple of weeks, you will be able to do this."
   ]
  },
  {
   "cell_type": "code",
   "execution_count": null,
   "metadata": {},
   "outputs": [],
   "source": [
    "%matplotlib inline\n",
    "\n",
    "import numpy as np\n",
    "import pandas as pd\n",
    "import matplotlib.pyplot as plt\n",
    "import seaborn as sns\n",
    "sns.set()\n",
    "\n",
    "games = pd.read_csv(\"./Demo_VideoGames.csv\")\n",
    "platforms = [\"PC\", \"XB\", \"X360\", \"XOne\", \"PS\", \"PS2\", \"PS3\", \"PS4\", \"PSV\", \"N64\", \"Wii\", \"WiiU\", \"GB\", \"GC\", \"GBA\", \"DS\", \"3DS\"]\n",
    "myGames = games[(games[\"Platform\"].isin(platforms))]\n",
    "\n",
    "xlim = (-1, myGames[\"EU_Sales\"].max() + 1)\n",
    "ylim = (-1, myGames[[\"NA_Sales\", \"JP_Sales\"]].max().max() + 5)\n",
    "\n",
    "platformNumbers = list(range(len(platforms)))\n",
    "platformIds = dict(zip(platforms, platformNumbers))\n",
    "cmap = \"rainbow\"\n",
    "alpha = .6\n",
    "style = {\"cmap\":cmap, \"vmin\":platformNumbers[0], \"vmax\":platformNumbers[-1], \"alpha\":alpha, \"colorbar\": False}\n",
    "\n",
    "def setColorbar(fig, ax, labelDict):\n",
    "    colorbar = fig.colorbar(ax=ax, mappable=ax.collections[0])\n",
    "    colorbar.set_ticks(list(labelDict.values()))\n",
    "    colorbar.set_ticklabels(list(labelDict.keys()))\n",
    "\n",
    "def getSizeAndColors(games):\n",
    "    return games[\"Global_Sales\"] * 10, games[\"Platform\"].replace(platformIds)\n",
    "\n",
    "topPercent = .01    \n",
    "\n",
    "naGames = myGames[myGames[\"NA_Sales\"] >= myGames[\"NA_Sales\"].quantile(1-topPercent)]\n",
    "naSizes, naColors = getSizeAndColors(naGames)\n",
    "\n",
    "jpGames = myGames[myGames[\"JP_Sales\"] >= myGames[\"JP_Sales\"].quantile(1-topPercent)]\n",
    "jpSizes, jpColors = getSizeAndColors(jpGames)\n",
    "\n",
    "fig, ax = plt.subplots(2,1, figsize=(20, 10))\n",
    "axNA = naGames.plot.scatter(ax=ax[0], x=\"EU_Sales\", y=\"NA_Sales\", s=naSizes, c=naColors, **style)\n",
    "axNA.set(xlim=xlim, ylim=ylim)\n",
    "setColorbar(fig, axNA, platformIds)\n",
    "\n",
    "axJP = jpGames.plot.scatter(ax=ax[1], x=\"EU_Sales\", y=\"JP_Sales\", s=jpSizes, c=jpColors, **style)\n",
    "axJP.set(xlim=xlim, ylim=ylim)\n",
    "setColorbar(fig, axJP, platformIds)\n",
    "\n",
    "# Findings\n",
    "def getCoord(game, sales, offset=None):\n",
    "    corr = offset or (0,0)\n",
    "    return (game[\"EU_Sales\"] + corr[0], game[sales] + corr[1])\n",
    "\n",
    "wiiSports = games[games[\"Name\"] == \"Wii Sports\"]\n",
    "axNA.annotate(\"Wii Sports\", xy=getCoord(wiiSports, \"NA_Sales\", (-.2,-3)), xytext=(-100, -50), textcoords=\"offset points\", arrowprops=dict(arrowstyle=\"fancy\", ec=\"g\", fc=\"g\", connectionstyle=\"angle3,angleA=0,angleB=-120\"))\n",
    "axJP.annotate(\"Wii Sports\", xy=getCoord(wiiSports, \"JP_Sales\", (-.2,3)), xytext=(-100, 50), textcoords=\"offset points\", arrowprops=dict(arrowstyle=\"fancy\", ec=\"g\", fc=\"g\", connectionstyle=\"angle3,angleA=0,angleB=120\"))\n",
    "\n",
    "axNA.annotate(\"XBox Games\", xy=(4,12), xytext=(50, 50), textcoords=\"offset points\", arrowprops=dict(arrowstyle=\"fancy\", ec=\"purple\", fc=\"blue\", alpha=.5, connectionstyle=\"angle3,angleA=0,angleB=120\"))\n",
    "axJP.annotate(\"No XBox Games\", xy=(4,15), xytext=(50, 50), textcoords=\"offset points\", arrowprops=dict(arrowstyle=\"fancy\", ec=\"purple\", fc=\"blue\", alpha=.5, connectionstyle=\"angle3,angleA=0,angleB=-120\"))\n",
    "\n",
    "axJP.annotate(\"\", xy=(0, 10), xytext=(5,10), arrowprops=dict(arrowstyle=\"|-|,widthA=.4,widthB=.4\",ec=\"r\"))\n",
    "axJP.annotate(\"Handheld Games\", xy=(2.5, 10), xytext=(0,5), textcoords=\"offset points\", ha=\"center\")\n",
    "\n",
    "pokemonRedBlue = games[games[\"Name\"] == \"Pokemon Red/Pokemon Blue\"]\n",
    "axJP.annotate(\"Pokemon Red/Pokemon Blue\", xy=getCoord(pokemonRedBlue, \"JP_Sales\", (.1,2)), xytext=(100, 50), textcoords=\"offset points\", arrowprops=dict(arrowstyle=\"fancy\", ec=\"r\", fc=\"orange\", alpha=.5, connectionstyle=\"angle3,angleA=0,angleB=75\"))"
   ]
  },
  {
   "cell_type": "markdown",
   "metadata": {},
   "source": [
    "But let's start slow.\n",
    "One step at a time."
   ]
  },
  {
   "cell_type": "markdown",
   "metadata": {},
   "source": [
    "##  Project Jupyter"
   ]
  },
  {
   "cell_type": "markdown",
   "metadata": {},
   "source": [
    "<img src=\"https://jupyter.org/assets/main-logo.svg\" style=\"height: 200px\"/>"
   ]
  },
  {
   "cell_type": "markdown",
   "metadata": {},
   "source": [
    "**Project Jupyter** (https://jupyter.org/) offers an open, web-based platform that can be used to develop *smart* documents.\n",
    "As you can see, it is used by many well known companies and organizations.\n",
    "So it's definitelly something to build upon.\n",
    "The heart - the *smart* document - is called a *Notebook*."
   ]
  },
  {
   "cell_type": "markdown",
   "metadata": {},
   "source": [
    "### Jupyter Notebook"
   ]
  },
  {
   "cell_type": "markdown",
   "metadata": {},
   "source": [
    "A *Jupyter Notebook* is a smart document that allows you to mix formatted text with executable code and other logic.\n",
    "The text uses a notation called **Markdown** - we will get to that shortly.\n",
    "Every notebook runs a so called *Kernel* that interprets the code.\n",
    "In our case, that's a **Python 3** Kernel (see top right corner of the document).\n",
    "And we will stick with that throughout the duration of this course (for the crazy ones, there is also a MATLAB Kernel available, I'm just saying...).\n",
    "So you will have to get comftable with the basics of Python, which is the goal of today's exercise.\n",
    "Well, this and getting Jupyter working on your device."
   ]
  },
  {
   "cell_type": "markdown",
   "metadata": {},
   "source": [
    "In the background, a notebook is nothing more than a text file, stored as JSON (https://www.json.org/json-en.html).\n",
    "You should already be familiar with this format, and if not, you don't have to bother with it anyway.\n",
    "```javascript\n",
    "{\n",
    " \"cells\": [\n",
    "  {\n",
    "   \"cell_type\": \"markdown\",\n",
    "   \"metadata\": {},\n",
    "   \"source\": [\n",
    "    \"# Data Science Ex 01 - Introduction to Jupyter & Python\"\n",
    "   ]\n",
    "  },\n",
    "  {\n",
    "   \"cell_type\": \"markdown\",\n",
    "   \"metadata\": {},\n",
    "   \"source\": [\n",
    "    \"16.01.2020, Lukas Kretschmar (lukas.kretschmar@hsr.ch)\"\n",
    "   ]\n",
    "  },\n",
    "  {\n",
    "   \"cell_type\": \"markdown\",\n",
    "   \"metadata\": {},\n",
    "   \"source\": [\n",
    "    \"Welcome to Data Science.\\n\",\n",
    "    \"We will use an interactive environment, where you can mix text and code with the awesome feature that you can execute the code.\"\n",
    "   ]\n",
    "  },\n",
    "  {\n",
    "   \"cell_type\": \"markdown\",\n",
    "   \"metadata\": {},\n",
    "   \"source\": [\n",
    "    \"##  Project Jupyter\"\n",
    "   ]\n",
    "  },\n",
    "  ...\n",
    "```\n",
    "This is an example of the beginning of this document.\n",
    "The *cell_type* provides information on how to interpret the cell.\n",
    "And the *source* containts the content.\n",
    "\n",
    "Many benefits result from such a structure.\n",
    "1. The content of the document is minimized to the essential information.\n",
    "2. You can find information within a document easily.\n",
    "3. You can edit documents with very basic text editors (e.g. VS Code (https://code.visualstudio.com), Notepad++ (https://notepad-plus-plus.org)).\n",
    "4. Documents can be handled like code, and thus could be managed by repositories (e.g. Git (https://git-scm.com), GitHub (https://github.com)).\n",
    " + But you are absolutely fine, if you just store the files locally on your computer, or use SWITCHDrive, Dropbox, or other cloud-based storage."
   ]
  },
  {
   "cell_type": "markdown",
   "metadata": {},
   "source": [
    "### Editors"
   ]
  },
  {
   "cell_type": "markdown",
   "metadata": {},
   "source": [
    "There are two different, web-based editors that you can use to work with Juypter Notebooks.\n",
    "For one, there is an editor call - surprise, surprise - *Juypter Notebook*, that is a bit older.\n",
    "And there is the newer *JupyterLab*.\n",
    "For this course, it's up to you which editor you want to use.\n",
    "And you can switch the editor as and when you want.\n",
    "The notebook (file) can be read and edited by both - even the keyboard shortcuts are the same."
   ]
  },
  {
   "cell_type": "markdown",
   "metadata": {},
   "source": [
    "#### Jupyter Notebook"
   ]
  },
  {
   "cell_type": "markdown",
   "metadata": {},
   "source": [
    "The Jupyter Notebook editor is held very simple, with a file browser to navigate to your notebook and an editor view for working with a notebook.\n",
    "Every notebook will be openend in it's own tab within your browser."
   ]
  },
  {
   "cell_type": "markdown",
   "metadata": {},
   "source": [
    "<img src=\"https://jupyter.org/assets/jupyterpreview.png\" style=\"height: 500px\" />"
   ]
  },
  {
   "cell_type": "markdown",
   "metadata": {},
   "source": [
    "#### JupyterLab"
   ]
  },
  {
   "cell_type": "markdown",
   "metadata": {},
   "source": [
    "JupyterLab, compared to Jupyter Notebook, is more like an IDE (Integrated Development Environment).\n",
    "So, it's more than just a simple editor.\n",
    "It can handle different file types than just the \\*.ipynb format.\n",
    "And it opens files in tabs but not in new tabs in your browser.\n",
    "Further, you can have multiple tabs opened and visible at the same time."
   ]
  },
  {
   "cell_type": "markdown",
   "metadata": {},
   "source": [
    "<img src=\"https://jupyter.org/assets/labpreview.png\" style=\"height: 500px\" />"
   ]
  },
  {
   "cell_type": "markdown",
   "metadata": {},
   "source": [
    "As said above, it is up to you which editor you'll use.\n",
    "For teaching, we'll use **JupyterLab** - because it's the future."
   ]
  },
  {
   "cell_type": "markdown",
   "metadata": {},
   "source": [
    "### Markdown"
   ]
  },
  {
   "cell_type": "markdown",
   "metadata": {},
   "source": [
    "As mentioned earlier, text is formatted using *Markdown*.\n",
    "Markdown is text where some character or sequence of characters have special meanings and are interpreted and rendered by editors.\n",
    "We will give you a short introduction to Markdown, so you can change and extend notebooks as you go through the exercises, or create totally new notebooks.\n",
    "\n",
    "You can find a list of all possibilities under https://help.github.com/en/github/writing-on-github/basic-writing-and-formatting-syntax.\n",
    "Or, if you use JupyterLab, there is a *Markdown Reference page* that includes a tutorial.\n",
    "But, we'll give a short introduction to the basic tools you might need."
   ]
  },
  {
   "cell_type": "markdown",
   "metadata": {},
   "source": [
    "#### Headings"
   ]
  },
  {
   "cell_type": "markdown",
   "metadata": {},
   "source": [
    "Documents can be structured with headings.\n",
    "A heading is a line of text that starts with a **\\#**.\n",
    "Whatever follows the hashtag will be interpreted as heading of a section (note: there must be a space between the \\# and the text).\n",
    "Subsections can be created by usinging multiple characters (e.g. \\# for top level, \\#\\# for second level, \\#\\#\\# for third level, and so on).\n",
    "To avoid any confusion within this document, we won't add some dummy headings in here, but you can check the existing fields or have a look at the JSON example from above."
   ]
  },
  {
   "cell_type": "markdown",
   "metadata": {},
   "source": [
    "#### Styling"
   ]
  },
  {
   "cell_type": "markdown",
   "metadata": {},
   "source": [
    "You can also style text as **\\*\\*bold\\*\\*** or _\\*italic\\*_.\n",
    "\n",
    "> If you want to include a quote, use a **\\>** at the beginning of the line.\n",
    "\n",
    "Showing code in markdown is a bit more complex, but looks pretty cool.\n",
    "To format code, you need to encapsulate it with 3x \\` and an optional specification of the programming language/code format.\n",
    "The specification of the programming language will colorize and format the code as it would have been written in that language (e.g. it is not a coincidence that the JSON example above is visualized in this brownish red).\n",
    "\n",
    "As an example\n",
    "\n",
    "\\`\\`\\` python\\\n",
    "a = 42\\\n",
    "\\`\\`\\`\\\n",
    "will be rendered as\n",
    "``` python\n",
    "a = 42\n",
    "```\n"
   ]
  },
  {
   "cell_type": "markdown",
   "metadata": {},
   "source": [
    "#### Links"
   ]
  },
  {
   "cell_type": "markdown",
   "metadata": {},
   "source": [
    "Links are included pretty straight forward.\n",
    "Just past the url, and it gets interpreted as hyperlink.\n",
    "If you want to specify the text of a link, then you have to write the text within \\[ \\] and the encapsualte the url with \\( \\).\n",
    "So \\[WING @ HSR\\]\\(https://www.hsr.ch/de/studium/bachelor/studiengaenge/wirtschaftsingenieurwesen-wing/uebersicht/\\) will be rendered as [WING @ HSR](https://www.hsr.ch/de/studium/bachelor/studiengaenge/wirtschaftsingenieurwesen-wing/uebersicht/)."
   ]
  },
  {
   "cell_type": "markdown",
   "metadata": {},
   "source": [
    "#### Lists"
   ]
  },
  {
   "cell_type": "markdown",
   "metadata": {},
   "source": [
    "There are many different ways to create lists.\n",
    "For unnumbered list, you can use + or - at the beginning of the line.\n",
    "For numbered list, just write 1., 2., ... at the beginning.\n",
    "\n",
    "\\- Item\\\n",
    "\\- Other Item\\\n",
    "gets\n",
    "- Item\n",
    "- Other Item\n",
    "\n",
    "And numbered list look like\n",
    "1. First Item\n",
    "2. Second Item\n",
    "\n",
    "Creating hierarchical lists is done by indenting text.\n",
    "And you can even mix unnumbered and numbered lists.\n",
    "\n",
    "\\+ Root Level\\\n",
    "&nbsp;&nbsp;&nbsp;&nbsp;1. First Level\\\n",
    "&nbsp;&nbsp;&nbsp;&nbsp;&nbsp;&nbsp;&nbsp;&nbsp;+ Second Level\\\n",
    "gets\n",
    "+ Root Level\n",
    "  1. First Level\n",
    "    + Second Level\n",
    "\n",
    "You could even create task lists by adding \\[x\\] or \\[ \\] (you need a space inbeween the brackets).\n",
    "- [x] Completed Task\n",
    "- [ ] Open Task"
   ]
  },
  {
   "cell_type": "markdown",
   "metadata": {},
   "source": [
    "#### Images"
   ]
  },
  {
   "cell_type": "markdown",
   "metadata": {},
   "source": [
    "Including images is also done pretty easily.\n",
    "Out-of-the-box, Markdown supports images by using the following format:\n",
    "\n",
    "**\\!** **\\[** *alternate text, if image cannot be shown* **\\]\\(** *url to image, can also be a path on the file system* **\\)**\n",
    "\n",
    "So, \\!\\[OST\\]\\(https://www.ost.ch/typo3conf/ext/ost_sitepackage/Resources/Public/Images/Logo_Unterzeile.png\\) is visualized as\n",
    "\n",
    "![OST](https://www.ost.ch/typo3conf/ext/ost_sitepackage/Resources/Public/Images/Logo_Unterzeile.png)\n",
    "\n",
    "The thing is, if you use this simple format, you cannot handle the size or position of the image.\n",
    "If you want to control these properties, you have to use the HTML image tag.\n",
    "In this case,\n",
    "```html\n",
    "<img src=\"https://www.ost.ch/typo3conf/ext/ost_sitepackage/Resources/Public/Images/Logo_Unterzeile.png\" style=\"height:50px\" />\n",
    "```\n",
    "\n",
    "will be shown as\n",
    "\n",
    "<img src=\"https://www.ost.ch/typo3conf/ext/ost_sitepackage/Resources/Public/Images/Logo_Unterzeile.png\" style=\"height:50px\" />"
   ]
  },
  {
   "cell_type": "markdown",
   "metadata": {},
   "source": [
    "And that's about it what you need to know about Markdown.\n",
    "All the exercises are written using these basic tools."
   ]
  },
  {
   "cell_type": "markdown",
   "metadata": {},
   "source": [
    "## Anaconda"
   ]
  },
  {
   "cell_type": "markdown",
   "metadata": {},
   "source": [
    "To get Jupyter Notebook running on your machine, you could either nerd around with your console and follow the steps in their [installation manual](https://jupyter.org/install).\n",
    "Or you simple get [Anaconda](https://www.anaconda.com), because it comes with an installer.\n",
    "\n",
    "**Anaconda** bundles everything we, or in a more general definition - Data Scientists - need.\n",
    "Python is by no means everything we need.\n",
    "But it's just the programming language we will use.\n",
    "What we actually need, are libraries that offer functions to do number crunching.\n",
    "Some of these are:\n",
    "- [NumPy](https://numpy.org) (containing optimized data types)\n",
    "- [Pandas](https://pandas.pydata.org) (data structures and functions)\n",
    "- [matplotlib](https://matplotlib.org) (to visualize stuff)\n",
    "- [seaborn](https://seaborn.pydata.org) (to enhance visualization)\n",
    "- [scikit-learn](https://scikit-learn.org/stable/) (to do even heavier number crunching)\n",
    "- [TensorFlow](https://www.tensorflow.org) (if you want to go into machine learning)\n",
    "\n",
    "We will have a look at the basic packages in the exercises next week."
   ]
  },
  {
   "cell_type": "markdown",
   "metadata": {},
   "source": [
    "### Installation"
   ]
  },
  {
   "cell_type": "markdown",
   "metadata": {},
   "source": [
    "**Note:** Anaconda needs up to **6 GB** of disk space. Soe, make sure you have this amount of storage available on your machine."
   ]
  },
  {
   "cell_type": "markdown",
   "metadata": {},
   "source": [
    "The installation is pretty straight forward: https://docs.anaconda.com/anaconda/install/\n",
    "\n",
    "Install the distribution that uses **Python 3.7**.\n",
    "\n",
    "After the installation is complete, we also run an update to ensure that all packages are up-to-date.\n",
    "To do so, open an **Anaconda Prompt with elevated privileges (administrator rights)** and enter the following\n",
    "```\n",
    "conda update --all\n",
    "```"
   ]
  },
  {
   "cell_type": "markdown",
   "metadata": {},
   "source": [
    "### Configuration"
   ]
  },
  {
   "cell_type": "markdown",
   "metadata": {},
   "source": [
    "Juypter Notebooks opens the file browser in a specific directory.\n",
    "Per default, it's your *My Documents* folder.\n",
    "You can change the starting location to a different path by editing the configuration.\n",
    "So, the [following](https://stackoverflow.com/questions/35254852/how-to-change-the-jupyter-start-up-folder) steps are only necessary, if you want Jupyter Notebooks to start from a specific location.\n",
    "\n",
    "Open an **Anaconda Prompt** and enter the following\n",
    "```\n",
    "jupyter notebook --generate-config\n",
    "```\n",
    "This command will generate a configuration for your Jupyter installation at *C:\\Users\\yourusername\\\\.jupyter\\jupyter_notebook_config.py* (for the nerds of you - yeah, it's a python code file).\n",
    "The location on a Mac is probably at a similar location.\n",
    "Open the file with a text editor and search for the line\n",
    "``` python\n",
    "#c.NotebookApp.notebook_dir = ''\n",
    "```\n",
    "Remove the \\# at the beginning (this is the character for code comments) and enter the path you want Jupyter to start per default.\n",
    "Your entry should now look like\n",
    "``` python\n",
    "c.NotebookApp.notebook_dir = 'path\\to\\your\\folder'\n",
    "```"
   ]
  },
  {
   "cell_type": "markdown",
   "metadata": {},
   "source": [
    "### Run the Application"
   ]
  },
  {
   "cell_type": "markdown",
   "metadata": {},
   "source": [
    "Anaconda installs several tools onto your machine.\n",
    "You already heard about the **Anaconda Prompt** which is a console application to interact with Anaconda.\n",
    "For a simpler interaction with the tools and features of Anaconda, we will use the **Anaconda Navigator**.\n",
    "\n",
    "<img src=\"./AnacondaNavigator.png\" style=\"height:600px\" />\n",
    "\n",
    "Here you see the available tools on your machine.\n",
    "Please note, depending on your installation and configuration, you may see other tools.\n",
    "\n",
    "What we need during this course is either **JupyterLab** or **Juypter Notebook**.\n",
    "It is up to you, which of these tools you want to use.\n",
    "There are differences between the tools, as mentioned above, but within this course, you wont have any significant advantages by using one over the other.\n",
    "Each tool will open in a new browser tab and from there, you can navigate to your notebooks and open them."
   ]
  },
  {
   "cell_type": "markdown",
   "metadata": {},
   "source": [
    "### Closing Notebooks"
   ]
  },
  {
   "cell_type": "markdown",
   "metadata": {},
   "source": [
    "Working with notebooks is pretty easy.\n",
    "Just double-click on your notebooks in the file browser and they'll open in a new tab.\n",
    "Closing them is a bit more complex than just clicking once.\n",
    "When a notebook is opened, a Kernel is started.\n",
    "We talked about Kernels at the beginning of this notebook.\n",
    "\n",
    "A Kernel is the environment running in the background of every notebook that executes the code used withing that notebook.\n",
    "So in our case, it's a Python 3 Kernel, because we are using Python-based notebooks.\n",
    "When you close the tab of your notebook (doesn't matter if it's a browser tab (Jupyter Notebooks) or a tab in JupyterLab), the Kernel continue executing.\n",
    "This way, when you open the notebook again, all the variables and values are still in cache an you can simply continues working.\n",
    "\n",
    "If you open a notebook that was previously worked with, but the Kernel was shutdown in the meantime, you may have to execute some code again to prepare the environment to continue working.\n",
    "So, when you close notebooks for good, you should shutdown the Kernel as well to free your machine's resources.\n",
    "To do so, in **JuypterLab** you have to switch to *Running Terminals and Kernels* by changing the tab on the left side and then click *SHUT DOWN*.\n",
    "\n",
    "<img src=\"./JupyterLab_Kernels_Annotated.png\" style=\"height:250px\" />\n",
    "\n",
    "In **Jupyter Notebooks** you have to switch the tab on top to *Running* and the click *Shutdown*.\n",
    "\n",
    "<img src=\"./JupyterNotebooks_Kernels_Annotated.png\" style=\"height:250px\" />\n"
   ]
  },
  {
   "cell_type": "markdown",
   "metadata": {},
   "source": [
    "## Python"
   ]
  },
  {
   "cell_type": "markdown",
   "metadata": {},
   "source": [
    "After having prepared your environment, now let's move to the fun part.\n",
    "Learning Python!\n",
    "Python is a simple but mighty programming language that is widely used in scientific areas - therefore also in Data Science disciplines - and beyond.\n",
    "You'll see in a moment that it is pretty easy to work with Python, and within this course, the code that is provided and that you have to develop is pretty simple.\n",
    "You shouldn't worry about classes and objects, because the code is more like scripting where you'll just be writing expression after expression.\n",
    "The structure is basically from top to bottom.\n",
    "However, we will introduce a larger set of Python syntax in the following sections, just that you have seen it and can use it if you want."
   ]
  },
  {
   "cell_type": "markdown",
   "metadata": {},
   "source": [
    "### What's different"
   ]
  },
  {
   "cell_type": "markdown",
   "metadata": {},
   "source": [
    "Within this course, you may will see three major differences compared to other programming language and depending on your background that you probably will like (they are also primary reasons, why Python has such huge acceptance and finds application in the scientific community).\n",
    "1. **There are data types, but you don't have to worry about them when assigning values.**\n",
    "\n",
    "You may have worked with other languages that do not use *static type checking* or, in a more humorouse way, are using *duck typing*.\n",
    "This means, Python won't check your assignments when coding regarding the types used, only when the code is executed.\n",
    "And if possible, will change the data type of a variable.\n",
    "\n",
    "For example, the following code works perfecly."
   ]
  },
  {
   "cell_type": "code",
   "execution_count": null,
   "metadata": {},
   "outputs": [],
   "source": [
    "a = 42\n",
    "print(type(a))\n",
    "\n",
    "a = \"text\"\n",
    "print(type(a))\n",
    "\n",
    "a = []\n",
    "print(type(a))\n",
    "\n",
    "a = {}\n",
    "print(type(a))"
   ]
  },
  {
   "cell_type": "markdown",
   "metadata": {},
   "source": [
    "You see, variable `a` changes its data type from assignment to assignment."
   ]
  },
  {
   "cell_type": "markdown",
   "metadata": {},
   "source": [
    "The other major difference, that you may notice (if you know C#, Java or other object-oriented languages) is"
   ]
  },
  {
   "cell_type": "markdown",
   "metadata": {},
   "source": [
    "2. **You don't need classes to structure code.**"
   ]
  },
  {
   "cell_type": "markdown",
   "metadata": {},
   "source": [
    "You can simply write code and it gets executed.\n",
    "Don't worry about if it's in a class or function.\n",
    "It just gets executed sequentially.\n",
    "You sill can create classes and functions, but you are not forced to."
   ]
  },
  {
   "cell_type": "markdown",
   "metadata": {},
   "source": [
    "The third difference is"
   ]
  },
  {
   "cell_type": "markdown",
   "metadata": {},
   "source": [
    "3. **Indention (spacing to the left of your line) matters**"
   ]
  },
  {
   "cell_type": "markdown",
   "metadata": {},
   "source": [
    "As you see later, Python does not use curly brackets { } to introduce code blocks.\n",
    "It uses the indention on the left side, to determine which statements belong to which block.\n",
    "And it even matters if you use spaces or tabs (some editors automatically change tabs to a certain number of spaces, so you're of the hook).\n",
    "Just be aware of this behavior.\n",
    "It is up to you, if you want to use spaces or tabs, the statements just have to be on the same level.\n",
    "\n",
    "For example, the following code does not run."
   ]
  },
  {
   "cell_type": "code",
   "execution_count": null,
   "metadata": {},
   "outputs": [],
   "source": [
    "b = 42\n",
    "    b = 44\n",
    "b"
   ]
  },
  {
   "cell_type": "markdown",
   "metadata": {},
   "source": [
    "And here, we trigger unintended behavior."
   ]
  },
  {
   "cell_type": "code",
   "execution_count": null,
   "metadata": {},
   "outputs": [],
   "source": [
    "c = 4\n",
    "\n",
    "def doubleAndSquare(c):\n",
    "    c += c\n",
    "c = c**2\n",
    "\n",
    "c"
   ]
  },
  {
   "cell_type": "markdown",
   "metadata": {},
   "source": [
    "To be fair, this code example is pretty shitty and I'll hunt you down, if you code like this.\n",
    "But you get the point."
   ]
  },
  {
   "cell_type": "markdown",
   "metadata": {},
   "source": [
    "### Programming Basics"
   ]
  },
  {
   "cell_type": "markdown",
   "metadata": {},
   "source": [
    "Now let's have a look on how to code Python.\n",
    "Usually, Python code is stored within \\*.py files.\n",
    "So, you may will stumble accross such files during this course.\n",
    "But for now, you simply have to know that \\*.ipynb files are the files that contain your Python code."
   ]
  },
  {
   "cell_type": "markdown",
   "metadata": {},
   "source": [
    "#### Data Types"
   ]
  },
  {
   "cell_type": "markdown",
   "metadata": {},
   "source": [
    "Reference: https://www.w3schools.com/python/python_datatypes.asp"
   ]
  },
  {
   "cell_type": "markdown",
   "metadata": {},
   "source": [
    "Python offers you the basic data types that you expect from every programming language.\n",
    "There are booleans, integers, floating point numbers and strings.\n",
    "There is even a data type for complex numbers which we won't need."
   ]
  },
  {
   "cell_type": "code",
   "execution_count": null,
   "metadata": {},
   "outputs": [],
   "source": [
    "b = True #boolean\n",
    "print(type(b))\n",
    "\n",
    "i = 42 #integers\n",
    "print(type(i))\n",
    "\n",
    "f = 4.2 #floating point numbers\n",
    "print(type(f))\n",
    "\n",
    "s = \"42\" #string\n",
    "print(type(s))\n",
    "\n",
    "by = b\"42\" #bytes\n",
    "print(type(by))"
   ]
  },
  {
   "cell_type": "markdown",
   "metadata": {},
   "source": [
    "As you see, with `type(var)` you can get the name of data type of a variable.\n",
    "\n",
    "Side note: You can use `print(stm)` to print out information that is generated within within a code block.\n",
    "Otherwise, only the last statement is printed if possible."
   ]
  },
  {
   "cell_type": "code",
   "execution_count": null,
   "metadata": {},
   "outputs": [],
   "source": [
    "type(i)\n",
    "type(f)"
   ]
  },
  {
   "cell_type": "markdown",
   "metadata": {},
   "source": [
    "You can also format (place values of variables into a string)"
   ]
  },
  {
   "cell_type": "code",
   "execution_count": null,
   "metadata": {},
   "outputs": [],
   "source": [
    "print(\"i = \" + str(i)) # building a string\n",
    "print(\"i = {}\".format(i)) # formating a string\n",
    "print(f\"i = {i}\") # short format for formating <- I'll prefer this one"
   ]
  },
  {
   "cell_type": "markdown",
   "metadata": {},
   "source": [
    "Something special about Python is the fact that there is a type for the absence of a value.\n",
    "You may know `null` from other programming languages, but that's just a value for `object`.\n",
    "In Python, the equivalent is `None`, but with its own type."
   ]
  },
  {
   "cell_type": "code",
   "execution_count": null,
   "metadata": {},
   "outputs": [],
   "source": [
    "n = None\n",
    "type(n)"
   ]
  },
  {
   "cell_type": "markdown",
   "metadata": {},
   "source": [
    "We can work with variables of different data types as we want.\n",
    "The resulting type is then changed to the more flexible one, if possible.\n",
    "If not, you'll get an error."
   ]
  },
  {
   "cell_type": "code",
   "execution_count": null,
   "metadata": {},
   "outputs": [],
   "source": [
    "r = b + i #boolean + integer\n",
    "f\"{r} ({type(r)})\""
   ]
  },
  {
   "cell_type": "code",
   "execution_count": null,
   "metadata": {},
   "outputs": [],
   "source": [
    "r = i + f #integer + float\n",
    "f\"{r} ({type(r)})\""
   ]
  },
  {
   "cell_type": "code",
   "execution_count": null,
   "metadata": {},
   "outputs": [],
   "source": [
    "r = b + f #boolean + float\n",
    "f\"{r} ({type(r)})\""
   ]
  },
  {
   "cell_type": "code",
   "execution_count": null,
   "metadata": {},
   "outputs": [],
   "source": [
    "r = f + s #float + string won't work"
   ]
  },
  {
   "cell_type": "code",
   "execution_count": null,
   "metadata": {},
   "outputs": [],
   "source": [
    "r = s + f #string + float won't work, either"
   ]
  },
  {
   "cell_type": "markdown",
   "metadata": {},
   "source": [
    "If types cannot work together, we can cast them (changing the type).\n",
    "This is achieved by encapsulating the variable with the type constructor (e.g. `str(var)`, `int(var)`, `float(var)`).\n",
    "If casting is not possible, you'll get an error."
   ]
  },
  {
   "cell_type": "code",
   "execution_count": null,
   "metadata": {},
   "outputs": [],
   "source": [
    "r = s + str(f)\n",
    "f\"{r} ({type(r)})\""
   ]
  },
  {
   "cell_type": "code",
   "execution_count": null,
   "metadata": {},
   "outputs": [],
   "source": [
    "r = float(s) + f\n",
    "f\"{r} ({type(r)})\""
   ]
  },
  {
   "cell_type": "code",
   "execution_count": null,
   "metadata": {},
   "outputs": [],
   "source": [
    "r = float(\"test\")"
   ]
  },
  {
   "cell_type": "markdown",
   "metadata": {},
   "source": [
    "#### Operators"
   ]
  },
  {
   "cell_type": "markdown",
   "metadata": {},
   "source": [
    "Operators work pretty straight forward.\n",
    "And since you have a basic unterstanding of math, we won't go much into details.\n",
    "We just want to point out two important behaviors."
   ]
  },
  {
   "cell_type": "markdown",
   "metadata": {},
   "source": [
    "You can concatenate strings by using +."
   ]
  },
  {
   "cell_type": "code",
   "execution_count": null,
   "metadata": {},
   "outputs": [],
   "source": [
    "\"Hello\" + \" \" + \"World\""
   ]
  },
  {
   "cell_type": "markdown",
   "metadata": {},
   "source": [
    "And there are two different types of division.\n",
    "`/` will divide exactly and `//` will cut the remainder.\n",
    "And the result of a division is always of type `float`."
   ]
  },
  {
   "cell_type": "code",
   "execution_count": null,
   "metadata": {},
   "outputs": [],
   "source": [
    "4.2/2"
   ]
  },
  {
   "cell_type": "code",
   "execution_count": null,
   "metadata": {},
   "outputs": [],
   "source": [
    "4.2//2"
   ]
  },
  {
   "cell_type": "code",
   "execution_count": null,
   "metadata": {},
   "outputs": [],
   "source": [
    "4/2"
   ]
  },
  {
   "cell_type": "markdown",
   "metadata": {},
   "source": [
    "#### Collections"
   ]
  },
  {
   "cell_type": "markdown",
   "metadata": {},
   "source": [
    "Python also comes with several built-in collection types.\n",
    "The most important ones are:\n",
    "- List\n",
    "- Tuple\n",
    "- Set\n",
    "- Dictionary\n",
    "- Range (it's not exactly a collection, but it's no simple value)"
   ]
  },
  {
   "cell_type": "markdown",
   "metadata": {},
   "source": [
    "##### List"
   ]
  },
  {
   "cell_type": "markdown",
   "metadata": {},
   "source": [
    "Reference: https://www.w3schools.com/python/python_lists.asp"
   ]
  },
  {
   "cell_type": "markdown",
   "metadata": {},
   "source": [
    "You can create a list in Python by using `[ ]`."
   ]
  },
  {
   "cell_type": "code",
   "execution_count": null,
   "metadata": {},
   "outputs": [],
   "source": [
    "l = []\n",
    "type(l)"
   ]
  },
  {
   "cell_type": "markdown",
   "metadata": {},
   "source": [
    "We can even create lists with initial values.\n",
    "And these values do not need to be of the same type."
   ]
  },
  {
   "cell_type": "code",
   "execution_count": null,
   "metadata": {},
   "outputs": [],
   "source": [
    "l = [\"Hello World\", 42, 13.37]\n",
    "type(l)"
   ]
  },
  {
   "cell_type": "markdown",
   "metadata": {},
   "source": [
    "And we can manipulate lists by using functions."
   ]
  },
  {
   "cell_type": "code",
   "execution_count": null,
   "metadata": {},
   "outputs": [],
   "source": [
    "l = [\"Hello World\"]\n",
    "l.append(42)\n",
    "l.append(13.37)\n",
    "l"
   ]
  },
  {
   "cell_type": "code",
   "execution_count": null,
   "metadata": {},
   "outputs": [],
   "source": [
    "len(l) # length of list"
   ]
  },
  {
   "cell_type": "code",
   "execution_count": null,
   "metadata": {},
   "outputs": [],
   "source": [
    "l[0] # first element"
   ]
  },
  {
   "cell_type": "code",
   "execution_count": null,
   "metadata": {},
   "outputs": [],
   "source": [
    "l[-1] # last element"
   ]
  },
  {
   "cell_type": "code",
   "execution_count": null,
   "metadata": {},
   "outputs": [],
   "source": [
    "l[0:-1] # exclude last element, please note, when using a range, the second index is always exlcuded"
   ]
  },
  {
   "cell_type": "code",
   "execution_count": null,
   "metadata": {},
   "outputs": [],
   "source": [
    "l[1:] # exlude first element"
   ]
  },
  {
   "cell_type": "code",
   "execution_count": null,
   "metadata": {},
   "outputs": [],
   "source": [
    "l.remove(42) # removing specific value\n",
    "l"
   ]
  },
  {
   "cell_type": "code",
   "execution_count": null,
   "metadata": {},
   "outputs": [],
   "source": [
    "del l[0] # removing value at specific index\n",
    "l"
   ]
  },
  {
   "cell_type": "code",
   "execution_count": null,
   "metadata": {},
   "outputs": [],
   "source": [
    "del l # deleting whole list\n",
    "l"
   ]
  },
  {
   "cell_type": "markdown",
   "metadata": {},
   "source": [
    "You get an exception because the list does not exist anymore."
   ]
  },
  {
   "cell_type": "markdown",
   "metadata": {},
   "source": [
    "##### Tuple"
   ]
  },
  {
   "cell_type": "markdown",
   "metadata": {},
   "source": [
    "Reference: https://www.w3schools.com/python/python_tuples.asp"
   ]
  },
  {
   "cell_type": "markdown",
   "metadata": {},
   "source": [
    "You can create a tuple in Python by using `( )`.\n",
    "The difference between tuples and list is pretty simple, tuples are **immutable** (this means, you cannot change tuples)."
   ]
  },
  {
   "cell_type": "code",
   "execution_count": null,
   "metadata": {},
   "outputs": [],
   "source": [
    "t = (\"Hello\", \"World\")\n",
    "type(t)"
   ]
  },
  {
   "cell_type": "code",
   "execution_count": null,
   "metadata": {},
   "outputs": [],
   "source": [
    "len(t)"
   ]
  },
  {
   "cell_type": "code",
   "execution_count": null,
   "metadata": {},
   "outputs": [],
   "source": [
    "t[0]"
   ]
  },
  {
   "cell_type": "markdown",
   "metadata": {},
   "source": [
    "##### Set"
   ]
  },
  {
   "cell_type": "markdown",
   "metadata": {},
   "source": [
    "Reference: https://www.w3schools.com/python/python_sets.asp"
   ]
  },
  {
   "cell_type": "markdown",
   "metadata": {},
   "source": [
    "Sets are collections that do not contain duplicates.\n",
    "And they get created by using `{ }`.\n",
    "*Please note: Dicitonaries (below) also use curly brackets.\n",
    "This means, a set always needs a value when constructing.\n",
    "Otherwise, Python assumes it's an empty dictionary.*"
   ]
  },
  {
   "cell_type": "code",
   "execution_count": null,
   "metadata": {},
   "outputs": [],
   "source": [
    "s = {42, 1337, 13.37}\n",
    "type(s)"
   ]
  },
  {
   "cell_type": "code",
   "execution_count": null,
   "metadata": {},
   "outputs": [],
   "source": [
    "s.add(42) # this won't change the set\n",
    "len(s)"
   ]
  },
  {
   "cell_type": "markdown",
   "metadata": {},
   "source": [
    "You can pretty easily check if a value is part of the set.\n",
    "Just use the keyword `in` inbetween the value and set."
   ]
  },
  {
   "cell_type": "code",
   "execution_count": null,
   "metadata": {},
   "outputs": [],
   "source": [
    "42 in s "
   ]
  },
  {
   "cell_type": "markdown",
   "metadata": {},
   "source": [
    "You can even check if a subset is part of a set."
   ]
  },
  {
   "cell_type": "code",
   "execution_count": null,
   "metadata": {},
   "outputs": [],
   "source": [
    "{1337, 42}.issubset(s)"
   ]
  },
  {
   "cell_type": "markdown",
   "metadata": {},
   "source": [
    "Or the other way around."
   ]
  },
  {
   "cell_type": "code",
   "execution_count": null,
   "metadata": {},
   "outputs": [],
   "source": [
    "s.issuperset({42, 13.37})"
   ]
  },
  {
   "cell_type": "code",
   "execution_count": null,
   "metadata": {},
   "outputs": [],
   "source": [
    "s.remove(13.37)\n",
    "13.37 in s"
   ]
  },
  {
   "cell_type": "markdown",
   "metadata": {},
   "source": [
    "##### Dictionary"
   ]
  },
  {
   "cell_type": "markdown",
   "metadata": {},
   "source": [
    "Reference: https://www.w3schools.com/python/python_dictionaries.asp"
   ]
  },
  {
   "cell_type": "markdown",
   "metadata": {},
   "source": [
    "Dictionaries are a collection of key-value pairs.\n",
    "And they are created by using `{ }`."
   ]
  },
  {
   "cell_type": "code",
   "execution_count": null,
   "metadata": {},
   "outputs": [],
   "source": [
    "dict = {}\n",
    "type(dict)"
   ]
  },
  {
   "cell_type": "markdown",
   "metadata": {},
   "source": [
    "And it does not matter what you use as keys and values.\n",
    "You can throw everything together."
   ]
  },
  {
   "cell_type": "code",
   "execution_count": null,
   "metadata": {},
   "outputs": [],
   "source": [
    "dict = {\"key\": \"value\", \"answer\": 42, 1337: \"leet\"}"
   ]
  },
  {
   "cell_type": "code",
   "execution_count": null,
   "metadata": {},
   "outputs": [],
   "source": [
    "dict[\"key\"]"
   ]
  },
  {
   "cell_type": "code",
   "execution_count": null,
   "metadata": {},
   "outputs": [],
   "source": [
    "dict[\"answer\"]"
   ]
  },
  {
   "cell_type": "code",
   "execution_count": null,
   "metadata": {},
   "outputs": [],
   "source": [
    "dict[1337]"
   ]
  },
  {
   "cell_type": "markdown",
   "metadata": {},
   "source": [
    "Adding and removing values is a bit different than when working with lists.\n",
    "There are no special functions for this."
   ]
  },
  {
   "cell_type": "code",
   "execution_count": null,
   "metadata": {},
   "outputs": [],
   "source": [
    "dict[42] = \"the answer\"\n",
    "len(dict)"
   ]
  },
  {
   "cell_type": "code",
   "execution_count": null,
   "metadata": {},
   "outputs": [],
   "source": [
    "dict[42]"
   ]
  },
  {
   "cell_type": "code",
   "execution_count": null,
   "metadata": {},
   "outputs": [],
   "source": [
    "del dict[\"answer\"]\n",
    "len(dict)"
   ]
  },
  {
   "cell_type": "markdown",
   "metadata": {},
   "source": [
    "##### Range"
   ]
  },
  {
   "cell_type": "markdown",
   "metadata": {},
   "source": [
    "Reference: https://www.w3schools.com/python/ref_func_range.asp"
   ]
  },
  {
   "cell_type": "markdown",
   "metadata": {},
   "source": [
    "The last type we will look at are ranges.\n",
    "They are a pretty cool feature of Python to generate ranges of values."
   ]
  },
  {
   "cell_type": "code",
   "execution_count": null,
   "metadata": {},
   "outputs": [],
   "source": [
    "r = range(5)\n",
    "r"
   ]
  },
  {
   "cell_type": "markdown",
   "metadata": {},
   "source": [
    "When created, they won't get executed, but are prepared to return values."
   ]
  },
  {
   "cell_type": "code",
   "execution_count": null,
   "metadata": {},
   "outputs": [],
   "source": [
    "list(r)"
   ]
  },
  {
   "cell_type": "markdown",
   "metadata": {},
   "source": [
    "And we can create more complex ranges.\n",
    "The `range()` function is defined as `range(start, end, step)`.\n",
    "You always have to provide an *end* value. *start* is 0 by default, and *step* is 1 if not specified otherwise."
   ]
  },
  {
   "cell_type": "code",
   "execution_count": null,
   "metadata": {},
   "outputs": [],
   "source": [
    "odd = range(1,10,2)\n",
    "list(odd)"
   ]
  },
  {
   "cell_type": "markdown",
   "metadata": {},
   "source": [
    "#### If...Else"
   ]
  },
  {
   "cell_type": "markdown",
   "metadata": {},
   "source": [
    "Reference: https://www.w3schools.com/python/python_conditions.asp"
   ]
  },
  {
   "cell_type": "markdown",
   "metadata": {},
   "source": [
    "No programming language can work without if and else.\n",
    "In Python, it is defined like the following example.\n",
    "Note, that you don't need to encapsulate the expression that should be evaluated with brackets.\n",
    "But don't forget the `:` at the end of every check."
   ]
  },
  {
   "cell_type": "code",
   "execution_count": null,
   "metadata": {},
   "outputs": [],
   "source": [
    "value = 42\n",
    "if value < 42:\n",
    "    print(\"WRONG\")\n",
    "elif value > 42:\n",
    "    print(\"Also WRONG\")\n",
    "else:\n",
    "    print(\"Yep\")"
   ]
  },
  {
   "cell_type": "markdown",
   "metadata": {},
   "source": [
    "#### Loops"
   ]
  },
  {
   "cell_type": "markdown",
   "metadata": {},
   "source": [
    "Python offers you two different possibilities to loop through collections.\n",
    "For one, there is the `while` loop (https://www.w3schools.com/python/python_while_loops.asp)."
   ]
  },
  {
   "cell_type": "code",
   "execution_count": null,
   "metadata": {},
   "outputs": [],
   "source": [
    "loop = 0\n",
    "while loop < 4:\n",
    "    print(loop)\n",
    "    loop += 1"
   ]
  },
  {
   "cell_type": "markdown",
   "metadata": {},
   "source": [
    "The other would be the `for` loop (https://www.w3schools.com/python/python_for_loops.asp).\n",
    "But it's a bit different than what you probably expect.\n",
    "Maybe you are familiar with *foreach* of C# or the foreach approach of Java.\n",
    "Because, the `for` loop in Python is a foreach loop rather than an index-based mechanism."
   ]
  },
  {
   "cell_type": "code",
   "execution_count": null,
   "metadata": {},
   "outputs": [],
   "source": [
    "items = [\"This\", \"is\", \"a\", \"list\"]\n",
    "for item in items:\n",
    "    print(item)"
   ]
  },
  {
   "cell_type": "markdown",
   "metadata": {},
   "source": [
    "As you can see, we simply iterate through all the values within a collection.\n",
    "But we can still rebuild an index-based for loop that you might know.\n",
    "We just use `range()` to generate the indices."
   ]
  },
  {
   "cell_type": "code",
   "execution_count": null,
   "metadata": {},
   "outputs": [],
   "source": [
    "for i in range(len(items)):\n",
    "    print(items[i])"
   ]
  },
  {
   "cell_type": "markdown",
   "metadata": {},
   "source": [
    "#### Functions"
   ]
  },
  {
   "cell_type": "markdown",
   "metadata": {},
   "source": [
    "Reference: https://www.w3schools.com/python/python_functions.asp"
   ]
  },
  {
   "cell_type": "markdown",
   "metadata": {},
   "source": [
    "Functions in Python are indented code that is below a `def` keyword, a function name and an optional number of parameters.\n",
    "You can call the function by using the name and using values as arguments."
   ]
  },
  {
   "cell_type": "code",
   "execution_count": null,
   "metadata": {},
   "outputs": [],
   "source": [
    "def addOne(v):\n",
    "    return v + 1\n",
    "\n",
    "addOne(2)"
   ]
  },
  {
   "cell_type": "markdown",
   "metadata": {},
   "source": [
    "As you see, you don't have to specify a return type of your function.\n",
    "You just return the result by using the keyword `return`.\n",
    "If you don't return any value from a function, Python will still return a value.\n",
    "In this case, it will be `None`."
   ]
  },
  {
   "cell_type": "code",
   "execution_count": null,
   "metadata": {},
   "outputs": [],
   "source": [
    "def doNothing():\n",
    "    pass\n",
    "\n",
    "r = doNothing()\n",
    "print(r)"
   ]
  },
  {
   "cell_type": "markdown",
   "metadata": {},
   "source": [
    "#### Lambdas"
   ]
  },
  {
   "cell_type": "markdown",
   "metadata": {},
   "source": [
    "Reference: https://www.w3schools.com/python/python_lambda.asp"
   ]
  },
  {
   "cell_type": "markdown",
   "metadata": {},
   "source": [
    "Lambdas are a shorthand to write simple functions.\n",
    "The syntax is the following:\n",
    "\n",
    "`lambda arguments : expression`\n",
    "\n",
    "And the usage is the same as with a function."
   ]
  },
  {
   "cell_type": "code",
   "execution_count": null,
   "metadata": {},
   "outputs": [],
   "source": [
    "double = lambda v : v * 2\n",
    "\n",
    "double(4)"
   ]
  },
  {
   "cell_type": "code",
   "execution_count": null,
   "metadata": {},
   "outputs": [],
   "source": [
    "add = lambda lhs, rhs : lhs + rhs\n",
    "\n",
    "add(4,2)"
   ]
  },
  {
   "cell_type": "markdown",
   "metadata": {},
   "source": [
    "We could even use lambdas as return values of a function."
   ]
  },
  {
   "cell_type": "code",
   "execution_count": null,
   "metadata": {},
   "outputs": [],
   "source": [
    "def multiplyFunc(f):\n",
    "    return lambda n : n * f\n",
    "\n",
    "multiplyBy5 = multiplyFunc(5)\n",
    "print(multiplyBy5(5))\n",
    "\n",
    "multiplyBy3 = multiplyFunc(3)\n",
    "print(multiplyBy3(2))"
   ]
  },
  {
   "cell_type": "code",
   "execution_count": null,
   "metadata": {},
   "outputs": [],
   "source": [
    "multiplyFunc(5)(3)"
   ]
  },
  {
   "cell_type": "markdown",
   "metadata": {},
   "source": [
    "#### Generators"
   ]
  },
  {
   "cell_type": "markdown",
   "metadata": {},
   "source": [
    "Reference: https://wiki.python.org/moin/Generators"
   ]
  },
  {
   "cell_type": "markdown",
   "metadata": {},
   "source": [
    "Another powerful feature that is built into Python are so called *generator functions*.\n",
    "They offer a compact form to build list containing calculated values."
   ]
  },
  {
   "cell_type": "markdown",
   "metadata": {},
   "source": [
    "For example, let's say we want a list of the squares from 1 to 15."
   ]
  },
  {
   "cell_type": "code",
   "execution_count": null,
   "metadata": {},
   "outputs": [],
   "source": [
    "squares15 = [v**2 for v in range(1,16)]\n",
    "squares15"
   ]
  },
  {
   "cell_type": "markdown",
   "metadata": {},
   "source": [
    "Or we want all numbers 3 above than all even numbers that are divisable by 9 and 7 between 0 and 1000."
   ]
  },
  {
   "cell_type": "code",
   "execution_count": null,
   "metadata": {},
   "outputs": [],
   "source": [
    "evenBy9and7 = [x + 3 for x in range(1001) if x % 2 == 0 and x % 9 == 0 and x % 7 == 0]\n",
    "evenBy9and7"
   ]
  },
  {
   "cell_type": "markdown",
   "metadata": {},
   "source": [
    "#### Classes"
   ]
  },
  {
   "cell_type": "markdown",
   "metadata": {},
   "source": [
    "We won't go big into classes.\n",
    "But we just want to show how a class is structured, so you know what's under the hood because you will be working with classes.\n",
    "\n",
    "A class definition is indicated with the `class` keyword followed by the class name.\n",
    "Usually, there is also a __init__ function defined which is the constructor of the class.\n",
    "Functions within a class are defined the same way as you have seen previously.\n",
    "The difference when using classes, is the `self` parameter.\n",
    "You may know the *this* keyword from other programming languages.\n",
    "`self` is exactly that for Python classes.\n",
    "The difference is just that you have to define it as parameter per function.\n",
    "\n",
    "Since Python doesn't know modifiers (e.g. private, public, etc), there are naming conventions in place to indicate what chould be called from the outside and what is for internal use only.\n",
    "By definition, everything is public.\n",
    "But if a field or function name starts with a `_`, it is considered private.\n",
    "And should therefore not be called from outside of the class."
   ]
  },
  {
   "cell_type": "code",
   "execution_count": null,
   "metadata": {},
   "outputs": [],
   "source": [
    "class Student:\n",
    "    def __init__(self, id, name): # this is the constructor creating private fields\n",
    "        self._id = id\n",
    "        self._name = name;\n",
    "    \n",
    "    def getId(self): # this is a public method\n",
    "        return self._id\n",
    "    \n",
    "    def getName(self):\n",
    "        return self._name"
   ]
  },
  {
   "cell_type": "markdown",
   "metadata": {},
   "source": [
    "You can now creating an instance of `Student` by calling the constructor the following way."
   ]
  },
  {
   "cell_type": "code",
   "execution_count": null,
   "metadata": {},
   "outputs": [],
   "source": [
    "stud = Student(42, \"Johnny\")\n",
    "print(stud.getName())"
   ]
  },
  {
   "cell_type": "markdown",
   "metadata": {},
   "source": [
    "As said, we can still access everything.\n",
    "Thus, we are not enforced to use the `getId()` function but can directly access to `_id` field instead."
   ]
  },
  {
   "cell_type": "code",
   "execution_count": null,
   "metadata": {},
   "outputs": [],
   "source": [
    "stud._id"
   ]
  },
  {
   "cell_type": "markdown",
   "metadata": {},
   "source": [
    "#### Working with Modules"
   ]
  },
  {
   "cell_type": "markdown",
   "metadata": {},
   "source": [
    "The last thing you need to know about Python, is how to load modules.\n",
    "Python offers a vast amount of powerful libraries.\n",
    "But up to now in this notebook, we only used the basic features that the Python language offers."
   ]
  },
  {
   "cell_type": "markdown",
   "metadata": {},
   "source": [
    "For example, if we want to calculate the square root of a value, we need to import the function first.\n",
    "To do this, we use the keyword `import` followed by the name of the module (and a possible path where the module is found)."
   ]
  },
  {
   "cell_type": "code",
   "execution_count": null,
   "metadata": {},
   "outputs": [],
   "source": [
    "import math\n",
    "math.sqrt(3)"
   ]
  },
  {
   "cell_type": "markdown",
   "metadata": {},
   "source": [
    "Since some modules have long names or are used quite often, we can assign an alias, so it's handier to work with a module."
   ]
  },
  {
   "cell_type": "code",
   "execution_count": null,
   "metadata": {},
   "outputs": [],
   "source": [
    "import random as rnd\n",
    "rnd.seed(42) # random numbers are pseudo-random, setting a seed will \"ensure\" always getting the same result\n",
    "[rnd.randint(0,100) for _ in range(10)]"
   ]
  },
  {
   "cell_type": "markdown",
   "metadata": {},
   "source": [
    "That's about it.\n",
    "Now it's your turn to do a bit of coding.\n",
    "Next week, we'll have a look as the basic libraries we will use during this course."
   ]
  },
  {
   "cell_type": "markdown",
   "metadata": {},
   "source": [
    "## Exercises"
   ]
  },
  {
   "cell_type": "markdown",
   "metadata": {},
   "source": [
    "### Ex00 - Test"
   ]
  },
  {
   "cell_type": "markdown",
   "metadata": {},
   "source": [
    "Assign the number 42 to a variable *answer* and print it."
   ]
  },
  {
   "cell_type": "code",
   "execution_count": null,
   "metadata": {},
   "outputs": [],
   "source": []
  },
  {
   "cell_type": "markdown",
   "metadata": {},
   "source": [
    "#### Solution"
   ]
  },
  {
   "cell_type": "code",
   "execution_count": null,
   "metadata": {},
   "outputs": [],
   "source": [
    "# %load ./Ex01_00_Sol.py"
   ]
  },
  {
   "cell_type": "markdown",
   "metadata": {},
   "source": [
    "### Ex01 - Ranges"
   ]
  },
  {
   "cell_type": "markdown",
   "metadata": {},
   "source": [
    "Create a list of all numbers from 0 to 10."
   ]
  },
  {
   "cell_type": "code",
   "execution_count": null,
   "metadata": {},
   "outputs": [],
   "source": []
  },
  {
   "cell_type": "markdown",
   "metadata": {},
   "source": [
    "Create a list of all even numbers from 0 to 10."
   ]
  },
  {
   "cell_type": "code",
   "execution_count": null,
   "metadata": {},
   "outputs": [],
   "source": []
  },
  {
   "cell_type": "markdown",
   "metadata": {},
   "source": [
    "Create a list of all odd numbers from 0 to 10."
   ]
  },
  {
   "cell_type": "code",
   "execution_count": null,
   "metadata": {},
   "outputs": [],
   "source": []
  },
  {
   "cell_type": "markdown",
   "metadata": {},
   "source": [
    "Create a list with the numbers from 20 to 10."
   ]
  },
  {
   "cell_type": "code",
   "execution_count": null,
   "metadata": {},
   "outputs": [],
   "source": []
  },
  {
   "cell_type": "markdown",
   "metadata": {},
   "source": [
    "Create a list of numbers from 45 to 75 that are divisable by 5."
   ]
  },
  {
   "cell_type": "code",
   "execution_count": null,
   "metadata": {},
   "outputs": [],
   "source": []
  },
  {
   "cell_type": "markdown",
   "metadata": {},
   "source": [
    "#### Solutions"
   ]
  },
  {
   "cell_type": "code",
   "execution_count": null,
   "metadata": {},
   "outputs": [],
   "source": [
    "# %load ./Ex01_01_Sol.py"
   ]
  },
  {
   "cell_type": "markdown",
   "metadata": {},
   "source": [
    "### Ex02 - Generators"
   ]
  },
  {
   "cell_type": "markdown",
   "metadata": {},
   "source": [
    "Create a list of all numbers from 0 to 10."
   ]
  },
  {
   "cell_type": "code",
   "execution_count": null,
   "metadata": {},
   "outputs": [],
   "source": []
  },
  {
   "cell_type": "markdown",
   "metadata": {},
   "source": [
    "Create a list of all even numbers from 0 to 10."
   ]
  },
  {
   "cell_type": "code",
   "execution_count": null,
   "metadata": {},
   "outputs": [],
   "source": []
  },
  {
   "cell_type": "markdown",
   "metadata": {},
   "source": [
    "Create a list of all odd numbers from 0 to 10."
   ]
  },
  {
   "cell_type": "code",
   "execution_count": null,
   "metadata": {},
   "outputs": [],
   "source": []
  },
  {
   "cell_type": "markdown",
   "metadata": {},
   "source": [
    "Create a list of all square from 0 to 10."
   ]
  },
  {
   "cell_type": "code",
   "execution_count": null,
   "metadata": {},
   "outputs": [],
   "source": []
  },
  {
   "cell_type": "markdown",
   "metadata": {},
   "source": [
    "Create a list of all square roots from 0 to 10."
   ]
  },
  {
   "cell_type": "code",
   "execution_count": null,
   "metadata": {},
   "outputs": [],
   "source": []
  },
  {
   "cell_type": "markdown",
   "metadata": {},
   "source": [
    "Create a list of all values divisable by 3 and 5 from 0 to 100."
   ]
  },
  {
   "cell_type": "code",
   "execution_count": null,
   "metadata": {},
   "outputs": [],
   "source": []
  },
  {
   "cell_type": "markdown",
   "metadata": {},
   "source": [
    "Create a list of 5 random integers between 0 and 1000."
   ]
  },
  {
   "cell_type": "code",
   "execution_count": null,
   "metadata": {},
   "outputs": [],
   "source": []
  },
  {
   "cell_type": "markdown",
   "metadata": {},
   "source": [
    "#### Solutions"
   ]
  },
  {
   "cell_type": "code",
   "execution_count": null,
   "metadata": {},
   "outputs": [],
   "source": [
    "# %load ./Ex01_02_Sol.py"
   ]
  },
  {
   "cell_type": "markdown",
   "metadata": {},
   "source": [
    "### Ex03 - Lambdas"
   ]
  },
  {
   "cell_type": "markdown",
   "metadata": {},
   "source": [
    "Create a lambda that adds 5 to a given number."
   ]
  },
  {
   "cell_type": "code",
   "execution_count": null,
   "metadata": {},
   "outputs": [],
   "source": []
  },
  {
   "cell_type": "markdown",
   "metadata": {},
   "source": [
    "Create a lambda that squares numbers."
   ]
  },
  {
   "cell_type": "code",
   "execution_count": null,
   "metadata": {},
   "outputs": [],
   "source": []
  },
  {
   "cell_type": "markdown",
   "metadata": {},
   "source": [
    "Create a lambda that returns the next bigger integer of the given value."
   ]
  },
  {
   "cell_type": "code",
   "execution_count": null,
   "metadata": {},
   "outputs": [],
   "source": []
  },
  {
   "cell_type": "markdown",
   "metadata": {},
   "source": [
    "Create a lambda that returns the next lower integer of half the value provided."
   ]
  },
  {
   "cell_type": "code",
   "execution_count": null,
   "metadata": {},
   "outputs": [],
   "source": []
  },
  {
   "cell_type": "markdown",
   "metadata": {},
   "source": [
    "Create a lambda that takes a divisor (the number beneath the fraction bar) and returns a lambda that takes the dividend (the number above the faction bar)."
   ]
  },
  {
   "cell_type": "code",
   "execution_count": null,
   "metadata": {},
   "outputs": [],
   "source": []
  },
  {
   "cell_type": "markdown",
   "metadata": {},
   "source": [
    "#### Solutions"
   ]
  },
  {
   "cell_type": "code",
   "execution_count": null,
   "metadata": {},
   "outputs": [],
   "source": [
    "# %load ./Ex01_03_Sol.py"
   ]
  },
  {
   "cell_type": "markdown",
   "metadata": {},
   "source": [
    "### Ex04 - Functions"
   ]
  },
  {
   "cell_type": "markdown",
   "metadata": {},
   "source": [
    "Define a function that sums a list of values."
   ]
  },
  {
   "cell_type": "code",
   "execution_count": null,
   "metadata": {},
   "outputs": [],
   "source": []
  },
  {
   "cell_type": "markdown",
   "metadata": {},
   "source": [
    "Define a function that squares a list of values and returns a dictionary where the value is the key in the dictionary and the square is the value in the dictionary (e.g. 5 --> dict[5] == 25)."
   ]
  },
  {
   "cell_type": "code",
   "execution_count": null,
   "metadata": {},
   "outputs": [],
   "source": []
  },
  {
   "cell_type": "markdown",
   "metadata": {},
   "source": [
    "Define a function that applies a lambda on all items of a list and returns a new list."
   ]
  },
  {
   "cell_type": "code",
   "execution_count": null,
   "metadata": {},
   "outputs": [],
   "source": []
  },
  {
   "cell_type": "markdown",
   "metadata": {},
   "source": [
    "#### Solutions"
   ]
  },
  {
   "cell_type": "code",
   "execution_count": null,
   "metadata": {},
   "outputs": [],
   "source": [
    "# %load ./Ex01_04_Sol.py"
   ]
  }
 ],
 "metadata": {
  "kernelspec": {
   "display_name": "Python 3",
   "language": "python",
   "name": "python3"
  },
  "language_info": {
   "codemirror_mode": {
    "name": "ipython",
    "version": 3
   },
   "file_extension": ".py",
   "mimetype": "text/x-python",
   "name": "python",
   "nbconvert_exporter": "python",
   "pygments_lexer": "ipython3",
   "version": "3.7.7"
  }
 },
 "nbformat": 4,
 "nbformat_minor": 4
}
